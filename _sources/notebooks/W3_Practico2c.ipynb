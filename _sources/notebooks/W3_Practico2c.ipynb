{
 "cells": [
  {
   "cell_type": "markdown",
   "metadata": {},
   "source": [
    "# Práctico 2c: Neurona de Izhikevich"
   ]
  },
  {
   "cell_type": "markdown",
   "metadata": {},
   "source": [
    "## Configuración\n",
    "\n",
    "Ejecutá las siguientes celdas para configurar el entorno del notebook"
   ]
  },
  {
   "cell_type": "code",
   "execution_count": null,
   "metadata": {},
   "outputs": [],
   "source": [
    "import numpy as np\n",
    "import matplotlib.pylab as plt\n",
    "import ipywidgets as widgets"
   ]
  },
  {
   "cell_type": "markdown",
   "metadata": {},
   "source": [
    "### Funciones utilitarias"
   ]
  },
  {
   "cell_type": "code",
   "execution_count": null,
   "metadata": {},
   "outputs": [],
   "source": [
    "def I_inj(t, amp):\n",
    "  \"\"\"Crea una función de corriente inyectada con un pulsos cuadrado.\n",
    "\n",
    "  Args:\n",
    "    t (ndarray): vector 1D de tiempos (ms), estrictamente creciente.\n",
    "    amp (float): amplitud del pulso, en uA/cm^2.\n",
    "\n",
    "  Returns:\n",
    "    function: una función I(t) que devuelve la corriente inyectada I(t).\n",
    "  \"\"\"\n",
    "  tmax = np.max(t)\n",
    "  inicios = np.linspace(0, tmax, 8)\n",
    "  inicio = inicios[1]\n",
    "  fin = inicios[6]\n",
    "  \n",
    "  def I(t):\n",
    "    return amp * (t > inicio) - amp * (t > fin)\n",
    "\n",
    "  return I"
   ]
  },
  {
   "cell_type": "markdown",
   "metadata": {},
   "source": [
    "### Funciones de graficado"
   ]
  },
  {
   "cell_type": "code",
   "execution_count": null,
   "metadata": {},
   "outputs": [],
   "source": [
    "def plot_izikhevich(t, I, V, u):\n",
    "  \"\"\"Grafica la dinámica del modelo de Izikhevich.\n",
    "\n",
    "  Args:\n",
    "    t (ndarray): vector 1D de tiempos (ms), estrictamente creciente y con paso uniforme.\n",
    "    I (function): función escalar I(t) que devuelve la corriente externa (mA) en cada t.\n",
    "    V (ndarray): potencial de membrana.\n",
    "    u (ndarray): variable de recobro.\n",
    "  \"\"\"\n",
    "  fig, [ax1, ax2, ax3] = plt.subplots(3, 1, figsize=(8, 6), gridspec_kw={\"height_ratios\": [3, 2, 1]}, sharex=True)\n",
    "\n",
    "  ax1.plot(t, V)\n",
    "  ax1.set_ylim(-100, 50)\n",
    "  ax1.set_ylabel(\"V (mV)\")\n",
    "  ax1.grid(True)\n",
    "  \n",
    "  ax2.plot(t, u)\n",
    "  ax2.set_ylim(-20, 20)\n",
    "  ax2.set_ylabel(\"u\")\n",
    "  ax2.grid(True)\n",
    "  \n",
    "  ax3.plot(t, I(t))\n",
    "  ax3.set_ylim(-20, 20)  \n",
    "  ax3.set_ylabel(\"I (mA)\")\n",
    "  ax3.set_xlabel(\"t (ms)\")\n",
    "  \n",
    "  plt.show()"
   ]
  },
  {
   "cell_type": "markdown",
   "metadata": {},
   "source": [
    "## Definición del modelo\n",
    "\n",
    "Izhikevich (2003) propuso un modelo simple de neurona que se describe con dos ecuaciones diferenciales acopladas. Una para el potencial de membrana $v$ y otra para el valor de recobro $u$:\n",
    "\n",
    "$$\\dfrac{dv(t)}{dt} = 0.04 v^2(t) + 5 v(t) + 140 - u + I(t)$$\n",
    "$$\\dfrac{du(t)}{dt} = a(bv - u)$$\n",
    "\n",
    "En conjunto con las condiciones de reestablecimiento:\n",
    "\n",
    "$$v(v > \\theta) = c$$\n",
    "$$u(v > \\theta) = u + d$$\n",
    "\n",
    "Este modelo cumple con el requisito de ser computacionalmente eficiente y además de producir un variado abanico de patrones de disparos observados en neuronas corticales. \n",
    "\n",
    "### Rol de los parámetros en el modelo de Izhikevich\n",
    "\n",
    "El modelo de Izhikevich utiliza cuatro parámetros principales (a, b, c, d) para modelar una amplia variedad de comportamientos neuronales.\n",
    "\n",
    "Aquí se describe el rol de cada parámetro:\n",
    "\n",
    "* **`a`**: Controla la **velocidad de recuperación** de la variable de adaptación `u`. Valores bajos de `a`  hacen que la neurona se recupere lentamente después de un pico, mientras que valores altos producen una recuperación rápida. Esto influye en la frecuencia de disparo de la neurona.\n",
    "\n",
    "* **`b`**:  Describe la **sensibilidad** de la variable de adaptación `u` al potencial de membrana `v`.  Valores altos de `b` hacen que la neurona sea más sensible a los cambios en `v`, lo que puede producir comportamientos como el rebote post-inhibitorio.\n",
    "\n",
    "* **`c`**: Representa el **potencial de reinicio** de la membrana después de un pico.  Este valor determina a qué voltaje se restablece la membrana después de que la neurona ha disparado.\n",
    "\n",
    "* **`d`**:  Controla la **recuperación de la variable de adaptación `u`** después de un pico.  Un valor alto de `d`  provoca un aumento rápido en `u` después de un pico, lo que puede influir en la duración del período refractario y la frecuencia de disparo.\n",
    "\n",
    "En resumen, los parámetros `a`, `b`, `c` y `d`  permiten ajustar la dinámica del modelo de Izhikevich para reproducir una amplia gama de comportamientos neuronales, como disparos tónicos, ráfagas, rebotes post-inhibitorios, y más.\n",
    "\n",
    "Ajustar estos parámetros de manera precisa es crucial para simular neuronas específicas y para estudiar la dinámica de las redes neuronales."
   ]
  },
  {
   "cell_type": "markdown",
   "metadata": {},
   "source": [
    "### Constantes"
   ]
  },
  {
   "cell_type": "code",
   "execution_count": null,
   "metadata": {},
   "outputs": [],
   "source": [
    "# Condición inicial de la variable de voltaje v(t) en t=0, es decir, valor de v(0), en mV.\n",
    "v0 = -75\n",
    "\n",
    "# Umbral de voltaje para el recobro, en mV\n",
    "threshold = 30"
   ]
  },
  {
   "cell_type": "markdown",
   "metadata": {},
   "source": [
    "### Integración"
   ]
  },
  {
   "cell_type": "code",
   "execution_count": null,
   "metadata": {},
   "outputs": [],
   "source": [
    "def vdot(v, u, I):\n",
    "  return (0.04 * v + 5) * v + 140 - u + I\n",
    "\n",
    "def udot(u, v, a, b):\n",
    "  return a * (b * v - u)\n",
    "  \n",
    "def integrate_izikhevich(t, I, a=0.02, b=0.2, c=-65, d=2):\n",
    "  # Condición inicial de la variable de recobro u(t) en t=0, es decir, valor de v(0).\n",
    "  u0 = v0 * b\n",
    "  \n",
    "  # Variable de voltaje\n",
    "  v = [v0]\n",
    "  \n",
    "  # Variable de recobro\n",
    "  u = [u0]\n",
    "\n",
    "  # Calculamos el valor de salto en el tiempo\n",
    "  dt = t[1] - t[0]\n",
    "  \n",
    "  # Integramos con el método de Euler\n",
    "  for step in t[:-1]:\n",
    "    if v[-1] < threshold:\n",
    "      v = np.append(v, v[-1] + dt * vdot(v[-1], u[-1], I(step)))\n",
    "      u = np.append(u, u[-1] + dt * udot(u[-1], v[-1], a, b))\n",
    "    else:\n",
    "      v[-1] = threshold\n",
    "      v = np.append(v, c)\n",
    "      u = np.append(u, u[-1] + d)\n",
    "  return v, u"
   ]
  },
  {
   "cell_type": "markdown",
   "metadata": {},
   "source": [
    "## Simulación del modelo\n",
    "\n",
    "Veamos como hacerlo en Python integrando estas ecuaciones diferenciales utilizando el método de Euler segun vimos en el Cuaderno 3:"
   ]
  },
  {
   "cell_type": "code",
   "execution_count": null,
   "metadata": {
    "id": "CF39CrQXlq0n"
   },
   "outputs": [],
   "source": [
    "# I_iny: Amplitud de la corriente inyectada, en mA\n",
    "# a, b, c, d: Parametros del modelo de Izhikhevich\n",
    "@widgets.interact(amp=(-10, 10, 0.1), a=(0, 0.2, 0.01), b=(0, 0.2, 0.01), c=(-75, -50, 0.1), d=(0, 10, 0.1))\n",
    "def simulate(amp=10, a=0.02, b=0.2, c=-65, d=2):\n",
    "  t = np.arange(0, 200, 0.05)\n",
    "  I = I_inj(t, amp)\n",
    "  V, u = integrate_izikhevich(t, I, a, b, c, d)\n",
    "  plot_izikhevich(t, I, V, u)"
   ]
  },
  {
   "cell_type": "markdown",
   "metadata": {},
   "source": [
    "## Simulaciones de la neurona de Izhikevich\n",
    "\n",
    "Veamos que sucede cuando inyectamos una corriente constante de $I_{iny}=10mA$ durante $200{ms}$ usando los siguientes parámetros:\n",
    "\n",
    "$\\begin{split} a &= 0.02 \\\\ b &= 0.2 \\\\ c &= -65 \\\\ d &= 2 \\end{split}$\n",
    "\n",
    "*Nota: Siempre integramos con $\\Delta t=0.5$*"
   ]
  },
  {
   "cell_type": "code",
   "execution_count": null,
   "metadata": {},
   "outputs": [],
   "source": [
    "amp = 10\n",
    "t = np.arange(0, 200, 0.05)\n",
    "I = I_inj(t, amp)\n",
    "V, u = integrate_izikhevich(t, I, a=0.02, b=0.2, c=-65, d=2)\n",
    "plot_izikhevich(t, I, V, u)"
   ]
  },
  {
   "cell_type": "markdown",
   "metadata": {},
   "source": [
    "###  Neuronas FS\n",
    "\n",
    "El parámetro $a$ establece la escala temporal de la variable de recobro. Valores pequeños de $a$ llevan a recuperaciones lentas. Veamos que sucede cuando subimos el valor de $a$ sin cambiar los demás parámetros:\n",
    "\n",
    "$a = 0.1$"
   ]
  },
  {
   "cell_type": "code",
   "execution_count": null,
   "metadata": {},
   "outputs": [],
   "source": [
    "amp = 10\n",
    "t = np.arange(0, 200, 0.05)\n",
    "I = I_inj(t, amp)\n",
    "V, u = integrate_izikhevich(t, I, a=0.1)\n",
    "plot_izikhevich(t, I, V, u)"
   ]
  },
  {
   "cell_type": "markdown",
   "metadata": {},
   "source": [
    "### Neuronas RS\n",
    "\n",
    "El valor $d$ describe el reestablecimiento de la variable de recobro.  Veamos que sucede cuando subimos el valor de $d$ sin cambiar los demás parámetros:\n",
    "\n",
    "$d=8$"
   ]
  },
  {
   "cell_type": "code",
   "execution_count": null,
   "metadata": {},
   "outputs": [],
   "source": [
    "amp = 10\n",
    "t = np.arange(0, 200, 0.05)\n",
    "I = I_inj(t, amp)\n",
    "V, u = integrate_izikhevich(t, I, d=8)\n",
    "plot_izikhevich(t, I, V, u)"
   ]
  },
  {
   "cell_type": "markdown",
   "metadata": {},
   "source": [
    "### Neuronas CH\n",
    "\n",
    "El valor $c$ establece el voltaje al que se reestablece la membrana luego de un disparo.  Veamos que sucede cuando subimos el valor de $c$ sin cambiar los demás parámetros:\n",
    "\n",
    "$c=-50$"
   ]
  },
  {
   "cell_type": "code",
   "execution_count": null,
   "metadata": {},
   "outputs": [],
   "source": [
    "amp = 10\n",
    "t = np.arange(0, 200, 0.05)\n",
    "I = I_inj(t, amp)\n",
    "V, u = integrate_izikhevich(t, I, c=-50)\n",
    "plot_izikhevich(t, I, V, u)"
   ]
  },
  {
   "cell_type": "markdown",
   "metadata": {},
   "source": [
    "## Nulclinas\n",
    "\n",
    "Para encontrar las nulclinas del modelo de Izhikevich:\n",
    "\n",
    "$\\begin{split} \n",
    "0 &= 0.04v^2+5v+140-u+I \\\\\n",
    "0 &= a(bv-u)\n",
    "\\end{split}$"
   ]
  },
  {
   "cell_type": "code",
   "execution_count": null,
   "metadata": {},
   "outputs": [],
   "source": [
    "amp = 10 \n",
    "a = 0.2 \n",
    "b = 0.2\n",
    "c = -20 \n",
    "d = -8\n",
    "\n",
    "v = np.arange(-100, 0, 0.5)\n",
    "plt.plot(v, 0.04 * v**2 + 5 * v + 140 + amp)\n",
    "plt.plot(v, b * v)\n",
    "plt.show()"
   ]
  },
  {
   "cell_type": "markdown",
   "metadata": {},
   "source": [
    "## Referencias\n",
    "\n",
    "Izhikevich, E. M. (2003). Simple model of spiking neurons. *IEEE Transactions on Neural Networks*, 14(6), 1569–1572. [doi:10.1109/tnn.2003.820440](https://doi.org/10.1109/TNN.2003.820440)"
   ]
  }
 ],
 "metadata": {
  "colab": {
   "name": "Izikevitch.ipynb",
   "provenance": []
  },
  "kernelspec": {
   "display_name": "Python 3 (ipykernel)",
   "language": "python",
   "name": "python3"
  },
  "language_info": {
   "codemirror_mode": {
    "name": "ipython",
    "version": 3
   },
   "file_extension": ".py",
   "mimetype": "text/x-python",
   "name": "python",
   "nbconvert_exporter": "python",
   "pygments_lexer": "ipython3",
   "version": "3.10.18"
  }
 },
 "nbformat": 4,
 "nbformat_minor": 4
}
