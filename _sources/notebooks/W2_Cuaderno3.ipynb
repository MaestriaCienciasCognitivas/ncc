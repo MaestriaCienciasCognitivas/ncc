{
 "cells": [
  {
   "cell_type": "markdown",
   "id": "ef493f5e-bf2f-43b9-bc20-ea45cad43977",
   "metadata": {},
   "source": [
    "# Cuaderno 3: Métodos numéricos\n",
    "\n",
    "En el cuaderno anterior aprendimos a usar **NumPy** para trabajar con matrices. Ahora vamos a dar un paso más: veremos cómo **aproximar integrales** y cómo resolver problemas donde queremos saber *cómo cambia una cantidad con el tiempo*.\n",
    "\n",
    "Aunque gran parte de la neurociencia puede describirse con matemáticas, una buena parte de las matemáticas que se usan no puede resolverse exactamente. Esto puede parecer muy extraño: que uno pueda escribir algo en términos matemáticos y que no se pueda resolver de inmediato. Para sortear este problema usamos Métodos Numéricos para estimar la solución.\n",
    "\n",
    "No te preocupes si nunca viste cálculo: la idea es entender con ejemplos sencillos, sin necesidad de fórmulas complicadas."
   ]
  },
  {
   "cell_type": "markdown",
   "id": "44149cda-8ae8-44cc-8f46-3acabfe9c4e7",
   "metadata": {},
   "source": [
    "## Configuración\n",
    "\n",
    "Primero, tenemos que preparar el cuaderno cargando algunas librerías de Python que nos van a ayudar a hacer cuentas y dibujar gráficos. Solo corré estas celdas una vez y ya queda listo el entorno."
   ]
  },
  {
   "cell_type": "code",
   "execution_count": null,
   "id": "48f0791c-e55f-482d-90a0-db61a73f6693",
   "metadata": {
    "jupyter": {
     "source_hidden": true
    }
   },
   "outputs": [],
   "source": [
    "import numpy as np\n",
    "import matplotlib.pyplot as plt\n",
    "from scipy.integrate import odeint\n",
    "import ipywidgets as widgets"
   ]
  },
  {
   "cell_type": "markdown",
   "id": "e599673a-2659-4863-80a4-a356f57bd09d",
   "metadata": {},
   "source": [
    "### Funciones de graficado"
   ]
  },
  {
   "cell_type": "code",
   "execution_count": null,
   "id": "812b38a0-f0e0-45f1-bdf4-b4be15544165",
   "metadata": {
    "jupyter": {
     "source_hidden": true
    }
   },
   "outputs": [],
   "source": [
    "def plot_slope(dt):\n",
    "  \"\"\"\n",
    "    Args:\n",
    "      dt  : time-step\n",
    "    Returns:\n",
    "      A figure of an exponential, the slope of the exponential and the derivative exponential\n",
    "  \"\"\"\n",
    "\n",
    "  t = np.arange(0, 5+0.1/2, 0.1)\n",
    "\n",
    "  fig = plt.figure(figsize=(6, 4))\n",
    "  # Exponential\n",
    "  x = np.exp(0.3*t)\n",
    "  plt.plot(t, x, label='x')\n",
    "  # slope\n",
    "  plt.plot([1, 1+dt], [np.exp(0.3*1), np.exp(0.3*(1+dt))],':og',label=r'$\\frac{x(1+\\Delta t)-x(1)}{\\Delta t}$')\n",
    "  # derivative\n",
    "  plt.plot([1, 1+dt], [np.exp(0.3*1), np.exp(0.3*(1))+dt*0.3*np.exp(0.3*(1))],'-k',label=r'$\\frac{dx}{dt}$')\n",
    "  plt.legend()\n",
    "  plt.plot(1+dt, np.exp(0.3*(1+dt)), 'og')\n",
    "  plt.ylabel('x')\n",
    "  plt.xlabel('t')\n",
    "  plt.show()\n",
    "\n",
    "def plot_euler(t, euler, analitica):\n",
    "  # Creamos una fila con espacio para dos gráficas\n",
    "  fig, [ax1, ax2] = plt.subplots(nrows=1, ncols=2, layout='constrained')\n",
    "  \n",
    "  # Graficamos ambas soluciones para poder compararlas, la analítica en azul, y la discreta en rojo\n",
    "  ax1.plot(t, analitica, \"b\")\n",
    "  ax1.plot(t, euler, \"r--\")\n",
    "  \n",
    "  # Graficamos el error a la derecha\n",
    "  ax2.plot(t, (xAna - xEuler) / xAna)\n",
    "  \n",
    "  # Anotamos los colores\n",
    "  ax1.legend(['Solución analítica', 'Método de Euler'])\n",
    "  \n",
    "  # Anotamos los ejes\n",
    "  ax1.set_xlabel(\"t\")\n",
    "  ax1.set_ylabel(\"x\")\n",
    "  ax2.set_xlabel(\"t\")\n",
    "  ax2.set_ylabel(\"error\")\n",
    "  \n",
    "  plt.show()"
   ]
  },
  {
   "cell_type": "markdown",
   "id": "060353c5-3f9a-474c-bd5d-41c351e57e72",
   "metadata": {},
   "source": [
    "## Método de Euler\n",
    "\n",
    "Muchas veces queremos saber cómo una variable cambia con el tiempo. Por ejemplo, cómo se modifica la temperatura de un objeto, o el voltaje de una neurona.\n",
    "\n",
    "El **método de Euler** es una técnica muy sencilla para estimar esos cambios paso a paso. La idea básica es usar la *pendiente* (qué tan rápido cambia algo) para aproximar el valor futuro.\n",
    "\n",
    "Vamos a empezar viendo cómo se relaciona la pendiente con la idea de derivada."
   ]
  },
  {
   "cell_type": "markdown",
   "id": "2974005c-03a9-43c7-8e4c-68a6660118c7",
   "metadata": {},
   "source": [
    "Primero, pensemos en la **pendiente** de una curva: es qué tan inclinada está en un punto. En cálculo, a eso se le llama *derivada*."
   ]
  },
  {
   "cell_type": "code",
   "execution_count": null,
   "id": "18c3ecbf-c226-471b-a56a-a587206911f5",
   "metadata": {},
   "outputs": [],
   "source": [
    "@widgets.interact(dt=(0.0, 4.0, 0.1))\n",
    "def Pop_widget(dt):\n",
    "  plot_slope(dt)"
   ]
  },
  {
   "cell_type": "markdown",
   "id": "827020fe-5b70-401f-bf65-d985b411209f",
   "metadata": {},
   "source": [
    "En vez de calcular derivadas exactas (lo cual puede ser complicado), vamos a aproximarlas con pasos pequeños."
   ]
  },
  {
   "cell_type": "markdown",
   "id": "120db704-6843-4cb0-9ab6-f33702ff58f2",
   "metadata": {},
   "source": [
    "### Ejemplo con constante de tiempo\n",
    "\n",
    "Muchas dinámicas pueden escribirse con una fórmula como esta:\n",
    "\n",
    "$$ \\tau \\dfrac{dx}{dt} = x $$\n",
    "\n",
    "Esto significa que la variable $x$ cambia con el tiempo de manera proporcional a su propio valor. $\\tau$ es una constante que marca qué tan rápido ocurre ese cambio. En realidad, podemos despejar la ecuación diferencial:\n",
    "\n",
    "$$ \\dfrac{dx}{dt} = \\dot x = \\dfrac{x}{\\tau} $$\n",
    "\n",
    "*Nota: Más adelante, en el código Python, usaremos la función `xdot()` para definir a $\\dot{x}$*\n",
    "\n",
    "\n",
    "¿Cómo podemos observar como cambia $x$ el tiempo y contestar, por ejempo, que valor toma $x$ en un instante de tiempo dado?\n",
    "\n",
    "El método de Euler lleva el nombre de Leonhard Euler, quien lo presentó en su libro *Institutionum calculi integralis* (publicado en 1768). Este método se utiliza para aproximar cálculos de integrales de manera numérica. La idea principal es resolver el problema usando cálculos numéricos en lugar de fórmulas exactas.\n",
    "\n",
    "Básicamente, consiste en aproximar la solución utilizando la siguiente fórmula (más abajo, en bonificación, encontrarás una explicación mas detallada):\n",
    "\n",
    "$$x(t + \\Delta t) = x(t) + \\Delta t \\dot x$$\n",
    "\n",
    "Este método iterativo observa cómo cambia $x$ durante un intervalo de tiempo al sumar los cambios uno tras otro. Es el método más básico para realizar integraciones numéricas y se conoce como el *método de Euler*."
   ]
  },
  {
   "cell_type": "code",
   "execution_count": null,
   "id": "4280f231-ed3a-4183-b1ac-005e0e2a30f5",
   "metadata": {},
   "outputs": [],
   "source": [
    "# Condición inicial de x(t) en t=0, es decir, valor de x(0).\n",
    "x0 = 1\n",
    "\n",
    "# Valor de salto en el tiempo\n",
    "dt = 0.1\n",
    "\n",
    "# Constante temporal tau\n",
    "tau = 1\n",
    "\n",
    "# Tiempo máximo que queremos integrar\n",
    "tmax = 3\n",
    "\n",
    "# Definimos la funcion xdot\n",
    "def xdot(x, t):\n",
    "    return x / tau\n",
    "\n",
    "# Periodo de tiempo que queremos observar\n",
    "t = np.arange(0, tmax, dt) \n",
    "\n",
    "# Solución analítica\n",
    "xAna = x0 * np.exp(t / tau)\n",
    "\n",
    "# Solución discreta\n",
    "x = np.array([x0])\n",
    "for step in t:\n",
    "    x = np.append(x, x[-1] + dt * xdot(x[-1], step))\n",
    "xEuler = x[:-1]\n",
    "\n",
    "# Imprimimos los resultados como una tabla\n",
    "print(\"t\\tAnalítica\\tMétodo de Euler\")\n",
    "for i in range(len(t)):\n",
    "    print(f\"{round(t[i], 2)}\\t{round(xAna[i], 2)}\\t\\t{round(xEuler[i], 2)}\")"
   ]
  },
  {
   "cell_type": "markdown",
   "id": "cdc6bdfb-bfe8-4f02-9975-bfd60876698c",
   "metadata": {},
   "source": [
    "Para entender mejor los resultados, es muy útil **dibujarlos en un gráfico**. Así podemos comparar lo que obtenemos con Euler contra la solución exacta (analítica)."
   ]
  },
  {
   "cell_type": "code",
   "execution_count": null,
   "id": "e3ea5f3c-a3cc-4120-a620-22e5a76fb7e4",
   "metadata": {},
   "outputs": [],
   "source": [
    "# Graficamos ambas soluciones para poder compararlas\n",
    "plot_euler(t, xEuler, xAna)"
   ]
  },
  {
   "cell_type": "markdown",
   "id": "ea09ee8b-42f2-49e1-8f19-798ddf0afacc",
   "metadata": {},
   "source": [
    "### Ejemplo de crecimiento poblacional\n",
    "\n",
    "Euler también aplicó su método para estudiar cómo crece una población.\n",
    "\n",
    "Imaginemos una ciudad, o un cultivo de bacterias, donde la cantidad de individuos crece a una tasa proporcional al número que ya existe. La ecuación es:\n",
    "\n",
    "$$ \\dfrac{dx}{dt} = \\dot{x} = r x$$\n",
    "\n",
    "Aquí, $r$ es la tasa de crecimiento, nos indica la dinámica de la población. Ahora, ¿cómo podemos observar como crece la población en el tiempo y contestar, por ejempo, que valor toma la población en un instante de tiempo dado?\n",
    "\n",
    "Vamos a ver cómo cambia la población con el tiempo usando el método de Euler."
   ]
  },
  {
   "cell_type": "code",
   "execution_count": null,
   "id": "2daa5f15-766d-492e-8924-af09af9b8483",
   "metadata": {},
   "outputs": [],
   "source": [
    "# Número inicial de células\n",
    "x0 = 1\n",
    "\n",
    "# Valor de salto en el tiempo\n",
    "dt = 0.1\n",
    "\n",
    "# Tasa de crecimiento poblacional de células por minuto\n",
    "r = 0.03\n",
    "\n",
    "# Tiempo total de la integración en minutos\n",
    "tmax = 150\n",
    "\n",
    "# Definimos la funcion xdot\n",
    "def xdot(x, t):\n",
    "    return x * r\n",
    "\n",
    "# Periodo de tiempo que queremos observar\n",
    "t = np.arange(0, tmax, dt) \n",
    "\n",
    "# Solución analítica\n",
    "xAna = x0 * np.exp(t * r)\n",
    "\n",
    "# Solución discreta\n",
    "x = np.array([x0])\n",
    "for step in t:\n",
    "    x = np.append(x, x[-1] + dt * xdot(x[-1], step))\n",
    "xEuler = x[:-1]\n",
    "\n",
    "plot_euler(t, xEuler, xAna)"
   ]
  },
  {
   "cell_type": "markdown",
   "id": "0a763072-1780-4ecd-a15c-82a355af6c21",
   "metadata": {},
   "source": [
    "## Usando `odeint`\n",
    "\n",
    "El método de Euler es simple, pero no siempre muy preciso: depende mucho del tamaño de paso ($\\Delta t$). Por suerte, existen funciones en Python que hacen este trabajo mejor.\n",
    "\n",
    "Una de ellas es **`odeint`**, que viene en la librería `scipy`. Esta función nos permite resolver ecuaciones diferenciales de manera más automática y precisa."
   ]
  },
  {
   "cell_type": "code",
   "execution_count": null,
   "id": "5519e2cd-ee95-447d-8770-e84cf51d5919",
   "metadata": {},
   "outputs": [],
   "source": [
    "# Condición inicial de x(t) en t=0, es decir, valor de x(0).\n",
    "x0 = 1\n",
    "\n",
    "# Valor de salto en el tiempo\n",
    "dt = 0.5\n",
    "\n",
    "# Constante temporal tau\n",
    "tau = 1\n",
    "\n",
    "# Tiempo máximo que queremos integrar\n",
    "tmax = 3\n",
    "\n",
    "# Definimos la funcion xdot\n",
    "def xdot(x, t):\n",
    "    return x / tau\n",
    "\n",
    "# Periodo de tiempo que queremos observar\n",
    "t = np.arange(0, tmax, dt) \n",
    "\n",
    "# Solución analítica\n",
    "xAna = x0 * np.exp(t / tau)\n",
    "\n",
    "# Solución discreta\n",
    "x = np.array([x0])\n",
    "for step in t:\n",
    "    x = np.append(x, x[-1] + dt * xdot(x[-1], step))\n",
    "xEuler = x[:-1]\n",
    "\n",
    "# Solución discreta con ODEint\n",
    "xODEint = np.squeeze(odeint(xdot, x0, t))\n",
    "\n",
    "# Creamos una fila con espacio para dos gráficas\n",
    "fig, [ax1, ax2] = plt.subplots(nrows=1, ncols=2, layout='constrained')\n",
    "\n",
    "# Graficamos las tres soluciones para poder compararlas\n",
    "ax1.plot(t, xAna, \"b\")\n",
    "ax1.plot(t, xEuler, \"r--\")\n",
    "ax1.plot(t, xODEint, \"y--\")\n",
    "\n",
    "# Graficamos el error a la derecha\n",
    "ax2.plot(t, (xAna - xODEint) / xAna)\n",
    "\n",
    "# Anotamos los colores\n",
    "ax1.legend(['Solución analítica', 'Método de Euler', 'ODEint'])\n",
    "ax2.legend(['Error de ODEint'])\n",
    "\n",
    "# Anotamos los ejes\n",
    "ax1.set_xlabel(\"t\")\n",
    "ax1.set_ylabel(\"x\")\n",
    "ax2.set_xlabel(\"t\")\n",
    "ax2.set_ylabel(\"error\")\n",
    "\n",
    "plt.show()"
   ]
  },
  {
   "cell_type": "markdown",
   "id": "0dd0ee65-cac7-4e90-a2fe-55f1ce71a09a",
   "metadata": {},
   "source": [
    "## Bonificación 1: Ejercicio adicional\n",
    "\n",
    "Queremos resolver la siguiente función:\n",
    "\n",
    "$$ f(x, t) = 1 - x + t $$\n",
    "\n",
    "Su solución exacta es $t + e^{-t}$. Probá resolverla con Euler y compará con la solución analítica."
   ]
  },
  {
   "cell_type": "code",
   "execution_count": null,
   "id": "e30774fe-e26c-47e7-9a9e-677cc69998d1",
   "metadata": {},
   "outputs": [],
   "source": []
  },
  {
   "cell_type": "markdown",
   "id": "8d0778e2-60c5-48b7-bbdc-542eacb7f5f5",
   "metadata": {},
   "source": [
    "## Bonificación 2: Explicación del método de Euler\n",
    "\n",
    "El cambio de una variable $x$ a lo largo de un período de tiempo entre $t$ y $t + \\Delta t$ puede describirse como:\n",
    "\n",
    "$$\\Delta x = x(t + \\Delta t) - x(t)$$\n",
    "\n",
    "Por otro lado, podemos también definir el problema con una ecuación diferencial que describa el cambio de una variable $dx$ en un salto de tiempo infinitesimal $dt$. Esta dinámica contínua puede ser expresada por una función $f(x, t)$ de forma tal que:\n",
    "\n",
    "$$f(x, t) = \\dfrac{dx}{dt} = \\dot{x}$$\n",
    "\n",
    "Si en lugar de tratar el tiempo como algo continuo, lo vemos como una serie de valores discretos que cambian en pasos muy pequeños. De esta forma, podemos aproximar $\\Delta x$ a $dx$ y $\\Delta t$ a $dt$:\n",
    "\n",
    "$$dx = \\Delta x$$\n",
    "\n",
    "$$dy = \\Delta t$$\n",
    "\n",
    "Con esto, las derivadas se convierten en diferencias y las integrales en sumas. Reemplazando estas nuevas equivalencias en las ecuaciónes que ya vimos, nos quedaría:\n",
    "\n",
    "$$f(x, t) = \\dfrac{\\Delta x}{\\Delta t} = \\dfrac{x(t + \\Delta t) - x(t)}{\\Delta t}$$\n",
    "\n",
    "Si despejamos $x(t + \\Delta t)$ obtenemos, finalmente, una forma de calcular $x$ dado para un tiempo $t$ en forma numérica:\n",
    "\n",
    "$$x(t + \\Delta t) = x(t) + \\Delta t f(x(t), t)$$"
   ]
  }
 ],
 "metadata": {
  "kernelspec": {
   "display_name": "Python 3 (ipykernel)",
   "language": "python",
   "name": "python3"
  },
  "language_info": {
   "codemirror_mode": {
    "name": "ipython",
    "version": 3
   },
   "file_extension": ".py",
   "mimetype": "text/x-python",
   "name": "python",
   "nbconvert_exporter": "python",
   "pygments_lexer": "ipython3",
   "version": "3.10.9"
  }
 },
 "nbformat": 4,
 "nbformat_minor": 5
}
