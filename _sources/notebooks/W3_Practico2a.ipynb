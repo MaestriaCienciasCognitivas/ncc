{
 "cells": [
  {
   "cell_type": "markdown",
   "metadata": {},
   "source": [
    "# Práctico 2a: Neurona de Wilson"
   ]
  },
  {
   "cell_type": "markdown",
   "metadata": {},
   "source": [
    "## Configuración\n",
    "\n",
    "Ejecutá las siguientes celdas para configurar el entorno del notebook"
   ]
  },
  {
   "cell_type": "code",
   "execution_count": null,
   "metadata": {},
   "outputs": [],
   "source": [
    "import numpy as np\n",
    "import matplotlib.pylab as plt\n",
    "import ipywidgets as widgets"
   ]
  },
  {
   "cell_type": "markdown",
   "metadata": {},
   "source": [
    "### Funciones utilitarias"
   ]
  },
  {
   "cell_type": "code",
   "execution_count": null,
   "metadata": {},
   "outputs": [],
   "source": [
    "def I_inj(t, amp):\n",
    "  \"\"\"Crea una función de corriente inyectada con un pulsos cuadrado.\n",
    "\n",
    "  Args:\n",
    "    t (ndarray): vector 1D de tiempos (ms), estrictamente creciente.\n",
    "    amp (float): amplitud del pulso, en uA/cm^2.\n",
    "\n",
    "  Returns:\n",
    "    function: una función I(t) que devuelve la corriente inyectada I(t).\n",
    "  \"\"\"\n",
    "  tmax = np.max(t)\n",
    "  inicios = np.linspace(0, tmax, 8)\n",
    "  inicio = inicios[1]\n",
    "  fin = inicios[6]\n",
    "  \n",
    "  def I(t):\n",
    "    return amp * (t > inicio) - amp * (t > fin)\n",
    "\n",
    "  return I"
   ]
  },
  {
   "cell_type": "markdown",
   "metadata": {},
   "source": [
    "### Funciones de graficado"
   ]
  },
  {
   "cell_type": "code",
   "execution_count": null,
   "metadata": {},
   "outputs": [],
   "source": [
    "def plot_wilson(t, I, V, R, T, H):\n",
    "  \"\"\"Grafica la dinámica del modelo de Wilson.\n",
    "\n",
    "  Args:\n",
    "    t (ndarray): vector 1D de tiempos (ms), estrictamente creciente y con paso uniforme.\n",
    "    I (function): función escalar I(t) que devuelve la corriente externa (mA) en cada t.\n",
    "    V (ndarray): potencial de membrana.\n",
    "    R (ndarray): variable de compuerta R.\n",
    "    T (ndarray): variable de compuerta T.\n",
    "    H (ndarray): variable lenta H.\n",
    "  \"\"\"\n",
    "  fig, [ax1, ax2, ax3, ax4, ax5] = plt.subplots(5, 1, figsize=(8, 7), gridspec_kw={\"height_ratios\": [3, 2, 2, 2, 1]}, sharex=True)\n",
    "\n",
    "  ax1.plot(t, V * 100)\n",
    "  ax1.set_ylim(-100, 50)\n",
    "  ax1.set_ylabel(\"V (mV)\")\n",
    "  ax1.grid(True)\n",
    "  \n",
    "  ax2.plot(t, R * 100)\n",
    "  ax2.set_ylim(0, 250)\n",
    "  ax2.set_ylabel(\"R\")\n",
    "  ax2.grid(True)\n",
    "  \n",
    "  ax3.plot(t, T * 100)\n",
    "  ax3.set_ylim(0, 250)\n",
    "  ax3.set_ylabel(\"T\")\n",
    "  ax3.grid(True)\n",
    "  \n",
    "  ax4.plot(t, H * 100)\n",
    "  ax4.set_ylim(0, 250)\n",
    "  ax4.set_ylabel(\"H\")\n",
    "  ax4.grid(True)\n",
    "  \n",
    "  ax5.plot(t, I(t))\n",
    "  ax5.set_ylim(-2, 2)  \n",
    "  ax5.set_ylabel(\"I (mA)\")\n",
    "  ax5.set_xlabel(\"t (ms)\")\n",
    "  \n",
    "  plt.show()"
   ]
  },
  {
   "cell_type": "markdown",
   "metadata": {},
   "source": [
    "## Definición del modelo\n",
    "\n",
    "Wilson (1999) simplificó el modelo de Hodgkin-Huxley con dos ecuaciones diferenciales:\n",
    "\n",
    "$$C \\dfrac{dV}{dt} = -g_K R (V - E_K) - g_{Na}(V) (V - E_{Na}) + I(t)$$\n",
    "\n",
    "$$\\tau_R \\dfrac{dR}{dt} = -[R - R_0(V)]$$\n",
    "\n",
    "Estas ecuaciones aproximan a los mecanismos principales descriptos por Hodgkin y Huxley. Sin embargo, en las neuronas corticales encontramos dos nuevos tipos de canales iónicos esenciales para describir propiedades de disparo diferentes. Para incorporar estos canales, el modelo de Wilson incorpora dos variables dinámicas: $H$ y $T$, por lo que el modelo completo de neuronas corticales de Wilson esta dado por:\n",
    "\n",
    "$$C \\dfrac{dV}{dt} = -g_K R (V - E_K) - g_{Na}(V) (V - E_{Na})- g_T T (V - E_T)- g_H H (V - E_H) + I(t)$$\n",
    "$$\\tau_R \\dfrac{dR}{dt} = -[R - R_0(V)]$$\n",
    "$$\\tau_T \\dfrac{dT}{dt} = -[T - T_0(V)]$$\n",
    "$$\\tau_H \\dfrac{dH}{dt} = -[H - 3 T(V)]$$\n",
    "\n",
    "con parametrizaciones polinómicas de la dependencia de voltaje de las conductancias efectivas:\n",
    "\n",
    "$$g_{Na} = 17.8 + 47.6 * V + 33.8 * V^2$$\n",
    "$$R_0 = 1.24 + 3.7 * V + 3.2 * V^2$$\n",
    "$$T_0 = 4.205 + 11.6 * V + 8 * V^2$$\n",
    "\n",
    "A pesar de estas simplificaciones, este modelo aproxima a varios patrones de disparo observados en neuronas corticales con gran detalle.\n",
    "\n",
    "Veamos como implementarlo en Python."
   ]
  },
  {
   "cell_type": "markdown",
   "metadata": {},
   "source": [
    "### Constantes"
   ]
  },
  {
   "cell_type": "code",
   "execution_count": null,
   "metadata": {},
   "outputs": [],
   "source": [
    "# Condición inicial de la variable de voltaje V(t) en t=0, es decir, valor de V(0), en mV/100.\n",
    "V_0 = np.float64(-0.75)\n",
    "\n",
    "# Condición inicial de la variable de recobro R(t) en t=0, es decir, valor de R(0), en mV/100.\n",
    "R_0 = np.float64(0.26)\n",
    "\n",
    "# Condición inicial de las variables de conductancia T(t) y H(t) en t=0, es decir, valor de R(0), en mV/100.\n",
    "T_0 = np.float64(0)\n",
    "H_0 = np.float64(0)\n",
    "\n",
    "# Potenciales de equilibrio de K, Na, T y H, en mV/100\n",
    "E_K = -.95\n",
    "E_Na = .50\n",
    "E_T = 1.20\n",
    "E_H = -.95\n",
    "\n",
    "# Capacitancia de la membrana, en uFcm^-2\n",
    "C = 1"
   ]
  },
  {
   "cell_type": "markdown",
   "metadata": {},
   "source": [
    "*Nota: El potencial de membrana esta escalado en unidades de $mV/100$ para mantener las constantes de las ecuaciones de $g_{Na}$ y $R_0$ en un rango razonable. Al graficarla multiplicaremos por un factor de 100 para compararlos con datos fisiológicos.*"
   ]
  },
  {
   "cell_type": "markdown",
   "metadata": {},
   "source": [
    "### Integración\n",
    "\n",
    "Para simular tenemos que integrar las ecuaciones diferenciales $\\dfrac{dV}{dt}$, $\\dfrac{dR}{dt}$, $\\dfrac{dT}{dt}$ y $\\dfrac{dH}{dt}$ a lo largo del tiempo $t$. Para eso, vamos a utilizar el método de Euler según vimos en el Cuaderno 3."
   ]
  },
  {
   "cell_type": "code",
   "execution_count": null,
   "metadata": {},
   "outputs": [],
   "source": [
    "def vdot(V, R, T, H, g_K, g_T, g_H, I):\n",
    "    g_Na = 17.8 + 47.6 * V + 33.8 * np.power(V, 2)\n",
    "    I_K = g_K * R * (V - E_K)\n",
    "    I_Na = g_Na * (V - E_Na)\n",
    "    I_T = g_T * T * (V - E_T)\n",
    "    I_H = g_H * H * (V - E_H)\n",
    "    return (-I_K - I_Na - I_T - I_H + I) / C\n",
    "    \n",
    "def rdot(R, tau_R, V):\n",
    "    R_0 = 1.24 + 3.7 * V + 3.2 * np.power(V, 2)\n",
    "    return -(R - R_0) / tau_R\n",
    "\n",
    "def tdot(T, tau_T, V):\n",
    "    T_0 = 4.205 + 11.6 * V + 8 * np.power(V, 2)\n",
    "    return -(T - T_0) / tau_T\n",
    "    \n",
    "def hdot(H, tau_H, T):\n",
    "    return -(H - 3 * T) / tau_H\n",
    "\n",
    "def integrar_wilson(t, I, tau_R=4.5, tau_T=14, tau_H=45, g_K=26, g_T=2.25, g_H=9.5):\n",
    "  \"\"\"Integra el sistema de Wilson (V, R, T, H) con Euler.\n",
    "\n",
    "  Args:\n",
    "    t (ndarray): vector 1D de tiempos (ms), estrictamente creciente y con paso uniforme.\n",
    "    I (function): función escalar I(t) que devuelve la corriente externa en ms.\n",
    "    tau_R (float): constante de tiempo de R (ms).\n",
    "    tau_T (float): constante de tiempo de T (ms).\n",
    "    tau_H (float): constante de tiempo de H (ms).\n",
    "    g_K (float): conductancia del canal K.\n",
    "    g_T (float): conductancia del canal T.\n",
    "    g_H (float): conductancia del canal H.\n",
    "\n",
    "  Returns:\n",
    "    tuple: (V, R, T, H), cada uno como ndarray con la evolución temporal en los tiempos t.\n",
    "  \"\"\"\n",
    "  \n",
    "  # Variables a integrar\n",
    "  V = np.array([V_0])\n",
    "  R = np.array([R_0])\n",
    "  T = np.array([T_0])\n",
    "  H = np.array([H_0])\n",
    "\n",
    "  # Calculamos el valor de salto en el tiempo\n",
    "  dt = t[1] - t[0]\n",
    "  \n",
    "  # Integramos con el método de Euler\n",
    "  for step in t[:-1]:\n",
    "    V = np.append(V, V[-1] + dt * vdot(V[-1], R[-1], T[-1], H[-1], g_K, g_T, g_H, I(step)))\n",
    "    R = np.append(R, R[-1] + dt * rdot(R[-1], tau_R, V[-2]))\n",
    "    T = np.append(T, T[-1] + dt * tdot(T[-1], tau_T, V[-2]))\n",
    "    H = np.append(H, H[-1] + dt * hdot(H[-1], tau_H, T[-2]))\n",
    "\n",
    "  return V, R, T, H"
   ]
  },
  {
   "cell_type": "markdown",
   "metadata": {},
   "source": [
    "*Nota: El modelo de Wilson incorpora una variable $T$ que es muy similar a la variable que usamos para el tiempo $t$, tener en cuenta esta diferencia al leer el código de Python.*"
   ]
  },
  {
   "cell_type": "markdown",
   "metadata": {},
   "source": [
    "## Simulación del modelo\n",
    "\n",
    "Ahora sí, podemos simular el modelo de neurona de Wilson. Ejecuta la celda siguiente para ver un gráfico interactivo:"
   ]
  },
  {
   "cell_type": "code",
   "execution_count": null,
   "metadata": {
    "id": "CF39CrQXlq0n"
   },
   "outputs": [],
   "source": [
    "@widgets.interact(amp=(-1.5, 1.5, 0.1), tau_R=(1.5, 4.5, 0.01), g_K=(15, 30, 0.01), g_T=(0, 2.5, 0.01), g_H=(0, 10, 0.01))\n",
    "def simulate(amp=1, tau_R=4.5, g_K=26, g_T=2.25, g_H=9.5):\n",
    "  t = np.arange(0, 200, 0.05)\n",
    "  I = I_inj(t, amp)\n",
    "  V, R, T, H = integrar_wilson(t, I, tau_R=tau_R, g_K=g_K, g_T=g_T, g_H=g_H)\n",
    "  plot_wilson(t, I, V, R, T, H)"
   ]
  },
  {
   "cell_type": "markdown",
   "metadata": {},
   "source": [
    "Se les puede asignar diferentes valores a lo parámetros $\\tau_R$, $g_T$ y $g_H$ para simular distintas formas de comportamiento dinámico observado en neuronas corticales."
   ]
  },
  {
   "cell_type": "markdown",
   "metadata": {},
   "source": [
    "### Neuronas RS\n",
    "\n",
    "Veamos que sucede cuando inyectamos una corriente constante de $I_{iny}=1mA$ durante $200{ms}$ usando los siguientes parámetros:\n",
    "\n",
    "$\\begin{split} \\tau_R &= 1.5 \\\\ g_T &= 2.25 \\\\ g_H &= 0 \\end{split}$"
   ]
  },
  {
   "cell_type": "code",
   "execution_count": null,
   "metadata": {},
   "outputs": [],
   "source": [
    "amp = 1.0\n",
    "t = np.arange(0, 200, 0.05)\n",
    "I = I_inj(t, amp)\n",
    "V, R, T, H = integrar_wilson(t, I, tau_R=4.2, g_T=0.1, g_H=5)\n",
    "plot_wilson(t, I, V, R, T, H)"
   ]
  },
  {
   "cell_type": "markdown",
   "metadata": {},
   "source": [
    "### Neuronas FS\n",
    "\n",
    "Algunas neuronas corticales inhibitorias exhiben un característico disparo rápido. Estas se pueden simular usando:\n",
    "\n",
    "$\\begin{split} \\tau_R &= 1.5 \\\\ g_T &= 0.25 \\\\ g_H &= 0 \\end{split}$"
   ]
  },
  {
   "cell_type": "code",
   "execution_count": null,
   "metadata": {},
   "outputs": [],
   "source": [
    "amp = 1.0\n",
    "t = np.arange(0, 200, 0.05)\n",
    "I = I_inj(t, amp)\n",
    "V, R, T, H = integrar_wilson(t, I, tau_R=1.5, g_T=0.25, g_H=0)\n",
    "plot_wilson(t, I, V, R, T, H)"
   ]
  },
  {
   "cell_type": "markdown",
   "metadata": {},
   "source": [
    "### Neuronas CB\n",
    "\n",
    "Se han reportado ráfagas contínuas de disparos en respuesta a una estimulación constante en algunas neuronas corticales. Para simular estas neuronas, se pueden usar los siguientes valores:\n",
    "\n",
    "$\\begin{split} \\tau_R &= 4.2 \\\\ g_T &= 2.25 \\\\ g_H &= 9.5 \\end{split}$"
   ]
  },
  {
   "cell_type": "code",
   "execution_count": null,
   "metadata": {},
   "outputs": [],
   "source": [
    "amp = 1.0\n",
    "t = np.arange(0, 200, 0.05)\n",
    "I = I_inj(t, amp)\n",
    "V, R, T, H = integrar_wilson(t, I, tau_R=4.2, g_T=2.25, g_H=9.5)\n",
    "plot_wilson(t, I, V, R, T, H)"
   ]
  },
  {
   "cell_type": "markdown",
   "metadata": {},
   "source": [
    "### Neuronas  IB\n",
    "\n",
    "Las neuronas excitatorias IB exhiben una ráfaga inicial, seguido de una pausa y luego comienzan a disparar en forma regular. Para simular estas neuronas, se pueden usar los siguientes valores:\n",
    "\n",
    "$\\begin{split} \\tau_R &= 4.2 \\\\ g_T &= 0.8 \\\\ g_H &= 4.0 \\end{split}$"
   ]
  },
  {
   "cell_type": "code",
   "execution_count": null,
   "metadata": {},
   "outputs": [],
   "source": [
    "amp = 1.0\n",
    "t = np.arange(0, 200, 0.05)\n",
    "I = I_inj(t, amp)\n",
    "V, R, T, H = integrar_wilson(t, I, tau_R=4.2, g_T=0.8, g_H=4.0)\n",
    "plot_wilson(t, I, V, R, T, H)"
   ]
  },
  {
   "cell_type": "markdown",
   "metadata": {},
   "source": [
    "## Referencias\n",
    "\n",
    "Wilson, H. R. (1999). Simplified Dynamics of Human and Mammalian Neocortical Neurons. *Journal of Theoretical Biology*, 200(4), 375–388. [doi:10.1006/jtbi.1999.1002](https://doi.org/10.1006/jtbi.1999.1002)"
   ]
  }
 ],
 "metadata": {
  "colab": {
   "name": "Izikevitch.ipynb",
   "provenance": []
  },
  "kernelspec": {
   "display_name": "Python 3 (ipykernel)",
   "language": "python",
   "name": "python3"
  },
  "language_info": {
   "codemirror_mode": {
    "name": "ipython",
    "version": 3
   },
   "file_extension": ".py",
   "mimetype": "text/x-python",
   "name": "python",
   "nbconvert_exporter": "python",
   "pygments_lexer": "ipython3",
   "version": "3.10.18"
  }
 },
 "nbformat": 4,
 "nbformat_minor": 4
}
