{
 "cells": [
  {
   "cell_type": "markdown",
   "metadata": {
    "id": "-Iogb-a8Pp7O"
   },
   "source": [
    "# Cuaderno 4: Regla de Oja\n",
    "\n",
    "En este cuaderno probaremos algunas reglas de plasticidad sináptica y sus consecuencias estadísticas."
   ]
  },
  {
   "cell_type": "markdown",
   "metadata": {},
   "source": [
    "## Configuración"
   ]
  },
  {
   "cell_type": "code",
   "execution_count": null,
   "metadata": {},
   "outputs": [],
   "source": [
    "import numpy as np\n",
    "import matplotlib.pyplot as plt\n",
    "import ipywidgets as widgets"
   ]
  },
  {
   "cell_type": "markdown",
   "metadata": {},
   "source": [
    "### Funciones de graficado"
   ]
  },
  {
   "cell_type": "code",
   "execution_count": null,
   "metadata": {},
   "outputs": [],
   "source": [
    "def visualizar_red(x, w):\n",
    "  fig, (ax1, ax2) = plt.subplots(1, 2, figsize=(10, 4), layout=\"constrained\")\n",
    "  ax1.plot(x, label=[\"Neurona pre-sináptica 1\", \"Neurona pre-sináptica 2\"])\n",
    "  ax1.plot(x @ w, label=\"Neurona post-sináptica\")\n",
    "  ax1.set_xlabel(\"Tiempo (s)\")\n",
    "  ax1.set_ylabel(\"Frecuencia (Hz)\")\n",
    "  ax1.legend()\n",
    "\n",
    "  # Graficamos los puntos\n",
    "  z = x - np.mean(x, axis=0)\n",
    "  ax2.scatter(z[:, 0], z[:, 1])\n",
    "  ax2.arrow(0, 0, w[0].item(), w[1].item(), width=0.01)\n",
    "  ax2.set_xlabel(\"Neurona pre-sináptica 1\")\n",
    "  ax2.set_ylabel(\"Neurona pre-sináptica 2\")\n",
    "\n",
    "  plt.show()\n",
    "\n",
    "def visualizar_vector(v):\n",
    "  \"\"\" Dibuja un vector 2D\n",
    "\n",
    "  Argumentos:\n",
    "    v (ndarray): array de tamaño (2,) con las coordenadas del vector\n",
    "  \"\"\"\n",
    "  fig, ax = plt.subplots()\n",
    "\n",
    "  # Set up plot aesthetics\n",
    "  ax.spines['top'].set_color('none')\n",
    "  ax.spines['bottom'].set_position('zero')\n",
    "  ax.spines['left'].set_position('zero')\n",
    "  ax.spines['right'].set_color('none')\n",
    "  ax.set(xlim = [-6, 6], ylim = [-6, 6])\n",
    "  ax.grid(True, alpha=.4)\n",
    "\n",
    "  # Plot vectors\n",
    "  v_arr = ax.arrow(0, 0, v[0], v[1], color='black', width=0.08, length_includes_head=True)\n",
    "  ax.set(xlim = [-4, 4], ylim = [-4, 4])"
   ]
  },
  {
   "cell_type": "markdown",
   "metadata": {},
   "source": [
    "## Introducción a vectores\n",
    "\n",
    "Consideremos primero un vector $\\pmb{a}$ definido como:\n",
    "\n",
    "$$ \\pmb{a} = \\begin{bmatrix} a_{1} \\\\ a_{2} \\end{bmatrix} $$\n",
    "\n",
    "Un vector se puede considerar desde al menos dos perspectivas: como una lista ordenada de números o como una flecha con la base en el origen de un sistema de coordenadas. Son dos maneras de mirar lo mismo: en el caso de la flecha, la punta está definida por una coordenada (que puede representarse con la lista ordenada).\n",
    "\n",
    "La **dimensionalidad** de un vector está determinada por la cantidad de componentes en la lista ordenada (o por la dimensionalidad del espacio en el que existe la flecha). Decimos, entonces, que este vector de dos dimensiones tiene 2 componentes: $a_1$ y $a_2$.\n",
    "\n",
    "Veamos como inicializar y visualizar un vector arbitrario en Numpy."
   ]
  },
  {
   "cell_type": "code",
   "execution_count": null,
   "metadata": {},
   "outputs": [],
   "source": [
    "a = np.array([2, 1])\n",
    "print(a)"
   ]
  },
  {
   "cell_type": "markdown",
   "metadata": {},
   "source": [
    "Cuando lo imprimimos, un vector no parece ser otra cosa que una lista ordenada. Generalmente, es mejor visualizarlo como una flecha en un espacio n-dimensional. Ejecutá la celda siguiente para visualizar este vector en un espacio de dos dimensiones:"
   ]
  },
  {
   "cell_type": "code",
   "execution_count": null,
   "metadata": {},
   "outputs": [],
   "source": [
    "@widgets.interact(a1=widgets.IntSlider(2, -4, 4, description=\"$a_{1}$\"), a2=widgets.IntSlider(1, -4, 4, description=\"$a_{2}$\"))\n",
    "def interactive(a1, a2=1):\n",
    "  visualizar_vector(np.array([a1, a2]))"
   ]
  },
  {
   "cell_type": "markdown",
   "metadata": {},
   "source": [
    "## Nuestra primera red neuronal\n",
    "\n",
    "Definamos un modelo neuronal muy simple: un sistema de dos neuronas en el cual podemos medir su actividad. El vector $\\pmb{x}$ define la actividad de las dos neuronas en un instante dado:\n",
    "\n",
    "$$ \\pmb{x} = \\begin{bmatrix} 2 & 3 \\end{bmatrix} $$\n",
    "\n",
    "Tiene, entonces, dos componentes: $x_{1}$ y $x_{2}$. Uno para definir la actividad de cada neurona.\n",
    "\n",
    "Agreguemos una tercera neurona, la neurona post-sináptica, cuya actividad esté mediada por la actividad de del sistema de neuronas recién definido. Para modelar la influencia que cada neurona pueda tener sobre esta tercera neurona, podemos definir un segundo vector $\\pmb{w}$:\n",
    "\n",
    "$$ \\pmb{w} = \\begin{bmatrix} 1 \\\\ 4 \\end{bmatrix} $$\n",
    "\n",
    "donde sus compontentes, $w_{1}$ y $w_{2}$, modelan el peso que tiene cada neurona $x_{1}$ y $x_{2}$ respectivamente sobre esta tercera neurona.\n",
    "\n",
    "La actividad de esta tercera neurona se puede modelar como el **producto escalar** entre estos dos vectores:\n",
    "\n",
    "$$ \\pmb{x} \\cdot \\pmb{w} = x_{1} w_{1} + x_{2} w_{2} = 2 \\times 1 + 3 \\times 4 = 14 $$\n",
    "\n",
    "Veamos como hacerlo en Python:"
   ]
  },
  {
   "cell_type": "code",
   "execution_count": null,
   "metadata": {},
   "outputs": [],
   "source": [
    "x = np.array([2, 3])\n",
    "w = np.array([1, 4])\n",
    "\n",
    "print(x @ w)"
   ]
  },
  {
   "cell_type": "markdown",
   "metadata": {},
   "source": [
    "Para modelar la actividad de las tres neuronas a lo largo del tiempo, podemos extender nuestros vectores a matrices (también se pueden ver los vectores como un caso especial de las matrices) agregando una dimensión tiempo. Por ejemplo, la actividad de las dos neuronas presinápticas a lo largo de tres instantes temporales puede especificarse como:\n",
    "\n",
    "$$ \\pmb{x} = \\begin{bmatrix} 2 & 3 \\\\ 4 & 5 \\\\ 0 & 2 \\end{bmatrix} $$\n",
    "\n",
    "Dado el mismo vector de pesos sinápticos, ¿cómo podemos calcular la actividad de la neurona postsináptica a lo largo del tiempo? Una ventaja muy importante del álgebra lineal es que nos permite hacer estos cálculos haciendo exactamente la misma operación:"
   ]
  },
  {
   "cell_type": "code",
   "execution_count": null,
   "metadata": {},
   "outputs": [],
   "source": [
    "x = np.array([[2, 3], [4, 5], [0, 2]])\n",
    "w = np.array([1, 4])\n",
    "\n",
    "print(x @ w)"
   ]
  },
  {
   "cell_type": "markdown",
   "metadata": {},
   "source": [
    "## Plasticidad sináptica\n",
    "\n",
    "La plasticidad sináptica es la capacidad de las conexiones entre neuronas (sinapsis) de cambiar su eficacia en función de la actividad. Dicho simple: el cerebro ajusta los pesos sinápticos según la experiencia, permitiendo aprender, recordar y adaptarse.\n",
    "\n",
    "La plasticidad permite cambiar la probabilidad de que un potencial presináptico haga disparar a la neurona postsináptica. Lo puede lograr potenciando (LTP) o deprimiendo (LTD), y esos cambios pueden ser de corto o largo plazo. Hay muchas formas de que eso ocurra, una de ellas es debido al patrón temporal de disparos (p. ej., STDP: si la neurona presináptica dispara justo antes de la postsináptica, la sinapsis suele fortalecerse; si dispara después, suele debilitarse).\n",
    "\n",
    "_Nota: Como veremos en el curso, en el contexto de modelos computacionales, \"aprender\" a menudo significa \"ajustar pesos\"._\n",
    "\n",
    "Sin embargo, ¿cómo podemos ajustar los pesos para modelar la plasticidad? Una regla hebbiana básica se escribe como:\n",
    "\n",
    "$$ \\Delta w = \\eta x_{pre} x_{post} $$\n",
    "\n",
    "Ahora veremos una regla más sofisticada conocida como \"Regla de Oja\":\n",
    "\n",
    "$$ \\Delta w = \\eta (x_{pre} x_{post} - x_{post}^2 w) $$"
   ]
  },
  {
   "cell_type": "markdown",
   "metadata": {},
   "source": [
    "### Instanciación de las neuronas pre-sinápticas\n",
    "\n",
    "En lugar de inicializar las matrices en forma manual, instanciaremos $x$ a lo largo de 100 saltos temporales en forma programática:"
   ]
  },
  {
   "cell_type": "code",
   "execution_count": null,
   "metadata": {},
   "outputs": [],
   "source": [
    "n = 100\n",
    "x1 = np.random.rand(n, 1)\n",
    "x2 =  1 + 2 * x1 + 0.3 * np.random.rand(n, 1)\n",
    "\n",
    "x = np.hstack([x1, x2])\n",
    "w = np.array([-0.2, 0.5])\n",
    "\n",
    "print(x @ w)"
   ]
  },
  {
   "cell_type": "markdown",
   "metadata": {},
   "source": [
    "Recién imprimimos cual sería la actividad de la neurona post-sináptica si no hubiera plasticidad. Corré la siguiente celda para poder visualizar esta actividad modulada con diferentes pesos."
   ]
  },
  {
   "cell_type": "code",
   "execution_count": null,
   "metadata": {},
   "outputs": [],
   "source": [
    "@widgets.interact(w1=(-1, 1, 0.1), w2=(-1, 1, 0.1))\n",
    "def simulate(w1 = -0.2, w2 = 0.5):\n",
    "  w = np.array([w1, w2])\n",
    "  visualizar_red(x, w)"
   ]
  },
  {
   "cell_type": "markdown",
   "metadata": {},
   "source": [
    "## Simulación\n",
    "\n",
    "Finalmente, iremos actualizando los pesos en cada salto temporal segpun la regla de Oja."
   ]
  },
  {
   "cell_type": "code",
   "execution_count": null,
   "metadata": {},
   "outputs": [],
   "source": [
    "# Valor inicial de los pesos sinápticos\n",
    "w = np.array([-0.2, 0.5])\n",
    "\n",
    "z = x - np.mean(x, axis=0)\n",
    "\n",
    "# Graficamos los puntos\n",
    "plt.scatter(z[:,0], z[:,1])\n",
    "\n",
    "eta = 0.1\n",
    "\n",
    "for i in range(n):\n",
    "  # Actividad de la neurona pre-sináptica 1\n",
    "  ri = z[i][0]\n",
    "\n",
    "  # Actividad de la neurona pre-sináptica 2\n",
    "  rj = z[i][1]\n",
    "\n",
    "  # Actividad de la neurona post-sináptica con en este instante temporal\n",
    "  rPost = ri * w[0] + rj * w[1]\n",
    "\n",
    "  # Actualizamos los pesos según la regla de Oja\n",
    "  w[0] = w[0] + eta * (rPost * ri - (rPost ** 2) * w[0])\n",
    "  w[1] = w[1] + eta * (rPost * rj - (rPost ** 2) * w[1])\n",
    "\n",
    "  # Graficamos una flecha con los pesos\n",
    "  plt.arrow(0, 0, w[0].item(), w[1].item(), width=0.01, alpha=i/n)"
   ]
  }
 ],
 "metadata": {
  "colab": {
   "provenance": []
  },
  "kernelspec": {
   "display_name": "Python 3 (ipykernel)",
   "language": "python",
   "name": "python3"
  },
  "language_info": {
   "codemirror_mode": {
    "name": "ipython",
    "version": 3
   },
   "file_extension": ".py",
   "mimetype": "text/x-python",
   "name": "python",
   "nbconvert_exporter": "python",
   "pygments_lexer": "ipython3",
   "version": "3.10.18"
  },
  "pedagogical_enhanced": true
 },
 "nbformat": 4,
 "nbformat_minor": 4
}
