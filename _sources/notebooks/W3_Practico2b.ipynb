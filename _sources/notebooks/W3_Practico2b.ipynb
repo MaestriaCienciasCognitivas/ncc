{
 "cells": [
  {
   "cell_type": "markdown",
   "metadata": {},
   "source": [
    "# Práctico 2b: Leaky Integrate and Fire\n",
    "\n",
    "Este modelo sencillo de neurona captura varios comportamientos de las neuronas reales. Veremos su respuesta ante deferentes estímulos, en particular su patron de respuesta frente al ruido en la entrada."
   ]
  },
  {
   "cell_type": "markdown",
   "metadata": {},
   "source": [
    "$$ I(t) = \\frac{u(t) - v_{rest}}{R} + C \\frac{dv}{dt}$$\n",
    "$$ \\tau_{m} \\frac{dv}{dt} = -[v(t)-v_{rest}] + RI(t)$$"
   ]
  },
  {
   "cell_type": "markdown",
   "metadata": {},
   "source": [
    "## Configuración\n",
    "\n",
    "Ejecutá las siguientes celdas para configurar el entorno del notebook"
   ]
  },
  {
   "cell_type": "code",
   "execution_count": null,
   "metadata": {},
   "outputs": [],
   "source": [
    "import numpy as np\n",
    "import matplotlib.pylab as plt\n",
    "import scipy as sp\n",
    "import ipywidgets as widgets\n",
    "from scipy.integrate import odeint\n",
    "from scipy import stats\n",
    "from matplotlib import gridspec"
   ]
  },
  {
   "cell_type": "markdown",
   "metadata": {},
   "source": [
    "### Funciones utilitarias"
   ]
  },
  {
   "cell_type": "code",
   "execution_count": null,
   "metadata": {},
   "outputs": [],
   "source": [
    "def I_inj(t, amp1, dur1, amp2=0, dur2=0, sep=50):\n",
    "  \"\"\"Crea una función de corriente inyectada con dos pulsos cuadrados.\n",
    "\n",
    "  Args:\n",
    "    t (ndarray): vector 1D de tiempos (ms), estrictamente creciente.\n",
    "    amp1 (float): amplitud del primer pulso, en uA/cm^2.\n",
    "    dur1 (float): duración del primer pulso, en ms.\n",
    "    amp2 (float): amplitud del segundo pulso, en uA/cm^2.\n",
    "    dur2 (float): duración del segundo pulso, en ms.\n",
    "    sep (float): separación mínima entre los dos pulsos, en ms.\n",
    "\n",
    "  Returns:\n",
    "    function: una función I(t) que devuelve la corriente inyectada I(t).\n",
    "  \"\"\"\n",
    "  tmax = np.max(t)\n",
    "  inicios = np.linspace(0, tmax, 8)\n",
    "  inicio1 = inicios[1]\n",
    "  inicio2 = inicio1 + dur1 + sep\n",
    "  \n",
    "  def I(t):\n",
    "    return (amp1 * (t > inicio1) - amp1 * (t > inicio1 + dur1) +\n",
    "            amp2 * (t > inicio2) - amp2 * (t > inicio2 + dur2))\n",
    "\n",
    "  return I\n",
    "\n",
    "def I_train(t, n, amp, dur, interval, start=50):\n",
    "  \"\"\"Crea una función de corriente inyectada con n pulsos cuadrados.\n",
    "\n",
    "  Args:\n",
    "    t (ndarray): vector 1D de tiempos (ms), estrictamente creciente.\n",
    "    n (int): número de pulsos.\n",
    "    amp (float): amplitud de cada pulso, en uA/cm^2.\n",
    "    dur (float): duración de cada pulso, en ms.\n",
    "    interval (float): intervalo entre el inicio de un pulso y el siguiente, en ms.\n",
    "    start (float): tiempo inicial del primer pulso, en ms.\n",
    "\n",
    "  Returns:\n",
    "    function: una función I(t) que devuelve la corriente inyectada I(t).\n",
    "  \"\"\"\n",
    "  # Tiempos de inicio de cada pulso\n",
    "  inicios = start + np.arange(n) * interval\n",
    "\n",
    "  def I(t):\n",
    "    corriente = np.zeros_like(t, dtype=float)\n",
    "    for inicio in inicios:\n",
    "      corriente += amp * ((t > inicio) & (t <= inicio + dur))\n",
    "    return corriente\n",
    "\n",
    "  return I\n",
    "\n",
    "def I_inj_ruido(t, amp1=8, amp2=0, media=0, desvio=1):\n",
    "  tmax = np.max(t)\n",
    "\n",
    "  if amp2 == 0:\n",
    "    base = amp1 * (t > 0)\n",
    "  else:\n",
    "    base = np.where(t <= tmax/2, amp1, amp2)\n",
    "\n",
    "  vals = base + np.random.normal(media, desvio, size=t.shape)\n",
    "\n",
    "  def I(tq):\n",
    "      return np.interp(tq, t, vals)\n",
    "\n",
    "  return I\n",
    "\n",
    "def enmascarar_espigas(t, V, theta):\n",
    "  \"\"\"Detecta cruces ascendentes de umbral en el potencial de membrana.\n",
    "\n",
    "  Args:\n",
    "    t (ndarray): vector de tiempos (ms).\n",
    "    V (ndarray): potencial de membrana (mV).\n",
    "\n",
    "  Returns:\n",
    "    ndarray: máscara booleana con True en cada cruce ascendente.\n",
    "  \"\"\"\n",
    "  mascara = (V[1:] > theta[1:]) & (V[:-1] <= theta[:-1])\n",
    "  mascara = np.concatenate(([False], mascara))\n",
    "  return mascara\n",
    "\n",
    "def contar_espigas(mascara):\n",
    "  \"\"\"Cuenta las espigas a partir de una máscara booleana.\n",
    "\n",
    "  Args:\n",
    "    mascara (ndarray): máscara booleana con True en cada cruce ascendente.\n",
    "\n",
    "  Returns:\n",
    "    int: número de potenciales de acción detectados.\n",
    "  \"\"\"\n",
    "  return np.sum(mascara)\n",
    "  \n",
    "def medir_isis(t, mascara):\n",
    "  ix, = np.nonzero(mascara)\n",
    "  return np.diff(t[ix]) if len(ix) > 1 else np.array([])"
   ]
  },
  {
   "cell_type": "markdown",
   "metadata": {},
   "source": [
    "### Funciones de graficado"
   ]
  },
  {
   "cell_type": "code",
   "execution_count": null,
   "metadata": {},
   "outputs": [],
   "source": [
    "def plot_lif(t, I, V, theta):\n",
    "  fig, axes = plt.subplots(nrows=3, ncols=1, figsize=(8, 4), gridspec_kw={\"height_ratios\": [1, 3, 1]}, sharex=True)\n",
    "\n",
    "  espigas = enmascarar_espigas(t, V, theta)\n",
    "  axes[0].eventplot(t[espigas])\n",
    "  axes[0].set_ylabel(\"Espigas\")\n",
    "\n",
    "  axes[1].plot(t, V, label=\"Voltaje\")\n",
    "  axes[1].plot(t, theta, 'k--', label=\"Umbral\")\n",
    "  axes[1].set_ylim(-80, -40)\n",
    "  axes[1].set_ylabel(\"Voltaje (mV)\")\n",
    "  axes[1].legend(loc=\"upper right\")\n",
    "\n",
    "  axes[2].plot(t, I(t), 'r-')\n",
    "  axes[2].set_ylim(-20, 20)\n",
    "  axes[2].set_ylabel(\"Corriente (µA/cm²)\")\n",
    "  axes[2].set_xlabel(\"Tiempo (ms)\")\n",
    "\n",
    "  plt.tight_layout()\n",
    "  plt.show()\n",
    "\n",
    "def plot_isi_hist(isi):\n",
    "  plt.figure(figsize=(8, 6))\n",
    "  plt.hist(isi, 20)\n",
    "  plt.title('Histograma del intervalo entre espigas')\n",
    "  plt.xlabel('Intervalo entre espigas (ms)')\n",
    "  plt.ylabel('Frecuencia')\n",
    "  plt.show()\n",
    "\n",
    "def plot_I_hist(t, I):\n",
    "  pulsos = I(t)\n",
    "\n",
    "  fig, axes = plt.subplots(2, 1, figsize=(8, 6))\n",
    "  \n",
    "  # Histograma\n",
    "  axes[0].hist(pulsos, bins=30)\n",
    "  axes[0].set_xlabel(\"Amplitud de la señal de entrada\")\n",
    "  axes[0].set_ylabel(\"Frecuencia\")\n",
    "  axes[0].set_title(\"Histograma de la señal de entrada\")\n",
    "  \n",
    "  # Señal en el tiempo\n",
    "  axes[1].plot(t, pulsos)\n",
    "  axes[1].set_xlabel(\"Tiempo (ms)\")\n",
    "  axes[1].set_ylabel(\"Corriente\")\n",
    "  \n",
    "  plt.tight_layout()\n",
    "  plt.show()\n",
    "\n",
    "def plot_fi_curve(corrientes, frecuencias):\n",
    "  plt.scatter(corrientes, frecuencias)\n",
    "  plt.xlabel(\"Corriente inyectada (µA/cm²)\")\n",
    "  plt.ylabel(\"Frecuencia de disparo (Hz)\")\n",
    "  plt.title(\"Curva F-I (frecuencia vs corriente)\")\n",
    "  plt.show()\n",
    "\n",
    "def plot_poblacion(t, espigas_pobl, pulsos_pobl):\n",
    "  \"\"\"Grafica la actividad poblacional (espigas) y la corriente.\n",
    "\n",
    "  Args:\n",
    "    t (ndarray): vector 1D de tiempos (ms), estrictamente creciente.\n",
    "    espigas_pobl (ndarray): serie temporal de la suma poblacional de espigas\n",
    "      por ventana temporal.\n",
    "    pulsos_pobl (ndarray): serie temporal de la corriente (media poblacional),\n",
    "      por ventana temporal.\n",
    "  \"\"\"\n",
    "  fig, axes = plt.subplots(2, 1, figsize=(8, 6), sharex=True)\n",
    "  \n",
    "  axes[0].plot(t, espigas_pobl)\n",
    "  axes[0].set_ylabel(\"Número de espigas\")\n",
    "  axes[0].set_title(\"Suma poblacional de espigas (por ventana)\")\n",
    "\n",
    "  axes[1].plot(t, pulsos_pobl)\n",
    "  axes[1].set_xlabel(\"Tiempo (ms)\")\n",
    "  axes[1].set_ylabel(\"Corriente\")\n",
    "  \n",
    "  plt.show()"
   ]
  },
  {
   "cell_type": "markdown",
   "metadata": {},
   "source": [
    "## Definición del modelo"
   ]
  },
  {
   "cell_type": "code",
   "execution_count": null,
   "metadata": {},
   "outputs": [],
   "source": [
    "# Potencial de reposo (mV)\n",
    "E_L = -65.0\n",
    "\n",
    "# Constante de tiempo\n",
    "tau = 5\n",
    "\n",
    "# Umbral de disparo inicial (mV)\n",
    "theta_0 = -55.0\n",
    "\n",
    "# Constante de tiempo del umbral\n",
    "tau_theta = 20"
   ]
  },
  {
   "cell_type": "markdown",
   "metadata": {},
   "source": [
    "### Definimos las ecuaciones del modelo"
   ]
  },
  {
   "cell_type": "code",
   "execution_count": null,
   "metadata": {},
   "outputs": [],
   "source": [
    "def integrar_lif(t, I, incr_theta=0):\n",
    "  dt = t[1] - t[0]     # assume constant step\n",
    "  pulsos = I(t)                   # input current over time\n",
    "  V = np.array([E_L])\n",
    "  theta = np.array([theta_0])\n",
    "\n",
    "  for i in range(1, len(t)):\n",
    "    s = V[-1] > theta[-1]\n",
    "    V = np.append(V, s * E_L + (1 - s) * (V[-1] - dt / tau * ((V[-1] - E_L) - pulsos[i])))\n",
    "    if s:\n",
    "      theta = np.append(theta, theta[-1] + s*incr_theta)\n",
    "    else:\n",
    "      theta = np.append(theta, theta[-1] - dt / tau_theta * ((theta[-1] - theta_0)))\n",
    "  return V, theta"
   ]
  },
  {
   "cell_type": "markdown",
   "metadata": {},
   "source": [
    "## Simulación del modelo"
   ]
  },
  {
   "cell_type": "markdown",
   "metadata": {},
   "source": [
    "### Corriente externa constante"
   ]
  },
  {
   "cell_type": "code",
   "execution_count": null,
   "metadata": {},
   "outputs": [],
   "source": [
    "@widgets.interact(amp1=(-20, 20, 0.1), dur1=(0, 100), amp2=(-20, 20, 0.1), dur2=(0, 100), sep=(0, 200), incr_theta=(0, 5))\n",
    "def plot_I_inj(amp1=15, dur1=2, amp2=15, dur2=0, sep=50, incr_theta=0):\n",
    "  t = np.arange(0, 300, 0.1)\n",
    "  I = I_inj(t, amp1, dur1, amp2, dur2, sep)\n",
    "  V, theta = integrar_lif(t, I, incr_theta)\n",
    "  plot_lif(t, I, V, theta)"
   ]
  },
  {
   "cell_type": "markdown",
   "metadata": {},
   "source": [
    "### Suma de pulsos de corriente"
   ]
  },
  {
   "cell_type": "code",
   "execution_count": null,
   "metadata": {},
   "outputs": [],
   "source": [
    "@widgets.interact(n=(0, 10), dur=(0, 10), amp=(-20, 20, 0.1), sep=(0, 100), incr_theta=(0, 5))\n",
    "def plot_I_train(n=5, dur=2, amp=15, sep=3, incr_theta=0):\n",
    "  t = np.arange(0, 300, 0.1)\n",
    "  I = I_train(t, n, amp, dur, sep)\n",
    "  V, theta = integrar_lif(t, I, incr_theta)\n",
    "  plot_lif(t, I, V, theta)"
   ]
  },
  {
   "cell_type": "markdown",
   "metadata": {},
   "source": [
    "## Modelando el ruido en la entrada"
   ]
  },
  {
   "cell_type": "markdown",
   "metadata": {},
   "source": [
    "### Ruido gaussiano en la corriente de entrada\n",
    "\n",
    "¿Cómo es el patrón de descarga si la corriente de entrada tiene ruido gaussiano?\n",
    "El parametro <b>media</b> controla la amplitud promedio del ruido, y el <b>desvio</b> controla la variabilidad. Al aumentar la varibilidad, ¿qué pasa con la respuesta de la neurona?\n",
    "\n",
    "Experimentar:\n",
    "<ol>\n",
    "<li> Aumentando la variabilidad.</li>\n",
    "<li> Aumentando la amplitud (dejando la variabilidad fija, y no muy alta).</li>\n",
    "<li> Aumentando la amplitud de la entrada de base (RI_ext).</li>\n",
    "\n",
    "</ol>\n"
   ]
  },
  {
   "cell_type": "code",
   "execution_count": null,
   "metadata": {},
   "outputs": [],
   "source": [
    "@widgets.interact(amp=(-15, 15, 0.1), media=(-15, 15, 0.1), desvio=(0, 10, 0.1))\n",
    "def plot_I_inj_ruido(amp=8, media=1, desvio=4):\n",
    "  np.random.seed(0)  # fijamos la semilla para que el ruido sea reproducible\n",
    "  t = np.arange(0, 300, 0.1)\n",
    "  I = I_inj_ruido(t, amp, media=media, desvio=desvio)\n",
    "  plot_I_hist(t, I)"
   ]
  },
  {
   "cell_type": "markdown",
   "metadata": {},
   "source": [
    "Corremos y ploteamos el resultado"
   ]
  },
  {
   "cell_type": "code",
   "execution_count": null,
   "metadata": {},
   "outputs": [],
   "source": [
    "@widgets.interact(amp=(-15, 15, 0.1), media=(-15, 15, 0.1), desvio=(0, 10, 0.1), incr_theta=(0, 5))\n",
    "def plot_I_inj_ruido(amp=8, media=1, desvio=4, incr_theta=0):\n",
    "  np.random.seed(0)  # fijamos la semilla para que el ruido sea reproducible\n",
    "  t = np.arange(0, 300, 0.1)\n",
    "  I = I_inj_ruido(t, amp, media=media, desvio=desvio)\n",
    "  V, theta = integrar_lif(t, I, incr_theta)\n",
    "  plot_lif(t, I, V, theta)"
   ]
  },
  {
   "cell_type": "markdown",
   "metadata": {},
   "source": [
    "### Relación entrada vs. frecuencia de disparo (con ruido)\n",
    "\n",
    "En ausencia de ruido, la relación entre amplitud de la entrada y frecuencia de disparo es similar a la que vimos en el práctico pasado. ¿Se modifica esa relación ante el ruido?\n",
    "\n",
    "Probar:\n",
    "<ol>\n",
    "<li>La relación sin ruido (amplitud 0, variabilidad 0).</li>\n",
    "<li>Aumentar la variabilidad (correr varias veces).</li>\n",
    "<li>Aumentar la amplitud promedio del ruido (corre varias veces)</li>\n",
    "</ol>"
   ]
  },
  {
   "cell_type": "code",
   "execution_count": null,
   "metadata": {},
   "outputs": [],
   "source": [
    "t = np.arange(0.0, 200.0, 0.1)\n",
    "duracion = np.max(t) / 1_000  # en segundos\n",
    "\n",
    "@widgets.interact(amp=(-15, 15, 0.1), media=(-15, 15, 0.1), desvio=(0, 10, 0.1), incr_theta=(0, 5))\n",
    "def simulate(amp=8, media=1, desvio=4, incr_theta=0):\n",
    "  np.random.seed(0)  # fijamos la semilla para que el ruido sea reproducible\n",
    "  \n",
    "  corrientes = np.arange(0, 12, 0.1)\n",
    "  frecuencias = np.zeros_like(corrientes)\n",
    "  \n",
    "  for i, amp in enumerate(corrientes):\n",
    "    I = I_inj_ruido(t, amp, media=media, desvio=desvio)\n",
    "    V, theta = integrar_lif(t, I, incr_theta)\n",
    "    mascara = enmascarar_espigas(t, V, theta)\n",
    "    frecuencias[i] = contar_espigas(mascara) / duracion\n",
    "    \n",
    "  plot_fi_curve(corrientes, frecuencias)"
   ]
  },
  {
   "cell_type": "markdown",
   "metadata": {},
   "source": [
    "### Estadística de disparo en la entrada \n",
    "Ya vimos la frecuencia promedio en función de la entrada ruidosa. Pero se observa ruido en la salida. La frecuencia parece no ser constante para cada valor de entrada. ¿Qué pasa con los intervalos entre espigas? ¿Cómo se ve la distribución de intervalos entre espigas, y cómo la afecta la amplitud y la variabilidad del ruido en la entrada?\n",
    "¿Es una distribución realista? (ver figuras 3.5, 3.7 y 3.8 del Trappenberg).\n",
    "\n",
    "<ul>\n",
    "<li>Jugar con los parámetros de la entrada, RI_ext y amplitud y variabilidad del ruido</li>\n",
    "<li>¿Qué pasa si RI_ext es alto y la amplitud es 0 y la variabilidad baja?</li>\n",
    "<li>Observar la forma del histograma</li>\n",
    "<li>Mirar el coeficiente de variación (último número que sale debajo de la gráfica)</li>\n",
    "</ul>\n"
   ]
  },
  {
   "cell_type": "code",
   "execution_count": null,
   "metadata": {},
   "outputs": [],
   "source": [
    "@widgets.interact_manual(amp=(0,12,0.1), media=(-15, 15, 0.1), desvio=(0, 10, 0.1), incr_theta=(0, 5))\n",
    "def simulate(amp=4, media=5, desvio=4, incr_theta=0):\n",
    "  np.random.seed(0)  # fijamos la semilla para que el ruido sea reproducible\n",
    "  t = np.arange(0.0, 10_000.0, 0.1)\n",
    "  I = I_inj_ruido(t, amp, media=media, desvio=desvio)\n",
    "  V, theta = integrar_lif(t, I, incr_theta)\n",
    "\n",
    "  mascara = enmascarar_espigas(t, V, theta)\n",
    "  ISIs = medir_isis(t, mascara)\n",
    "  plot_isi_hist(ISIs)\n",
    "\n",
    "  print(f\"Coeficiente de variación: {stats.variation(ISIs):.4f}\")"
   ]
  },
  {
   "cell_type": "markdown",
   "metadata": {},
   "source": [
    "## Bonificación: Población de neuronas\n",
    "\n",
    "En esta simulación, cambiamos la entrada externa, en $t = 100$, de una magnitud `amp1` a una magnitud (más alta) `amp2`, para ver como responde una población de neronas a un cambio brusco en la corriente."
   ]
  },
  {
   "cell_type": "code",
   "execution_count": null,
   "metadata": {},
   "outputs": [],
   "source": [
    "numNeuronas = 1000\n",
    "t = np.arange(0, 200, 0.5)\n",
    "duracion = np.max(t) / 1_000  # en segundos\n",
    "\n",
    "@widgets.interact_manual(amp1=(0,20,0.1), amp2=(0,20,0.1), media=(-15, 15, 0.1), desvio=(0, 10, 0.1), incr_theta=(0, 5))\n",
    "def simulate(amp1=8, amp2=12, media=5, desvio=4, incr_theta=0):\n",
    "  espigas = np.zeros([numNeuronas, t.size])\n",
    "  pulsos = np.zeros([numNeuronas, t.size])\n",
    "  \n",
    "  for i in range(numNeuronas):\n",
    "    I = I_inj_ruido(t, amp1=amp1, amp2=amp2, media=0, desvio=8)\n",
    "    V, theta = integrar_lif(t, I)\n",
    "    espigas[i] = enmascarar_espigas(t, V, theta)\n",
    "    pulsos[i] = I(t)\n",
    "  \n",
    "  # Suma poblacional de espigas en cada ventana temporal\n",
    "  espigas_pobl = espigas.sum(axis=0)\n",
    "\n",
    "  # Promedio poblacional de la corriente en cada ventana temporal\n",
    "  pulsos_pobl = pulsos.mean(axis=0)\n",
    "\n",
    "  plot_poblacion(t, espigas_pobl, pulsos_pobl)"
   ]
  },
  {
   "cell_type": "markdown",
   "metadata": {},
   "source": [
    "El conteo de disparos sigue el salto en la entrada casi de manera instantánea. La razón es que en cada instante hay un subconjunto de neuronas cerca del umbral. Esas neuronas pueden responder rápido a la entrada, y las otras tienen tiempo de seguirlas con rapidez."
   ]
  }
 ],
 "metadata": {
  "kernelspec": {
   "display_name": "Python 3 (ipykernel)",
   "language": "python",
   "name": "python3"
  },
  "language_info": {
   "codemirror_mode": {
    "name": "ipython",
    "version": 3
   },
   "file_extension": ".py",
   "mimetype": "text/x-python",
   "name": "python",
   "nbconvert_exporter": "python",
   "pygments_lexer": "ipython3",
   "version": "3.10.18"
  }
 },
 "nbformat": 4,
 "nbformat_minor": 4
}
