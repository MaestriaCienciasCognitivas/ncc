{
 "cells": [
  {
   "cell_type": "markdown",
   "id": "a06f91a5-ae44-47f5-93d2-075307bcb3e6",
   "metadata": {
    "editable": true,
    "slideshow": {
     "slide_type": ""
    },
    "tags": []
   },
   "source": [
    "# Cuaderno 1: Introducción a Python\n",
    "\n",
    "Este cuaderno es el primero de dos cuadernos introductorios al lenguaje de programación [Python](https://www.python.org/).\n",
    "\n",
    "Python es un lenguaje de programación de código abierto que se usa para una gran variedad de cosas. En particular, tiene importantes bibliotecas que permiten trabajar en diferentes aplicaciones de computación científica ([NumPy](https://numpy.org/), [Matplotlib](https://matplotlib.org/), [SciPy](https://scipy.org)) y redes neuronales ([Keras](https://keras.io/), [Tensorflow](https://www.tensorflow.org/), [PyTorch](https://pytorch.org/)).\n",
    "\n",
    "En este tutorial veremos algunos aspectos básicos de la programación en Python, como lo son el tipo de datos que se puede manejar, en qué tipo de contenedores podemos almacenarlos y operaciones básicas sobre los mismos.\n",
    "\n",
    "Este cuaderno fue generado por Valentina Gascue para el Curso \"Redes Neuronales como modelos de Cognición\", tomando como referencia los cuadernos generados previamente en el curso Neurociencia Cognitiva y Computacional."
   ]
  },
  {
   "cell_type": "markdown",
   "id": "edf38028",
   "metadata": {
    "id": "Q9_iJdw_qKw1"
   },
   "source": [
    "## Cadenas de texto\n",
    "\n",
    "En todo lenguaje de programación es importante que conozcamos los diferentes tipos de datos que podemos contener y cómo manejarlos de manera apropiada para la tarea que deseamos realizar. En particular, en Python, hay 3 tipos de datos básicos que nos serán de utilidad: los *strings*, los *numéricos* y los *booleanos*. Veremos uno a uno estos tres tipos de datos.\n",
    "\n",
    "Los strings, o mejor dicho cadenas de texto (`str`), incluyen cualquier texto, desde una letra hasta oraciones enteras:"
   ]
  },
  {
   "cell_type": "code",
   "execution_count": 117,
   "id": "59a40c48",
   "metadata": {
    "id": "6AVfiGTdrHaN"
   },
   "outputs": [
    {
     "name": "stdout",
     "output_type": "stream",
     "text": [
      "Hola mundo\n"
     ]
    }
   ],
   "source": [
    "var = \"Hola mundo\"\n",
    "print(var)"
   ]
  },
  {
   "cell_type": "markdown",
   "id": "f7ad9df0",
   "metadata": {
    "id": "ledcCo-pq5U4"
   },
   "source": [
    "**Notá que las cadenas de texto se definen usando comillas.**"
   ]
  },
  {
   "cell_type": "markdown",
   "id": "0740078e-265d-43df-b6a9-a84fe858c66a",
   "metadata": {},
   "source": [
    "## Comentarios\n",
    "\n",
    "Los comentarios en Python se definen usando el numeral `#` (o *hashtag*), que no es leido por el intérprete de código, pero sí por el usuario. Son muy útiles para explicar que hace algun código, ya sea para que lo comprenda otra persona, o nuestro \"yo\" del futuro.\n",
    "\n",
    "En el siguiente bloque, modifica el código para que imprima algunos parámetros de simulación:"
   ]
  },
  {
   "cell_type": "code",
   "execution_count": 116,
   "id": "73f82f0f-3370-4162-a7de-46e85dff412c",
   "metadata": {},
   "outputs": [],
   "source": [
    "# pi = 3.14\n",
    "# t = 0.1    # segundos\n",
    "# print(pi)\n",
    "# print(t)"
   ]
  },
  {
   "cell_type": "markdown",
   "id": "0d4660b3-ecdc-4b77-8f67-3cbbc1700e51",
   "metadata": {},
   "source": [
    "_Salida esperada:_\n",
    "\n",
    "```\n",
    "3.14\n",
    "0.1\n",
    "```"
   ]
  },
  {
   "cell_type": "markdown",
   "id": "f0710676-b3eb-405d-862b-55aa5ec76b74",
   "metadata": {},
   "source": [
    "Tuvimos que sacar los `#` del inicio de cada línea —si no, el código se interpreta como comentarios y no se ejecuta. A veces, cuando estás escribiendo código, podés querer comentar secciones para analizar mejor que esta haciendo nuestro programa. Fijate también que tratamos de usar nombres de variables descriptivos, en este caso correspondientes a la notación matemática que usamos. Además, usamos comentarios para indicar las unidades dentro del código —¡esto lo hace mucho más fácil de entender!"
   ]
  },
  {
   "cell_type": "markdown",
   "id": "6f78beb5",
   "metadata": {
    "id": "IMVe2WGImNpS"
   },
   "source": [
    "## Datos numéricos\n",
    "\n",
    "Los dos tipos básicos de datos numéricos en Python son los *enteros* (`int`) y los *puntos flotantes* (`float`). Los `int` son números enteros, mientras que los floats son números decimales. A continuación se definen dos variables que contienen un `float` y un `int`."
   ]
  },
  {
   "cell_type": "code",
   "execution_count": 118,
   "id": "370dbc2d",
   "metadata": {
    "id": "rKi5XFDcl4Qf"
   },
   "outputs": [
    {
     "name": "stdout",
     "output_type": "stream",
     "text": [
      "10\n",
      "10.5\n"
     ]
    }
   ],
   "source": [
    "int1 = 10\n",
    "float1 = 10.5\n",
    "\n",
    "print(int1)\n",
    "print(float1)"
   ]
  },
  {
   "cell_type": "markdown",
   "id": "2b979f39-7ca4-471a-bbad-d476b5e2f118",
   "metadata": {},
   "source": [
    "¡Nota que el decimal se indica con un punto y no con una coma!"
   ]
  },
  {
   "cell_type": "markdown",
   "id": "da01c02b-d866-4234-a2ff-2dc1328e03a8",
   "metadata": {},
   "source": [
    "### Operaciones matemáticas"
   ]
  },
  {
   "cell_type": "code",
   "execution_count": 5,
   "id": "5c7f6af8-79d9-4551-907e-984a9af5cf0d",
   "metadata": {},
   "outputs": [
    {
     "name": "stdout",
     "output_type": "stream",
     "text": [
      "3\n"
     ]
    }
   ],
   "source": [
    "suma = 1 + 2\n",
    "print(suma)"
   ]
  },
  {
   "cell_type": "code",
   "execution_count": 6,
   "id": "9720b872-0b02-4a0d-921b-1c9b44e975a9",
   "metadata": {},
   "outputs": [
    {
     "name": "stdout",
     "output_type": "stream",
     "text": [
      "1\n"
     ]
    }
   ],
   "source": [
    "resta = 4 - 3\n",
    "print(resta)"
   ]
  },
  {
   "cell_type": "code",
   "execution_count": 7,
   "id": "5e33a9da-d4aa-4223-b320-9acf1c57abdc",
   "metadata": {},
   "outputs": [
    {
     "name": "stdout",
     "output_type": "stream",
     "text": [
      "6\n"
     ]
    }
   ],
   "source": [
    "multiplicacion = 2 * 3\n",
    "print(multiplicacion)"
   ]
  },
  {
   "cell_type": "code",
   "execution_count": 9,
   "id": "ee69925d-c5ac-435a-a496-af765f2fbfc3",
   "metadata": {},
   "outputs": [
    {
     "name": "stdout",
     "output_type": "stream",
     "text": [
      "4.0\n"
     ]
    }
   ],
   "source": [
    "division = 12 / 3\n",
    "print(division)"
   ]
  },
  {
   "cell_type": "markdown",
   "id": "eabe771e-b5de-4820-b1d0-b896b165e757",
   "metadata": {},
   "source": [
    "_Nota: La división entre dos enteros es siempre un punto flotante._"
   ]
  },
  {
   "cell_type": "code",
   "execution_count": 11,
   "id": "075283aa-08b7-4e85-b888-990a1f29bc7c",
   "metadata": {},
   "outputs": [
    {
     "name": "stdout",
     "output_type": "stream",
     "text": [
      "125\n"
     ]
    }
   ],
   "source": [
    "potencia = 5 ** 3\n",
    "print(potencia)"
   ]
  },
  {
   "cell_type": "code",
   "execution_count": 13,
   "id": "c921fe3b-1f3b-4bab-a594-bf7ac4b3949d",
   "metadata": {},
   "outputs": [
    {
     "name": "stdout",
     "output_type": "stream",
     "text": [
      "2\n"
     ]
    }
   ],
   "source": [
    "modulo = 14 % 3\n",
    "print(modulo)"
   ]
  },
  {
   "cell_type": "markdown",
   "id": "1ea787be-6908-4b77-bf18-08d97a40c65d",
   "metadata": {},
   "source": [
    "### Ejercicio de codificación 1\n",
    "\n",
    "Resuelve la siguiente ecuación:\n",
    "\n",
    "$$x(t)=\\dfrac{2\\pi}{0.01}t$$\n",
    "\n",
    "para el caso en que la variable temporal $t$ equivale a $0.1$."
   ]
  },
  {
   "cell_type": "code",
   "execution_count": 3,
   "id": "7f58b022-097f-4782-8e2c-66090f2c0147",
   "metadata": {
    "editable": true,
    "slideshow": {
     "slide_type": ""
    },
    "tags": []
   },
   "outputs": [
    {
     "name": "stdout",
     "output_type": "stream",
     "text": [
      "Ellipsis\n"
     ]
    }
   ],
   "source": [
    "pi = 3.14\n",
    "t = 0.1\n",
    "x = ...\n",
    "print(x)"
   ]
  },
  {
   "cell_type": "markdown",
   "id": "a6787ac1-7a28-4a18-a1c8-0db05060afe1",
   "metadata": {},
   "source": [
    "[Hacé click para la solución](https://raw.githubusercontent.com/MaestriaCienciasCognitivas/ncc/main/book/solutions/Cuaderno1_Ejercicio1.py)\n",
    "\n",
    "_Salida esperada:_\n",
    "\n",
    "```\n",
    "62.800000000000004\n",
    "```"
   ]
  },
  {
   "cell_type": "markdown",
   "id": "06b59eea-2fcf-4d2c-bddd-567c877e4163",
   "metadata": {},
   "source": [
    "## Función [`print()`](https://docs.python.org/3/library/functions.html#print)\n",
    "\n",
    "Como ya podrás haberlo notado, para imprimir el contenido de una variable podés usar la función [`print()`](https://docs.python.org/3/library/functions.html#print)."
   ]
  },
  {
   "cell_type": "code",
   "execution_count": 119,
   "id": "eec5c565",
   "metadata": {
    "colab": {
     "base_uri": "https://localhost:8080/"
    },
    "id": "ga3P_m06vQnJ",
    "outputId": "cd45b6ef-b46c-4f9f-895a-566f8a45e028"
   },
   "outputs": [
    {
     "name": "stdout",
     "output_type": "stream",
     "text": [
      "PI: 3.1416\n"
     ]
    }
   ],
   "source": [
    "pi = 3.1416\n",
    "print(\"PI:\", pi)"
   ]
  },
  {
   "cell_type": "markdown",
   "id": "edd95106-6cf1-41d2-abca-4903605e479a",
   "metadata": {},
   "source": [
    "**Notá que podés pasarle más de una variable para imprimirlas en una misma línea.**\n",
    "\n",
    "El formateo con `print` es útil para mostrar parámetros de simulación de forma clara y ordenada. También podes usar un sistema de formateo de texto llamado _f-string_. Como estamos trabajando con variables de tipo `float`, usamos `f'{x:.3f}'` para mostrar x con tres decimales, y `f'{x:.4e}'` para mostrarlo con cuatro decimales pero en notación exponencial."
   ]
  },
  {
   "cell_type": "code",
   "execution_count": 57,
   "id": "aaab7dd5-0db3-4dff-aec6-7e8668114ba1",
   "metadata": {},
   "outputs": [
    {
     "name": "stdout",
     "output_type": "stream",
     "text": [
      "3.142\n",
      "3.1416e+00\n"
     ]
    }
   ],
   "source": [
    "pi = 3.14159265e-0\n",
    "print(f'{pi:.3f}')\n",
    "print(f'{pi:.4e}')"
   ]
  },
  {
   "cell_type": "markdown",
   "id": "6115f6b1-379c-4cb3-b6ca-ac347a8615f4",
   "metadata": {},
   "source": [
    "### Ejercicio de codificación 2\n",
    "\n",
    "Resolvé la siguiente ecuación\n",
    "\n",
    "$$x(t)=\\dfrac{2\\pi}{0.01}t$$\n",
    "\n",
    "para el caso en que la variable temporal $t$ equivale a $0.1$. Esta vez imprimí el valor de $t$ y su lado el resultado, pero con un punto decimal."
   ]
  },
  {
   "cell_type": "code",
   "execution_count": 9,
   "id": "c98e02a2-5323-4804-b22f-f6c4ecbe8794",
   "metadata": {
    "editable": true,
    "slideshow": {
     "slide_type": ""
    },
    "tags": []
   },
   "outputs": [
    {
     "name": "stdout",
     "output_type": "stream",
     "text": [
      "Ellipsis\n"
     ]
    }
   ],
   "source": [
    "pi = 3.14\n",
    "t = 0.1\n",
    "x = ...\n",
    "print(...)"
   ]
  },
  {
   "cell_type": "markdown",
   "id": "8cac78cf-7332-4caa-bc18-755f0f327ff4",
   "metadata": {},
   "source": [
    "[Hacé click para la solución](https://raw.githubusercontent.com/MaestriaCienciasCognitivas/ncc/main/book/solutions/Cuaderno1_Ejercicio2.py)\n",
    "\n",
    "_Salida esperada:_\n",
    "\n",
    "```\n",
    "x(0.1) = 62.8\n",
    "```"
   ]
  },
  {
   "cell_type": "markdown",
   "id": "f0ad1cea",
   "metadata": {
    "id": "XoSr5cHSrNcV"
   },
   "source": [
    "## Datos booleanos\n",
    "\n",
    "Los datos booleanos (`bool`) nos permiten realizar operaciones lógicas y, como veremos más adelante en el cuaderno, son esenciales para la definición de condicionales.\n",
    "\n",
    "Un dato booleano puede contener dos valores: `True` (verdadero) o `False` (falso).\n",
    "\n",
    "Para definirlos simplemente tipeamos las palabras \"True\" o \"False\", sin las comillas."
   ]
  },
  {
   "cell_type": "code",
   "execution_count": 73,
   "id": "0ad06eae",
   "metadata": {
    "colab": {
     "base_uri": "https://localhost:8080/"
    },
    "id": "110swpH1rMv5",
    "outputId": "ed3d0e51-ae89-4321-a1ff-b3c8b00f1503"
   },
   "outputs": [
    {
     "name": "stdout",
     "output_type": "stream",
     "text": [
      "True\n"
     ]
    }
   ],
   "source": [
    "var = True\n",
    "print(var)"
   ]
  },
  {
   "cell_type": "markdown",
   "id": "96001503-e230-4e41-819a-97c15524a0dc",
   "metadata": {},
   "source": [
    "### Operaciones lógicas"
   ]
  },
  {
   "cell_type": "code",
   "execution_count": 80,
   "id": "89e5c3cd-bd2d-442e-818f-ee3380948f42",
   "metadata": {},
   "outputs": [
    {
     "name": "stdout",
     "output_type": "stream",
     "text": [
      "False\n"
     ]
    }
   ],
   "source": [
    "y = True and False\n",
    "print(y)"
   ]
  },
  {
   "cell_type": "code",
   "execution_count": 79,
   "id": "a4a786b4-a489-4ef4-98e4-3c9342407d91",
   "metadata": {},
   "outputs": [
    {
     "name": "stdout",
     "output_type": "stream",
     "text": [
      "True\n"
     ]
    }
   ],
   "source": [
    "o = True or False\n",
    "print(o)"
   ]
  },
  {
   "cell_type": "code",
   "execution_count": 81,
   "id": "8fba8ebb-48a0-4994-b8ae-1a468e17f7a6",
   "metadata": {},
   "outputs": [
    {
     "name": "stdout",
     "output_type": "stream",
     "text": [
      "True\n"
     ]
    }
   ],
   "source": [
    "mayor = 8 > 5\n",
    "print(mayor)"
   ]
  },
  {
   "cell_type": "code",
   "execution_count": 82,
   "id": "cb2b1103-63b8-4f05-ad24-5771d60a1af4",
   "metadata": {},
   "outputs": [
    {
     "name": "stdout",
     "output_type": "stream",
     "text": [
      "True\n"
     ]
    }
   ],
   "source": [
    "menor = 5 < 8\n",
    "print(menor)"
   ]
  },
  {
   "cell_type": "code",
   "execution_count": 84,
   "id": "6d3eb5ed-a5b6-4dc5-98d7-4072c49da4c4",
   "metadata": {},
   "outputs": [
    {
     "name": "stdout",
     "output_type": "stream",
     "text": [
      "True\n"
     ]
    }
   ],
   "source": [
    "igual = 5 == 5\n",
    "print(igual)"
   ]
  },
  {
   "cell_type": "code",
   "execution_count": 83,
   "id": "3a516c91-d0c1-454a-bd3b-3898c8ae6bfe",
   "metadata": {},
   "outputs": [
    {
     "name": "stdout",
     "output_type": "stream",
     "text": [
      "True\n"
     ]
    }
   ],
   "source": [
    "negacion = not 8 == 5\n",
    "print(negacion)"
   ]
  },
  {
   "cell_type": "markdown",
   "id": "b17737b6-c9d9-4a09-a042-950542a40b48",
   "metadata": {},
   "source": [
    "### Ejercicio de codificación 3\n",
    "\n",
    "En el siguiente código, $v$ simboliza el voltaje de una neurona. Define `pa` de tal manera que tome el valor de `True` cuando el voltaje supere el umbral, pero ten en cuenta que si se encuentra en período refractario, definido por `periodo_refractario`, entonces no puede disparar un potencial de acción."
   ]
  },
  {
   "cell_type": "code",
   "execution_count": 11,
   "id": "5bd82371-9eb4-4e9c-a102-841451b9f814",
   "metadata": {
    "editable": true,
    "slideshow": {
     "slide_type": ""
    },
    "tags": []
   },
   "outputs": [
    {
     "name": "stdout",
     "output_type": "stream",
     "text": [
      "Potencial de acción: Ellipsis\n"
     ]
    }
   ],
   "source": [
    "v = -52.0\n",
    "umbral = -55.0\n",
    "periodo_refractario = True\n",
    "\n",
    "pa = ...\n",
    "\n",
    "print(\"Potencial de acción:\", pa)"
   ]
  },
  {
   "cell_type": "markdown",
   "id": "ff414417-b6db-446c-8b3b-0b7229a0be32",
   "metadata": {},
   "source": [
    "[Hacé click para la solución](https://raw.githubusercontent.com/MaestriaCienciasCognitivas/ncc/main/book/solutions/Cuaderno1_Ejercicio3.py)\n",
    "\n",
    "_Salida esperada:_\n",
    "\n",
    "```\n",
    "Potencial de acción: False\n",
    "```"
   ]
  },
  {
   "cell_type": "markdown",
   "id": "0158e114",
   "metadata": {
    "id": "tuyjAQEZr_eN"
   },
   "source": [
    "## Contenedores de datos\n",
    "\n",
    "Los datos que venimos mencionando, generalmente vienen almacenados en diferentes contenedores. El más simple de los contenedores son las variables (`var`) que almacenan un solo dato, como los que vimos.\n",
    "\n",
    "Python tiene algunos contenedores básicos integrados: listas (`list`), tuplas (`tuple`) y  diccionarios (`dict`). Y otros extra que agregan bibliotecas, como los arreglos (`array`) de NumPy, que desarrollaremos en el siguiente cuaderno."
   ]
  },
  {
   "cell_type": "markdown",
   "id": "5680cf70",
   "metadata": {
    "id": "cyA96tyst5jy"
   },
   "source": [
    "### Listas\n",
    "\n",
    "Las listas (`list`) son contenedores de datos o, más precisamente, son *datos compuestos* que se definen como secuencias de valores. Estos valores pueden ser todos de un mismo tipo o incluir datos de diferentes tipos (por esta propiedad se les llama *heterogeneas*). A diferencia de otros contenedores que veremos, las listas son secuencias *ordenadas* de datos, de forma que podemos acceder a un dato dentro de una lista por su posición en la misma. Además, las listas son *mutables*, es decir, que sus contenidos se pueden re-definir luego de creada la lista.\n",
    "\n",
    "Se definen usando corchetes y separando cada uno de los datos que queremos agregar con una coma."
   ]
  },
  {
   "cell_type": "code",
   "execution_count": 132,
   "id": "69808267",
   "metadata": {
    "id": "alp1SRCixagO"
   },
   "outputs": [
    {
     "name": "stdout",
     "output_type": "stream",
     "text": [
      "[1, 2, 3, 4, 'hola']\n"
     ]
    }
   ],
   "source": [
    "lista = [1,2,3,4, \"hola\"]\n",
    "\n",
    "print(lista)"
   ]
  },
  {
   "cell_type": "markdown",
   "id": "c1ee3bf9",
   "metadata": {
    "id": "MRP_MJUcxiEw"
   },
   "source": [
    "Aquí es necesario notar que, al ser una secuencia ordenada, cada elemento en una lista tendrá un índice. El indice de la lista da una posición desde el 0 hasta N-1 (siendo N el número de elementos de la lista) a un determinado elemento.\n",
    "\n",
    "Para acceder a un elemento \"i\" de la lista, debemos indicarlo entre corchetes, como sigue:"
   ]
  },
  {
   "cell_type": "code",
   "execution_count": 131,
   "id": "945cda48",
   "metadata": {
    "id": "G2_K-Vw0ys7v"
   },
   "outputs": [
    {
     "name": "stdout",
     "output_type": "stream",
     "text": [
      "3\n"
     ]
    }
   ],
   "source": [
    "i = 2    # posicion a la que queremos acceder de la lista\n",
    "\n",
    "print(lista[i])"
   ]
  },
  {
   "cell_type": "markdown",
   "id": "b8bf227e",
   "metadata": {
    "id": "EEo4iMAVytOj"
   },
   "source": [
    "**Notá que el tercer elemento de la lista que definimos más arriba se accede con el índice 2, ¡Python comienza a contar en 0!**"
   ]
  },
  {
   "cell_type": "markdown",
   "id": "33d44f20",
   "metadata": {
    "id": "NElovJY3ysNY"
   },
   "source": [
    "#### Función [`len()`](https://docs.python.org/3/library/functions.html#len)\n",
    "\n",
    "Una función útil para el manejo de listas es la función integrada [`len()`](https://docs.python.org/3/library/functions.html#len) que nos indica la cantidad de elementos contenidos en una determinada lista."
   ]
  },
  {
   "cell_type": "code",
   "execution_count": 125,
   "id": "55cd34d1-9630-4d1d-b31e-31aab0c5fc0d",
   "metadata": {},
   "outputs": [
    {
     "name": "stdout",
     "output_type": "stream",
     "text": [
      "Ellipsis\n"
     ]
    }
   ],
   "source": [
    "lista = [1, 2, 3, 4, 5]\n",
    "n = len(lista)\n",
    "\n",
    "print(n)"
   ]
  },
  {
   "cell_type": "markdown",
   "id": "46555f7d",
   "metadata": {
    "id": "2VsDjfBK2bjU"
   },
   "source": [
    "[Aquí](https://docs.python.org/3/tutorial/datastructures.html#more-on-lists) puede explorar diferentes métodos asociados a las listas. Los métodos son funciones especificas del tipo de dato con el que se está trabajando. En este caso, las listas, pero también los hay para los datos numéricos, las cadenas de textos, los booleanos y los demás tipos de datos compuestos que veremos en adelante."
   ]
  },
  {
   "cell_type": "markdown",
   "id": "e9a9e856",
   "metadata": {
    "id": "zsqKM3S30ydf"
   },
   "source": [
    "### Tuplas\n",
    "\n",
    "Las tuplas (`tuple`) son, al igual que las listas, un tipo de secuencia de datos. También son secuencias ordenadas y heterogeneas pero, a diferencia de las listas, son inmutables. Esto significa que, una vez definidas, su valor no puede ser cambiado.\n",
    "\n",
    "Se definen de forma análoga a las listas, pero usando paréntesis en vez de corchetes:\n",
    "\n",
    "```\n",
    "tupla = (1,2,3,4,\"hola\")\n",
    "```\n"
   ]
  },
  {
   "cell_type": "markdown",
   "id": "001f312f",
   "metadata": {
    "id": "IkZrasVF3c3Q"
   },
   "source": [
    "Una lista (u otro dato) se puede convertir en una tupla con la función integrada [`tuple()`](https://docs.python.org/3/library/functions.html#func-tuple), como sigue:\n",
    "\n",
    "```\n",
    "tupla = tuple(lista)\n",
    "```"
   ]
  },
  {
   "cell_type": "markdown",
   "id": "f33175d8",
   "metadata": {
    "id": "JMx8H-sV301L"
   },
   "source": [
    "En la siguiente celda genere una lista con lo que desee y conviertala a una tupla:"
   ]
  },
  {
   "cell_type": "code",
   "execution_count": null,
   "id": "4f7b292a",
   "metadata": {
    "id": "_b25AJgW3zpI"
   },
   "outputs": [],
   "source": [
    "# Inserte su código aquí "
   ]
  },
  {
   "cell_type": "markdown",
   "id": "86242269",
   "metadata": {
    "id": "qphrJZ9S3G7W"
   },
   "source": [
    "Las tuplas comparten algunos de los métodos y funciones de las listas, aunque también incluyen algunos extras."
   ]
  },
  {
   "cell_type": "markdown",
   "id": "606f29e8",
   "metadata": {
    "id": "PfAE0EYJ4FBq"
   },
   "source": [
    "### Diccionarios\n",
    "\n",
    "Los diccionarios (`dict`) son tipos de datos compuestos, o contenedores. Este tipo de contenedores **no es ordenado** sino que mapea datos con claves. Es un tipo de dato mutable y heterogeneo, ya que sus valores pueden ser modificados y no tienen porque ser del mismo tipo de datos.\n",
    "\n",
    "Se definen con la siguiente sintaxis:\n",
    "\n",
    "```\n",
    "diccionario = {clave1: dato1, clave2: dato2}\n",
    "```\n",
    "\n",
    "También se pueden definir con la función [`dict()`](https://docs.python.org/3/library/functions.html#func-dict) de la siguiente manera:\n",
    "\n",
    "```\n",
    "diccionario = dict(clave1=dato1, clave2=dato2}\n",
    "```"
   ]
  },
  {
   "cell_type": "markdown",
   "id": "077d3a7e",
   "metadata": {
    "id": "OXtacVU04K19"
   },
   "source": [
    "Al no ser ordenados, para acceder a un dato en un diccionario es necesario conocer la clave que lo referencia. En tal caso, se accede al dato de forma analoga que en una lista, usando paréntesis rectos:\n",
    "\n",
    "```\n",
    "diccionario[\"clave\"]\n",
    "```"
   ]
  },
  {
   "cell_type": "markdown",
   "id": "7a4344c9",
   "metadata": {
    "id": "74lxDLFI5tg2"
   },
   "source": [
    "Una vez creado un diccionario, puede agregarle un elemento de la siguiente manera:\n",
    "\n",
    "```\n",
    "diccionario[\"clave\"] = valor\n",
    "```\n",
    "Con esta misma sintaxis se puede re-definir un valor en un diccionario con una clave ya existente."
   ]
  },
  {
   "cell_type": "markdown",
   "id": "f8abd8a4",
   "metadata": {
    "id": "npnvs9mx6fwD"
   },
   "source": [
    "#### Método `keys()`\n",
    "\n",
    "Un método que puede ser util para el manejo de diccionarios es el método [`keys()`](https://docs.python.org/3/library/stdtypes.html#keys). Como su nombre lo dice, nos devuelve las claves contenidas dentro del diccionario. La sintaxis es la siguiente:\n",
    "\n",
    "```\n",
    "diccionario.keys()\n",
    "```\n",
    "\n",
    "Notar que al ser un método y no una función se aplica seguido del nombre del objeto (diccionario en este caso) con un punto entre medio. En las funciones, los objetos se le indican a la función entre los paréntesis, lo que se llama *argumentos* de la función.\n",
    "\n",
    "Puede explorar otros métodos interesantes y útiles de los diccionarios [aquí](https://entrenamiento-python-basico.readthedocs.io/es/2.7/leccion3/tipo_diccionarios.html#metodos)."
   ]
  },
  {
   "cell_type": "markdown",
   "id": "bcf0f379",
   "metadata": {
    "id": "d-Y2_xGZ6AXr"
   },
   "source": [
    "#### Ejercicio de codificación 4\n",
    "\n",
    "En la siguiente celda, defina un diccionario con el contenido que desee y agregue posteriormente un nuevo dato."
   ]
  },
  {
   "cell_type": "code",
   "execution_count": 21,
   "id": "5e06503f",
   "metadata": {
    "editable": true,
    "id": "gqpu6r4z2Ti9",
    "slideshow": {
     "slide_type": ""
    },
    "tags": []
   },
   "outputs": [
    {
     "name": "stdout",
     "output_type": "stream",
     "text": [
      "Region: Ellipsis\n",
      "Tasa de disparo: Ellipsis\n",
      "Tiempo (s): Ellipsis\n"
     ]
    }
   ],
   "source": [
    "diccionario = {\"region\": \"VISp\", \"Hz\": 17, \"t\": 1}\n",
    "\n",
    "print(\"Region:\", ...)\n",
    "print(\"Tasa de disparo:\", ...)\n",
    "print(\"Tiempo (s):\", ...)"
   ]
  },
  {
   "cell_type": "markdown",
   "id": "6b47c253-a637-4fc3-8b58-e42c1b4a56c4",
   "metadata": {},
   "source": [
    "[Hacé click para la solución](https://raw.githubusercontent.com/MaestriaCienciasCognitivas/ncc/main/book/solutions/Cuaderno1_Ejercicio4.py)\n",
    "\n",
    "_Salida esperada:_\n",
    "\n",
    "```\n",
    "Region: VISp\n",
    "Tasa de disparo: 17\n",
    "Tiempo (s): 1\n",
    "```"
   ]
  },
  {
   "cell_type": "markdown",
   "id": "9238f84f",
   "metadata": {
    "id": "7BZru0ps2Siz"
   },
   "source": [
    "### Conjuntos\n",
    "\n",
    "Los conjuntos son tipos de datos no ordenados y **sin elementos repetidos**. Pueden ser de tipo `set`, que son conjuntos no ordenados, sin duplicados y mutables; o de tipo `frozenset` que son conjuntos no ordenados, sin duplicados e inmutables.\n",
    "\n",
    "Se definen con la siguiente sintaxis:\n",
    "\n",
    "```\n",
    "conjunto_mutable = set(lista)\n",
    "conjunto_inmutable = frozenset(lista)\n",
    "```\n",
    "\n",
    "Una vez definidos, si la lista que se utiliza para generarlos contiene duplicados, estos seran eliminados.\n",
    "\n",
    "Hay muchos [metodos](https://entrenamiento-python-basico.readthedocs.io/es/3.7/leccion3/tipo_conjuntos.html#metodos) integrados para manipular conjuntos."
   ]
  },
  {
   "cell_type": "markdown",
   "id": "eb7a171c",
   "metadata": {
    "id": "1mDxU99R8QUr"
   },
   "source": [
    "## Iterables y condicionales\n",
    "\n",
    "Un [`iterable`](https://docs.python.org/3/glossary.html#term-iterable) en Python es un objeto capaz de devolver sus elementos uno a la vez. Permitiendo, por ende, ser utilizados en un loop (`for` o `while`). Ejemplos ordenados que ya hemos visto son las listas, las cadenas de texto y las tuplas. Tambien son iterables los tipos de datos no ordenados, como los diccionarios y los conjuntos."
   ]
  },
  {
   "cell_type": "markdown",
   "id": "236595a5",
   "metadata": {
    "id": "PU_4xwxQKiV2"
   },
   "source": [
    "### [`for`](https://docs.python.org/3/reference/compound_stmts.html#the-for-statement) loops\n",
    "\n",
    "Los [`for`](https://docs.python.org/3/reference/compound_stmts.html#the-for-statement) loops for permiten iterar sobre un [`iterable`](https://docs.python.org/3/glossary.html#term-iterable), aplicando una porción de código a cada elemento.\n",
    "\n",
    "La sintaxis es:\n",
    "\n",
    "```\n",
    "for elemento in iterable:\n",
    "  # codigo a aplicar\n",
    "```"
   ]
  },
  {
   "cell_type": "markdown",
   "id": "971e064c",
   "metadata": {
    "id": "yzwgg9P3LYFz"
   },
   "source": [
    "Por ejemplo:"
   ]
  },
  {
   "cell_type": "code",
   "execution_count": 142,
   "id": "035a8ac5",
   "metadata": {
    "id": "SxaxIf4-Kh_T"
   },
   "outputs": [
    {
     "name": "stdout",
     "output_type": "stream",
     "text": [
      "1\n",
      "2\n",
      "3\n",
      "4\n"
     ]
    }
   ],
   "source": [
    "# Definimos la lista.\n",
    "lista = [1, 2, 3, 4]\n",
    "\n",
    "# Imprimimos cada elemento dentro de ella.\n",
    "for elemento in lista:\n",
    "  # Notar que `elemento` podria ser cualquier palabra que yo defina, siempre que sea consistente al usarla dentro del codigo del loop.\n",
    "  print(elemento)"
   ]
  },
  {
   "cell_type": "markdown",
   "id": "cf9f06eb-727b-488a-ae5f-6d4ca91264ef",
   "metadata": {},
   "source": [
    "#### Función `range()`"
   ]
  },
  {
   "cell_type": "markdown",
   "id": "aeedce92",
   "metadata": {
    "id": "IXgxoW1qMOVS"
   },
   "source": [
    "Un caso particular de [`for`](https://docs.python.org/3/reference/compound_stmts.html#the-for-statement) loops es iterar en una lista de numeros ordenadas (un rango) para lo cual seteamos un indice.\n",
    "\n",
    "En este caso es util conocer la función [`range(i,j,k)`](https://docs.python.org/3/library/stdtypes.html#range) que genera una lista, entre los valores i y j, con saltos de tamaño k.\n",
    "\n",
    "Esta funcion tambien se puede simplificar a `range(n)`, caso para el cual genera una lista de 0 a n con saltos de 1."
   ]
  },
  {
   "cell_type": "code",
   "execution_count": 143,
   "id": "da3e2203",
   "metadata": {
    "id": "vddRUYeMNEBK"
   },
   "outputs": [
    {
     "name": "stdout",
     "output_type": "stream",
     "text": [
      "0\n",
      "1\n",
      "2\n",
      "0\n",
      "1\n",
      "2\n",
      "0\n",
      "1\n",
      "2\n"
     ]
    }
   ],
   "source": [
    "for step in [0, 1, 2]:\n",
    "  print(step)\n",
    "\n",
    "for step in range(3):\n",
    "  print(step)\n",
    "\n",
    "start = 0\n",
    "end = 3\n",
    "stepsize = 1\n",
    "\n",
    "for step in range(start, end, stepsize):\n",
    "  print(step)"
   ]
  },
  {
   "cell_type": "markdown",
   "id": "16b9caaa",
   "metadata": {
    "id": "x961G2qwM4RA"
   },
   "source": [
    "#### Ejercicio de codificación 5\n",
    "\n",
    "Dada la ecuación:\n",
    "\n",
    "$$x(t)=\\dfrac{2\\pi}{0.01}t$$\n",
    "\n",
    "Calculá los valores que toma $x$ a lo largo de 1 segundo. Si te animás, usá el operador `+=`, que suma al valor registrado a la izquierda el número situado a la derecha, y sobreescribe el valor de la variable a la izquierda con el valor resultante (el equivalente seria decir `var = var + numero`)."
   ]
  },
  {
   "cell_type": "code",
   "execution_count": 27,
   "id": "25db4564-998d-46bb-a7f7-42b521a29266",
   "metadata": {
    "editable": true,
    "slideshow": {
     "slide_type": ""
    },
    "tags": []
   },
   "outputs": [
    {
     "name": "stdout",
     "output_type": "stream",
     "text": [
      "x acumulado = Ellipsis\n"
     ]
    }
   ],
   "source": [
    "pi = 3.14\n",
    "steps = 10\n",
    "dt = 0.1    # en segundos\n",
    "cum_x = 0   # valor acumulado de x\n",
    "\n",
    "for step in range(steps):\n",
    "    t = ...    # usá dt acá\n",
    "    x = ...\n",
    "    cum_x = ...\n",
    "    \n",
    "print(f\"x acumulado =\", cum_x)"
   ]
  },
  {
   "cell_type": "markdown",
   "id": "86fd929f-d2a6-4586-9e89-3f63df2b99dc",
   "metadata": {},
   "source": [
    "[Hacé click para la solución](https://raw.githubusercontent.com/MaestriaCienciasCognitivas/ncc/main/book/solutions/Cuaderno1_Ejercicio5.py)\n",
    "\n",
    "_Salida esperada:_\n",
    "\n",
    "```\n",
    "x acumulado = 2826.0\n",
    "```"
   ]
  },
  {
   "cell_type": "markdown",
   "id": "d2ab51b2",
   "metadata": {
    "id": "VL9irOn-8gDi"
   },
   "source": [
    "### Condicionales (`if`, `else`, `elif`)\n",
    "\n",
    "Los condicionales son operadores que permiten ejecutar determinado código **solamente** cuando se cumpla una determinada condición definida por el programador/a."
   ]
  },
  {
   "cell_type": "markdown",
   "id": "ccb910ef",
   "metadata": {
    "id": "VvD2x2CePFPf"
   },
   "source": [
    "El condicional mas comun y versátil de Python es el [`if`](https://docs.python.org/3/reference/compound_stmts.html#if). Este condicional permite distinguir entre multiples condiciones, ejecutando diferentes porciones de código segun cual sea cierta.\n",
    "\n",
    "La sintáxis es como sigue:\n",
    "\n",
    "```\n",
    "if condicion:\n",
    "    # código\n",
    "```\n",
    "\n",
    "Es decir, si cierta condicion es cierta, entonces ejecuta el código definido.\n",
    "\n",
    "Veamos un ejemplo:"
   ]
  },
  {
   "cell_type": "code",
   "execution_count": 135,
   "id": "25297726",
   "metadata": {
    "id": "cJZad-BvPfQp"
   },
   "outputs": [
    {
     "name": "stdout",
     "output_type": "stream",
     "text": [
      "1\n"
     ]
    }
   ],
   "source": [
    "var = 0\n",
    "if var < 5:\n",
    "  # Este sencillo código primero evalúa si el valor guardado en `var` es menor que 5, y en caso de que eso sea cierto, le agrega 1.\n",
    "  var =+ 1\n",
    "print(var)"
   ]
  },
  {
   "cell_type": "markdown",
   "id": "e1aefeaf",
   "metadata": {
    "id": "l2ijp9kfP3DY"
   },
   "source": [
    "Pero ahora podemos querer distinguir entre diferentes condiciones, por ejemplo, que si es mayor que 5 le reste 1:"
   ]
  },
  {
   "cell_type": "code",
   "execution_count": 136,
   "id": "4ab8ea80",
   "metadata": {
    "id": "Z0-GIxUEP-iQ"
   },
   "outputs": [
    {
     "name": "stdout",
     "output_type": "stream",
     "text": [
      "2\n"
     ]
    }
   ],
   "source": [
    "if var < 5:\n",
    "  var += 1\n",
    "elif var > 5:\n",
    "  # notar que el operador `-=` es análogo a `+=` pero con la resta\n",
    "  var -= 1\n",
    "print(var)"
   ]
  },
  {
   "cell_type": "markdown",
   "id": "29354f5b",
   "metadata": {
    "id": "A45Qkdf1QIjj"
   },
   "source": [
    "Aqui, `elif` nos permite definir una condición alternativa a la definida previamente en el `if`. En el caso de que las condiciones sean las unicas posibilidades, podemos definir de forma análoga:"
   ]
  },
  {
   "cell_type": "code",
   "execution_count": 137,
   "id": "aa8f6135",
   "metadata": {
    "id": "Ve6EzajOQiFR"
   },
   "outputs": [
    {
     "name": "stdout",
     "output_type": "stream",
     "text": [
      "3\n"
     ]
    }
   ],
   "source": [
    "if var < 5:\n",
    "  var += 1\n",
    "else:\n",
    "  var -= 1\n",
    "print(var)"
   ]
  },
  {
   "cell_type": "markdown",
   "id": "ba6a6cc8",
   "metadata": {
    "id": "zY0aMdJDQkmO"
   },
   "source": [
    "Notar que en este caso, el complemento de `var < 5` es `var >= 5` de forma que esto no es lo mismo que lo que definimos anteriormente. Para ser fieles a lo anterior podriamos definir:"
   ]
  },
  {
   "cell_type": "code",
   "execution_count": 138,
   "id": "a626212f",
   "metadata": {
    "id": "rGyIB6k_Q2D0"
   },
   "outputs": [
    {
     "name": "stdout",
     "output_type": "stream",
     "text": [
      "4\n"
     ]
    }
   ],
   "source": [
    "if var < 5:\n",
    "  var += 1\n",
    "elif var>5:\n",
    "  var -= 1\n",
    "else:\n",
    "  var = var\n",
    "print(var)"
   ]
  },
  {
   "cell_type": "markdown",
   "id": "435a266c",
   "metadata": {
    "id": "seI6fzIwQ_Na"
   },
   "source": [
    "Este codigo busca acercar `var` a 5. De forma que si `var` es igual a 5 se mantiene sin cambiar. En esa sintáxis el ultimo `else` es innecesario y podriamos simplemente no agregarlo ya que no agrega nada al código."
   ]
  },
  {
   "cell_type": "markdown",
   "id": "26229abd",
   "metadata": {
    "id": "0zsIaYDhRQN8"
   },
   "source": [
    "#### Ejercicio de codificación 6\n",
    "\n",
    "¿Cómo podriamos generar un condicional para que evalue si una variable step cruza un umbral arbitrario, por ejemplo, 5?"
   ]
  },
  {
   "cell_type": "code",
   "execution_count": 30,
   "id": "3a141061",
   "metadata": {
    "editable": true,
    "id": "MoyEpuY2Rl9T",
    "slideshow": {
     "slide_type": ""
    },
    "tags": []
   },
   "outputs": [
    {
     "name": "stdout",
     "output_type": "stream",
     "text": [
      "0 no cruza el umbral\n",
      "1 no cruza el umbral\n",
      "2 no cruza el umbral\n",
      "3 no cruza el umbral\n",
      "4 no cruza el umbral\n",
      "5 no cruza el umbral\n",
      "6 cruza el umbral\n",
      "7 cruza el umbral\n",
      "8 cruza el umbral\n",
      "9 cruza el umbral\n"
     ]
    }
   ],
   "source": [
    "steps = 10\n",
    "umbral = 5\n",
    "\n",
    "for step in range(steps):\n",
    "    if step > umbral:\n",
    "        print(step, \"cruza el umbral\")\n",
    "    else:\n",
    "        print(step, \"no cruza el umbral\")"
   ]
  },
  {
   "cell_type": "markdown",
   "id": "8a6a1645-2484-4f8b-9b0b-13c0a4fab228",
   "metadata": {
    "id": "5HEfrjC1SH9J"
   },
   "source": [
    "[Hacé click para la solución](https://raw.githubusercontent.com/MaestriaCienciasCognitivas/ncc/main/book/solutions/Cuaderno1_Ejercicio6.py)\n",
    "\n",
    "_Salida esperada:_\n",
    "\n",
    "```\n",
    "0 no cruza el umbral\n",
    "1 no cruza el umbral\n",
    "2 no cruza el umbral\n",
    "3 no cruza el umbral\n",
    "4 no cruza el umbral\n",
    "5 no cruza el umbral\n",
    "6 cruza el umbral\n",
    "7 cruza el umbral\n",
    "8 cruza el umbral\n",
    "9 cruza el umbral\n",
    "```"
   ]
  },
  {
   "cell_type": "markdown",
   "id": "dddf2a9e",
   "metadata": {
    "id": "NYJ15V0WL6ja"
   },
   "source": [
    "### [`while`](https://docs.python.org/3/reference/compound_stmts.html#the-while-statement) loops\n",
    "\n",
    "Los loops [`while`](https://docs.python.org/3/reference/compound_stmts.html#the-while-statement) integran la funcionalidad de los loops [`for`](https://docs.python.org/3/reference/compound_stmts.html#the-for-statement) con la de los condicionales. Un loop [`while`](https://docs.python.org/3/reference/compound_stmts.html#the-while-statement) va a repetir cierto código siempre que se cumpla una determinada condición.\n",
    "\n",
    "La sintaxis para un loop [`while`](https://docs.python.org/3/reference/compound_stmts.html#the-while-statement) es la siguiente:\n",
    "\n",
    "```\n",
    "while condicion:\n",
    "    # codigo a iterar\n",
    "```"
   ]
  },
  {
   "cell_type": "markdown",
   "id": "62bb3b92",
   "metadata": {
    "id": "HaTfSGLnSn1A"
   },
   "source": [
    "Por ejemplo, para resolver el caso discutido en los condicionales, podriamos definir el siguiente loop while"
   ]
  },
  {
   "cell_type": "code",
   "execution_count": 205,
   "id": "3e25e168",
   "metadata": {
    "id": "ZWT1m60mSuRK"
   },
   "outputs": [
    {
     "name": "stdout",
     "output_type": "stream",
     "text": [
      "5\n"
     ]
    }
   ],
   "source": [
    "var = 0\n",
    "while var < 5:\n",
    "   # Notar que si var >= 5, la condicion es `False` desde el comienzo entonces no se ejecuta nunca el cádigo de más abajo\n",
    "  var += 1\n",
    "print(var)"
   ]
  },
  {
   "cell_type": "markdown",
   "id": "43603331",
   "metadata": {
    "id": "EvHhV5XYdPha"
   },
   "source": [
    "## Funciones\n",
    "\n",
    "La programación sin funciones es virtualmente inusable. Una función permite empaquetar un conjunto de operaciones que se hacen de manera repetida, de modo que en lugar de repetir el código, se envíen los datos a la función que devuelve el resultado. En Python las funciones se definen usando la clave  `def`. Las funciones reciben argumentos (las entradas) y devuelven (retornan en el spanglish computacional, por `return`) resultados.\n",
    "\n",
    "La sintaxis para definir una funcion es la siguiente:\n",
    "\n",
    "```\n",
    "def funcion(a,b):\n",
    "  # codigo a ejecutar\n",
    "  return salida\n",
    "```\n",
    "\n",
    "Por ejemplo:"
   ]
  },
  {
   "cell_type": "code",
   "execution_count": 141,
   "id": "1ebf31a9",
   "metadata": {
    "colab": {
     "base_uri": "https://localhost:8080/"
    },
    "id": "O7I2of8adk83",
    "outputId": "ea970987-dc22-4c8a-ddfa-fd55876a29d7"
   },
   "outputs": [
    {
     "name": "stdout",
     "output_type": "stream",
     "text": [
      "-25: negativo\n",
      "0: cero\n",
      "12: positivo\n"
     ]
    }
   ],
   "source": [
    "def sign(x):\n",
    "  if x > 0:\n",
    "    return 'positivo'\n",
    "  elif x < 0:\n",
    "    return 'negativo'\n",
    "  else:\n",
    "    return 'cero'\n",
    "\n",
    "for x in [-25, 0, 12]:\n",
    "  print(f\"{x}:\", sign(x))"
   ]
  },
  {
   "cell_type": "markdown",
   "id": "2406a8d6",
   "metadata": {
    "id": "4mfO7-l3XXeT"
   },
   "source": [
    "Hay varias cosas a notar en la definición de una función. Por un lado, **todo el código a ejecutar por nuestra funcion debe estar indentado a la derecha**, si no Python no lo considerara como parte de la función. Esto es muy importante ya que el indentado nos determinará que partes de nuestro código son de la función y qué partes no. De no llevar con cuidado el mismo es muy fácil encontrar errores.\n",
    "\n",
    "Por otro lado, en nuestro ejemplo tenemos la entrada `x` y las salidas, que son de tipo `str`, pueden darte una de 3 opciones según la entrada: `positivo`, `negativo` y `cero`. **Si bien esta función tiene salidas y entradas, podríamos tener funciones que no tuvieran una de las dos, o incluso ninguna**. Por ejemplo, si queremos repetir un código que siempre igual y que su funcionalidad no depende de una variable que haya que devolver."
   ]
  },
  {
   "cell_type": "markdown",
   "id": "9a63f1d4",
   "metadata": {
    "id": "oJ2qCkxyV3yt"
   },
   "source": [
    "### Ejercicio de codificación 7\n",
    "\n",
    "Escriba una función que dado un numero retorne el factorial del número. Fuera de la función cree un comando `print()` que imprima en pantalla el resultado del factorial de 10."
   ]
  },
  {
   "cell_type": "code",
   "execution_count": 7,
   "id": "85c5f90c",
   "metadata": {
    "id": "zwlDM7kles7k"
   },
   "outputs": [
    {
     "name": "stdout",
     "output_type": "stream",
     "text": [
      "10! = Ellipsis\n"
     ]
    }
   ],
   "source": [
    "def factorial(x):\n",
    "    return ...\n",
    "\n",
    "print(f\"{10}! =\", factorial(10))"
   ]
  },
  {
   "cell_type": "markdown",
   "id": "5578a08b-dff9-4afe-aa2b-32fd30c59395",
   "metadata": {},
   "source": [
    "[Hacé click para la solución](https://raw.githubusercontent.com/MaestriaCienciasCognitivas/ncc/main/book/solutions/Cuaderno1_Ejercicio7.py)\n",
    "\n",
    "_Salida esperada:_\n",
    "\n",
    "```\n",
    "10! = 3628800\n",
    "```"
   ]
  },
  {
   "cell_type": "markdown",
   "id": "8ee566d3",
   "metadata": {
    "id": "jsJBcCrm8oo6"
   },
   "source": [
    "## Bonificación 1: Ejercicios"
   ]
  },
  {
   "cell_type": "markdown",
   "id": "af6ef8cd",
   "metadata": {
    "id": "Pgm_MXLEZxtD"
   },
   "source": [
    "### Ejercicio adicional 1\n",
    "\n",
    "Definir una función `max()` que tome como argumento dos números y devuelva el mayor de ellos. (Es cierto que Python tiene una función [`max()`](https://docs.python.org/3/library/functions.html#max) incorporada, pero hacerla nosotros mismos es un muy buen ejercicio)."
   ]
  },
  {
   "cell_type": "code",
   "execution_count": 29,
   "id": "749f463e",
   "metadata": {
    "id": "ccMuk9AYZ9Ii"
   },
   "outputs": [
    {
     "name": "stdout",
     "output_type": "stream",
     "text": [
      "Ellipsis\n",
      "Ellipsis\n",
      "Ellipsis\n",
      "Ellipsis\n"
     ]
    }
   ],
   "source": [
    "def max(x, y):\n",
    "    return ...\n",
    "\n",
    "print(max(4, 3))\n",
    "print(max(2, 3))\n",
    "print(max(-1, 0))\n",
    "print(max(-7, -5))"
   ]
  },
  {
   "cell_type": "markdown",
   "id": "a80f9e8c-f536-4335-bb38-702a6a1b324f",
   "metadata": {},
   "source": [
    "[Hacé click para la solución](https://raw.githubusercontent.com/MaestriaCienciasCognitivas/ncc/main/book/solutions/Cuaderno1_EjercicioAdicional1.py)\n",
    "\n",
    "_Resultado esperado:_\n",
    "\n",
    "``` \n",
    "4\n",
    "3\n",
    "0\n",
    "-5\n",
    "```"
   ]
  },
  {
   "cell_type": "markdown",
   "id": "44165ada",
   "metadata": {
    "id": "Q7cm4pTLaRlX"
   },
   "source": [
    "### Ejercicio adicional 2\n",
    "\n",
    "Definir una función `max_de_tres()`, que tome tres números como argumentos y devuelva el mayor de ellos."
   ]
  },
  {
   "cell_type": "code",
   "execution_count": 1,
   "id": "92f5bd9f",
   "metadata": {
    "id": "YqkYRS36aW3D"
   },
   "outputs": [
    {
     "name": "stdout",
     "output_type": "stream",
     "text": [
      "4\n",
      "3\n",
      "1\n",
      "-4\n"
     ]
    }
   ],
   "source": [
    "def max_de_tres(x, y, z):\n",
    "    return ...\n",
    "\n",
    "print(max_de_tres(4, 3, 2))\n",
    "print(max_de_tres(2, 3, 1))\n",
    "print(max_de_tres(-1, 0, 1))\n",
    "print(max_de_tres(-7, -5, -4))"
   ]
  },
  {
   "cell_type": "markdown",
   "id": "4d63a4a1-8ae2-454b-8b2d-0fd91f4125d3",
   "metadata": {},
   "source": [
    "[Hacé click para la solución](https://raw.githubusercontent.com/MaestriaCienciasCognitivas/ncc/main/book/solutions/Cuaderno1_EjercicioAdicional2.py)\n",
    "\n",
    "_Salida esperada:_\n",
    "\n",
    "``` \n",
    "4\n",
    "3\n",
    "1\n",
    "-4\n",
    "```"
   ]
  },
  {
   "cell_type": "markdown",
   "id": "0ed55269",
   "metadata": {
    "id": "cInGRUEVaqd2"
   },
   "source": [
    "### Ejercicio adicional 3\n",
    "\n",
    "Definir una función que calcule la longitud de una lista o una cadena dada. (Es cierto que Python tiene la función [`len()`](https://docs.python.org/3/library/functions.html#len) incorporada, pero escribirla por nosotros mismos resulta un muy buen ejercicio)."
   ]
  },
  {
   "cell_type": "code",
   "execution_count": 4,
   "id": "1587656d",
   "metadata": {
    "id": "BYziNd9XarUg"
   },
   "outputs": [
    {
     "name": "stdout",
     "output_type": "stream",
     "text": [
      "2\n",
      "1\n",
      "0\n"
     ]
    }
   ],
   "source": [
    "def len(lista):\n",
    "    return ...\n",
    "\n",
    "print(len([1, 2]))\n",
    "print(len([1]))\n",
    "print(len([]))"
   ]
  },
  {
   "cell_type": "markdown",
   "id": "0a68e384-1d94-4855-896f-10b4fcd63cec",
   "metadata": {},
   "source": [
    "[Hacé click para la solución](https://raw.githubusercontent.com/MaestriaCienciasCognitivas/ncc/main/book/solutions/Cuaderno1_EjercicioAdicional3.py)\n",
    "\n",
    "_Salida esperada:_\n",
    "\n",
    "```\n",
    "2\n",
    "1\n",
    "0\n",
    "```"
   ]
  },
  {
   "cell_type": "markdown",
   "id": "5ebd7c56",
   "metadata": {
    "id": "FhS8GagWa_Uf"
   },
   "source": [
    "### Ejercicio adicional 4\n",
    "\n",
    "Definir una función `inversa()` que calcule la inversión de una cadena. Por ejemplo, la cadena `\"estoy probando\"` debería devolver la cadena `\"odnaborp yotse\"`."
   ]
  },
  {
   "cell_type": "code",
   "execution_count": 11,
   "id": "779a7b34",
   "metadata": {
    "id": "GgQ_i5imbIZT"
   },
   "outputs": [
    {
     "name": "stdout",
     "output_type": "stream",
     "text": [
      "Ellipsis\n",
      "Ellipsis\n"
     ]
    }
   ],
   "source": [
    "def inversa(texto):\n",
    "    return ...\n",
    "\n",
    "print(inversa(\"estoy probando\"))\n",
    "print(inversa(\"radar\"))"
   ]
  },
  {
   "cell_type": "markdown",
   "id": "8bc2524e-2cb4-4f4a-ba7e-458ae92f5f27",
   "metadata": {},
   "source": [
    "[Hacé click para la solución](https://raw.githubusercontent.com/MaestriaCienciasCognitivas/ncc/main/book/solutions/Cuaderno1_EjercicioAdicional4.py)\n",
    "\n",
    "_Salida esperada:_\n",
    "\n",
    "```\n",
    "odnaborp yotse\n",
    "radar\n",
    "```"
   ]
  },
  {
   "cell_type": "markdown",
   "id": "8fd553e7",
   "metadata": {
    "id": "rx46n-jAcfZz"
   },
   "source": [
    "### Ejercicio adicional 5\n",
    "\n",
    "Definir una función `es_palindromo()` que reconoce palíndromos (es decir, palabras que tienen el mismo aspecto escritas invertidas). Por ejemplo, `es_palindromo(\"radar\")` tendría que devolver `True`."
   ]
  },
  {
   "cell_type": "code",
   "execution_count": 9,
   "id": "5e2f3834",
   "metadata": {
    "id": "Jjp1wQvFcqZk"
   },
   "outputs": [
    {
     "name": "stdout",
     "output_type": "stream",
     "text": [
      "True\n",
      "False\n"
     ]
    }
   ],
   "source": [
    "def es_palindromo(palabra):\n",
    "    return ...\n",
    "\n",
    "print(es_palindromo(\"radar\"))\n",
    "print(es_palindromo(\"rodar\"))"
   ]
  },
  {
   "cell_type": "markdown",
   "id": "3e639f89-0d81-4669-af26-fb079f928e7c",
   "metadata": {},
   "source": [
    "[Hacé click para la solución](https://raw.githubusercontent.com/MaestriaCienciasCognitivas/ncc/main/book/solutions/Cuaderno1_EjercicioAdicional5.py)\n",
    "\n",
    "_Salida esperada:_\n",
    "\n",
    "``` \n",
    "True\n",
    "False\n",
    "```"
   ]
  },
  {
   "cell_type": "markdown",
   "id": "8590c557",
   "metadata": {
    "id": "ikP-wi50dSE1"
   },
   "source": [
    "### Ejercicio adicional 6\n",
    "\n",
    "Escribir una función `es_vocal()` que tome un carácter y devuelva `True` si es una vocal, de lo contrario devuelve `False`."
   ]
  },
  {
   "cell_type": "code",
   "execution_count": 13,
   "id": "4429ab59",
   "metadata": {
    "id": "1lZ6TXIXdXPl"
   },
   "outputs": [
    {
     "name": "stdout",
     "output_type": "stream",
     "text": [
      "Ellipsis\n",
      "Ellipsis\n"
     ]
    }
   ],
   "source": [
    "def es_vocal(letra):\n",
    "    return ...\n",
    "\n",
    "print(es_vocal(\"a\"))\n",
    "print(es_vocal(\"f\"))"
   ]
  },
  {
   "cell_type": "markdown",
   "id": "ef9ae894-92de-4559-9d8c-bfaf4f8ae00f",
   "metadata": {},
   "source": [
    "[Hacé click para la solución](https://raw.githubusercontent.com/MaestriaCienciasCognitivas/ncc/main/book/solutions/Cuaderno1_EjercicioAdicional6.py)\n",
    "\n",
    "_Salida esperada:_\n",
    "\n",
    "``` \n",
    "True\n",
    "False\n",
    "```"
   ]
  },
  {
   "cell_type": "markdown",
   "id": "7de2934f",
   "metadata": {
    "id": "h2H5tmqSeamR"
   },
   "source": [
    "### Ejercicio adicional 7\n",
    "\n",
    "Escribir una función `sum()` y una función `multip()` que sumen y multipliquen respectivamente todos los números de una lista. Por ejemplo, `sum([1,2,3,4])` debería devolver 10 y `multip([1,2,3,4])` debería devolver 24."
   ]
  },
  {
   "cell_type": "code",
   "execution_count": 15,
   "id": "197c1a1f",
   "metadata": {
    "id": "TveSfn-rfhZe"
   },
   "outputs": [
    {
     "name": "stdout",
     "output_type": "stream",
     "text": [
      "Ellipsis\n",
      "Ellipsis\n"
     ]
    }
   ],
   "source": [
    "def sum(lista):\n",
    "    return ...\n",
    "\n",
    "def multip(lista):\n",
    "    return ...\n",
    "\n",
    "print(sum([1,2,3,4]))\n",
    "print(multip([1,2,3,4]))"
   ]
  },
  {
   "cell_type": "markdown",
   "id": "4432defc-6e0a-43ec-bc23-7a52314cc49e",
   "metadata": {},
   "source": [
    "[Hacé click para la solución](https://raw.githubusercontent.com/MaestriaCienciasCognitivas/ncc/main/book/solutions/Cuaderno1_EjercicioAdicional7.py)\n",
    "\n",
    "_Salida esperada:_\n",
    "\n",
    "``` \n",
    "10\n",
    "24\n",
    "```"
   ]
  },
  {
   "cell_type": "markdown",
   "id": "7c767b6c",
   "metadata": {
    "id": "d9TQwiNvgM9i"
   },
   "source": [
    "### Ejercicio adicional 8\n",
    "\n",
    "Definir una función `superposicion()` que tome dos listas y devuelva `True` si tienen al menos un miembro en común o devuelva `False` de lo contrario. Escribir la función usando el bucle `for` anidado."
   ]
  },
  {
   "cell_type": "code",
   "execution_count": 17,
   "id": "36db30a9",
   "metadata": {
    "id": "h5JymspbgVLV"
   },
   "outputs": [
    {
     "name": "stdout",
     "output_type": "stream",
     "text": [
      "Ellipsis\n",
      "Ellipsis\n"
     ]
    }
   ],
   "source": [
    "def superposicion(lista1, lista2):\n",
    "    return ...\n",
    "\n",
    "print(superposicion([0, 1, 2], [2, 3, 4]))\n",
    "print(superposicion([0, 1, 2], [3, 4, 5]))"
   ]
  },
  {
   "cell_type": "markdown",
   "id": "b27e6972-c44e-4096-a45d-d5ed2f06a46b",
   "metadata": {},
   "source": [
    "[Hacé click para la solución](https://raw.githubusercontent.com/MaestriaCienciasCognitivas/ncc/main/book/solutions/Cuaderno1_EjercicioAdicional8.py)\n",
    "\n",
    "_Salida esperada:_\n",
    "\n",
    "``` \n",
    "True\n",
    "False\n",
    "```"
   ]
  },
  {
   "cell_type": "markdown",
   "id": "348d08b6",
   "metadata": {
    "id": "Uw7jJEc6hbBo"
   },
   "source": [
    "### Ejercicio adicional 9\n",
    "\n",
    "Definir una función `generar_n_caracteres()` que tome un entero n y devuelva el caracter multiplicado por n. Por ejemplo, `generar_n_caracteres(5, \"x\")` debería devolver `\"xxxxx\"`."
   ]
  },
  {
   "cell_type": "code",
   "execution_count": 21,
   "id": "f18b3df1",
   "metadata": {
    "id": "dtEfIPeDheHr"
   },
   "outputs": [
    {
     "name": "stdout",
     "output_type": "stream",
     "text": [
      "xxxxx\n",
      "***\n"
     ]
    }
   ],
   "source": [
    "def generar_n_caracteres(n, caracter):\n",
    "    return ...\n",
    "\n",
    "print(generar_n_caracteres(5, \"x\"))\n",
    "print(generar_n_caracteres(3, \"*\"))"
   ]
  },
  {
   "cell_type": "markdown",
   "id": "f5f812ec-88b6-473f-9cf1-4ff5e5405ffa",
   "metadata": {},
   "source": [
    "[Hacé click para la solución](https://raw.githubusercontent.com/MaestriaCienciasCognitivas/ncc/main/book/solutions/Cuaderno1_EjercicioAdicional9.py)\n",
    "\n",
    "_Salida esperada:_\n",
    "\n",
    "``` \n",
    "xxxxx\n",
    "***\n",
    "```"
   ]
  },
  {
   "cell_type": "markdown",
   "id": "015467c7",
   "metadata": {
    "id": "B0DCgqs7h31I"
   },
   "source": [
    "### Ejercicio adicional 10\n",
    "\n",
    "Definir una funcion `procedimiento()` que tome una lista de números enteros e imprima un histograma en la pantalla. Por ejemplo, `procedimiento([4, 9, 7])` debería imprimir lo siguiente:\n",
    "\n",
    "```\n",
    "****\n",
    "*********\n",
    "*******\n",
    "```"
   ]
  },
  {
   "cell_type": "code",
   "execution_count": 23,
   "id": "05874bcb",
   "metadata": {
    "id": "6Qp4LVD0iCqc"
   },
   "outputs": [
    {
     "name": "stdout",
     "output_type": "stream",
     "text": [
      "Ellipsis\n"
     ]
    }
   ],
   "source": [
    "def procedimiento(lista):\n",
    "    return ...\n",
    "\n",
    "print(procedimiento([4, 9, 7]))"
   ]
  },
  {
   "cell_type": "markdown",
   "id": "19dc4c3e-992a-47e6-b4ff-3f66411758f8",
   "metadata": {},
   "source": [
    "[Hacé click para la solución](https://raw.githubusercontent.com/MaestriaCienciasCognitivas/ncc/main/book/solutions/Cuaderno1_EjercicioAdicional10.py)\n",
    "\n",
    "_Salida esperada:_\n",
    "\n",
    "```\n",
    "****\n",
    "*********\n",
    "*******\n",
    "```"
   ]
  },
  {
   "cell_type": "markdown",
   "id": "36cd532f-42cf-4697-bf01-42faf36a2638",
   "metadata": {},
   "source": [
    "## Bonificación 2: Asignación de múltiples variables\n",
    "\n",
    "Se le puede asignar valor a varias variables en una sola linea siguiendo la siguiente sintaxis:\n",
    "\n",
    "```\n",
    "a, b, c = 1, \"hola\", True\n",
    "```\n",
    "\n",
    "Donde `a`, `b` y `c` son los nombres de las variables y `1`, `\"hola\"` y `True` los valores asignados a cada una de ellas, respectivamente.\n",
    "\n",
    "Puedes probar en la siguiente celda definir esas 3 variables y luego imprimir sus valores para comprobar que eso realmente funciona:"
   ]
  },
  {
   "cell_type": "code",
   "execution_count": 71,
   "id": "466ce546-6f6d-4063-8db9-1b273b0dfedb",
   "metadata": {},
   "outputs": [
    {
     "name": "stdout",
     "output_type": "stream",
     "text": [
      "Ellipsis\n"
     ]
    }
   ],
   "source": [
    "a, b, c = 1, \"hola\", True\n",
    "\n",
    "# Se puede imprimir más de una variable indicando cada una de ellas separadas por una coma.\n",
    "print(...)"
   ]
  },
  {
   "cell_type": "markdown",
   "id": "12e50947-4140-4dfc-8265-e70fcca0b4b8",
   "metadata": {},
   "source": [
    "_Salida esperada:_\n",
    "\n",
    "```\n",
    "1 hola True\n",
    "```"
   ]
  },
  {
   "cell_type": "markdown",
   "id": "1d87e567-315e-47c2-b26b-af5b3cf3bc06",
   "metadata": {},
   "source": [
    "## Bonificación 3: Función [`type()`](https://docs.python.org/3/library/functions.html#type)\n",
    "\n",
    "Una función útil para conocer con certeza los datos que manejamos es la función [`type()`](https://docs.python.org/3/library/functions.html#type). Esta función nos devuelve el tipo de dato que contiene cierta variable. Por ejemplo:"
   ]
  },
  {
   "cell_type": "code",
   "execution_count": 62,
   "id": "6366efc0-1cee-4583-a685-32b36c324a32",
   "metadata": {},
   "outputs": [
    {
     "data": {
      "text/plain": [
       "int"
      ]
     },
     "execution_count": 62,
     "metadata": {},
     "output_type": "execute_result"
    }
   ],
   "source": [
    "var = 1\n",
    "type(var)"
   ]
  },
  {
   "cell_type": "markdown",
   "id": "4b235522-5bcf-4bfe-a68a-4154f692262f",
   "metadata": {},
   "source": [
    "nos devuelve `int` ya que el dato contenido en la variable `var` es un número entero.\n",
    "\n",
    "Podés probar tu mismo/a cambiandole el valor a `var`, que no tiene por qué ser un número, y experimentar con la función `type()` los tipos de datos que puedes obtener.\n",
    "\n",
    "Por ejemplo,fijate qué devuelve el valor de una lista. Notarás que devuelve `list`, ya que estamos preguntandole el tipo de dato que guarda la variable, y no el tipo de datos que ella incluye.\n",
    "\n",
    "Para saber que tipo de datos se encuentran contenidos en la lista debemos acceder a la posición del dato que nos interesa."
   ]
  }
 ],
 "metadata": {
  "kernelspec": {
   "display_name": "Python 3 (ipykernel)",
   "language": "python",
   "name": "python3"
  },
  "language_info": {
   "codemirror_mode": {
    "name": "ipython",
    "version": 3
   },
   "file_extension": ".py",
   "mimetype": "text/x-python",
   "name": "python",
   "nbconvert_exporter": "python",
   "pygments_lexer": "ipython3",
   "version": "3.10.18"
  }
 },
 "nbformat": 4,
 "nbformat_minor": 5
}
