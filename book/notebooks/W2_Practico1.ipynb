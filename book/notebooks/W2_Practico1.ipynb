{
 "cells": [
  {
   "cell_type": "markdown",
   "metadata": {},
   "source": [
    "# Práctico 1 - Ecuación de Hodgkin-Huxley"
   ]
  },
  {
   "cell_type": "markdown",
   "metadata": {},
   "source": [
    "$$\n",
    "I=C_{m}{\\frac {{\\mathrm {d} }V_{m}}{{\\mathrm {d} }t}}+{\\bar {g}}_{\\text{K}}n^{4}(V_{m}-V_{K})+{\\bar {g}}_{\\text{Na}}m^{3}h(V_{m}-V_{Na})+{\\bar {g}}_{l}(V_{m}-V_{l})\n",
    "$$\n",
    "\n",
    "$$\n",
    "{\\displaystyle {\\frac {dn}{dt}}=\\alpha _{n}(V_{m})(1-n)-\\beta _{n}(V_{m})n}\n",
    "$$\n",
    "\n",
    "$$\n",
    "{\\displaystyle {\\frac {dm}{dt}}=\\alpha _{m}(V_{m})(1-m)-\\beta _{m}(V_{m})m}\n",
    "$$\n",
    "\n",
    "$$\n",
    "{\\displaystyle {\\frac {dh}{dt}}=\\alpha _{h}(V_{m})(1-h)-\\beta _{h}(V_{m})h}\n",
    "$$"
   ]
  },
  {
   "cell_type": "markdown",
   "metadata": {},
   "source": [
    "Veremos algunas propiedades elementales del modelo de Axón de Hodgkin y Huxley."
   ]
  },
  {
   "cell_type": "markdown",
   "metadata": {},
   "source": [
    "## Configuración\n",
    "\n",
    "Ejecutá las siguientes celdas para configurar el entorno del notebook"
   ]
  },
  {
   "cell_type": "code",
   "execution_count": null,
   "metadata": {},
   "outputs": [],
   "source": [
    "import scipy as sp\n",
    "import numpy as np\n",
    "import matplotlib.pylab as plt\n",
    "from scipy.integrate import odeint\n",
    "from scipy import stats\n",
    "import scipy.linalg as lin\n",
    "import ipywidgets as widgets"
   ]
  },
  {
   "cell_type": "markdown",
   "metadata": {},
   "source": [
    "### Funciones utilitarias"
   ]
  },
  {
   "cell_type": "code",
   "execution_count": null,
   "metadata": {},
   "outputs": [],
   "source": [
    "def I_inj(t, amp1, dur1, amp2=0, dur2=0, sep=50):\n",
    "  \"\"\"Crea una función de corriente inyectada con dos pulsos cuadrados.\n",
    "\n",
    "  Args:\n",
    "    t (ndarray): vector 1D de tiempos (ms), estrictamente creciente.\n",
    "    amp1 (float): amplitud del primer pulso, en uA/cm^2.\n",
    "    dur1 (float): duración del primer pulso, en ms.\n",
    "    amp2 (float): amplitud del segundo pulso, en uA/cm^2.\n",
    "    dur2 (float): duración del segundo pulso, en ms.\n",
    "    sep (float): separación mínima entre los dos pulsos, en ms.\n",
    "\n",
    "  Returns:\n",
    "    function: una función I(t) que devuelve la corriente inyectada I(t).\n",
    "  \"\"\"\n",
    "  tmax = np.max(t)\n",
    "  inicios = np.linspace(0, tmax, 8)\n",
    "  inicio1 = inicios[1]\n",
    "  inicio2 = inicio1 + dur1 + sep\n",
    "  \n",
    "  def I(t):\n",
    "    return (amp1 * (t > inicio1) - amp1 * (t > inicio1 + dur1) +\n",
    "            amp2 * (t > inicio2) - amp2 * (t > inicio2 + dur2))\n",
    "\n",
    "  return I\n",
    "\n",
    "def integrar_hh(t, I):\n",
    "  \"\"\"Integra el modelo de Hodgkin–Huxley con una corriente inyectada I(t).\n",
    "\n",
    "  Args:\n",
    "    t (ndarray): vector 1D de tiempos (ms), estrictamente creciente.\n",
    "    I (function): función de corriente inyectada I(t) en (µA/cm²).\n",
    "\n",
    "  Returns:\n",
    "    V (ndarray): potencial de membrana (mV), mismo shape que `t`.\n",
    "    m (ndarray): variable de activación de Na⁺, shape como `t`.\n",
    "    h (ndarray): variable de inactivación de Na⁺, shape como `t`.\n",
    "    n (ndarray): variable de activación de K⁺, shape como `t`.\n",
    "    ina (ndarray): corriente de sodio I_Na (µA/cm²).\n",
    "    ik  (ndarray): corriente de potasio I_K (µA/cm²).\n",
    "    il  (ndarray): corriente de fuga I_L (µA/cm²).\n",
    "  \"\"\"\n",
    "  # Integramos\n",
    "  def dALLdt(X, t):\n",
    "      V, m, h, n = X\n",
    "      dVdt = (I(t) - I_Na(V, m, h) - I_K(V, n) - I_L(V)) / C_m\n",
    "      dmdt = alpha_m(V)*(1.0-m) - beta_m(V)*m\n",
    "      dhdt = alpha_h(V)*(1.0-h) - beta_h(V)*h\n",
    "      dndt = alpha_n(V)*(1.0-n) - beta_n(V)*n\n",
    "      return dVdt, dmdt, dhdt, dndt\n",
    "  X = odeint(dALLdt, [-65, 0.05, 0.6, 0.32], t)\n",
    "\n",
    "  V = X[:,0]\n",
    "  m = X[:,1]\n",
    "  h = X[:,2]\n",
    "  n = X[:,3]\n",
    "  ina = I_Na(V, m, h)\n",
    "  ik = I_K(V, n)\n",
    "  il = I_L(V)\n",
    "  \n",
    "  return V, m, h, n, ina, ik, il\n",
    "\n",
    "def enmascarar_potenciales_de_accion(t, V, umbral):\n",
    "  \"\"\"Detecta cruces ascendentes de umbral en el potencial de membrana.\n",
    "\n",
    "  Args:\n",
    "    t (ndarray): vector de tiempos (ms).\n",
    "    V (ndarray): potencial de membrana (mV).\n",
    "    umbral (float): umbral de detección (mV).\n",
    "\n",
    "  Returns:\n",
    "    ndarray: máscara booleana con True en cada cruce ascendente.\n",
    "  \"\"\"\n",
    "  mascara = (V[1:] > umbral) & (V[:-1] <= umbral)\n",
    "  mascara = np.concatenate(([False], mascara))\n",
    "  return mascara\n",
    "\n",
    "def contar_potenciales_de_accion(mascara):\n",
    "  \"\"\"Cuenta los potenciales de acción a partir de una máscara booleana.\n",
    "\n",
    "  Args:\n",
    "    mascara (ndarray): máscara booleana con True en cada cruce ascendente.\n",
    "\n",
    "  Returns:\n",
    "    int: número de potenciales de acción detectados.\n",
    "  \"\"\"\n",
    "  return np.sum(mascara)"
   ]
  },
  {
   "cell_type": "markdown",
   "metadata": {},
   "source": [
    "### Funciones de graficado"
   ]
  },
  {
   "cell_type": "code",
   "execution_count": null,
   "metadata": {},
   "outputs": [],
   "source": [
    "def plot_I(t, I):\n",
    "  plt.figure(figsize=(8, 3))\n",
    "  plt.plot(t, I)\n",
    "  plt.xlabel('Tiempo (ms)')\n",
    "  plt.ylabel('Corriente ($\\\\mu{A}/cm^2$)')\n",
    "  plt.ylim(-10, 10)\n",
    "  plt.show()\n",
    "\n",
    "def plot_v(t, V, umbral=None, mascara=None):\n",
    "  fig, axs = plt.subplots(2, 1, figsize=(8, 4), sharex=True)\n",
    "  axs[0].plot(t, V, 'k')\n",
    "  axs[0].set_ylabel('V (mV)')\n",
    "  axs[0].set_ylim(-90, 90)\n",
    "  if umbral is not None:\n",
    "    axs[0].axhline(y=umbral)\n",
    "  if mascara is not None:\n",
    "    axs[1].eventplot(t[mascara])\n",
    "    axs[1].set_xlabel(\"Tiempo (ms)\")\n",
    "    axs[1].set_yticks([])\n",
    "  plt.tight_layout()\n",
    "  plt.show()\n",
    "  \n",
    "def plot_hh(t, I, V, m, h, n, ina, ik, il):\n",
    "  \"\"\"Grafica los resultados de una simulación del axón de Hodgkin-Huxley\n",
    "\n",
    "  Args:\n",
    "    t (ndarray): vector 1D con el tiempo (ms).\n",
    "    V (ndarray): vector 1D con el potencial de membrana (mV).\n",
    "    m (ndarray): vector 1D con la variable de compuerta de activación del sodio.\n",
    "    h (ndarray): vector 1D con la variable de compuerta de inactivación del sodio.\n",
    "    n (ndarray): vector 1D con la variable de compuerta de activación del potasio.\n",
    "    ina (ndarray): vector 1D con los valores de la corriente de sodio ($I_{Na}$).\n",
    "    ik (ndarray): vector 1D con los valores de la corriente de potasio ($I_{K}$).\n",
    "    il (ndarray): vector 1D con los valores de la corriente de fuga ($I_{L}$).\n",
    "  \"\"\"\n",
    "  fig, axes = plt.subplots(4, 1, figsize=(8, 12), gridspec_kw={'height_ratios': [3, 1.2, 3, 3], 'hspace': 0.35})\n",
    "\n",
    "  # (1) V(t)\n",
    "  ax = axes[0]\n",
    "  ax.set_title('Axón de Hodgkin-Huxley')\n",
    "  ax.plot(t, V, 'k')\n",
    "  ax.set_ylabel('V (mV)')\n",
    "  ax.set_ylim(-90, 90)\n",
    "\n",
    "  # (2) I_inj(t) — más bajo\n",
    "  ax = axes[1]\n",
    "  ax.plot(t, I(t), 'k')\n",
    "  ax.set_xlabel('t (ms)')\n",
    "  ax.set_ylabel(u'$I_{inj}$ ($\\\\mu$A/cm$^2$)')\n",
    "  ax.set_ylim(-10, 10)\n",
    "\n",
    "  # (3) compuertas vs tiempo\n",
    "  ax = axes[2]\n",
    "  ax.plot(t, m, 'r', label='m')\n",
    "  ax.plot(t, h, 'g', label='h')\n",
    "  ax.plot(t, n, 'b', label='n')\n",
    "  ax.set_ylabel('Compuertas')\n",
    "  ax.legend()\n",
    "\n",
    "  # (4) corrientes iónicas\n",
    "  ax = axes[3]\n",
    "  ax.plot(t, ina, 'c', label='$I_{Na}$')\n",
    "  ax.plot(t, ik, 'y', label='$I_{K}$')\n",
    "  ax.plot(t, il, 'm', label='$I_{L}$')\n",
    "  ax.set_ylabel('Corriente')\n",
    "  ax.legend()\n",
    "\n",
    "  plt.show()\n",
    "\n",
    "def plot_gates(V, m, h, n):\n",
    "  fig, ax = plt.subplots(figsize=(8, 3))\n",
    "  ax.plot(V, m, 'r', label='m')\n",
    "  ax.plot(V, h, 'g', label='h')\n",
    "  ax.plot(V, n, 'b', label='n')\n",
    "  ax.set_ylabel('Compuertas vs V')\n",
    "  ax.set_xlabel('V (mV)')\n",
    "  ax.legend()\n",
    "  plt.show()\n",
    "\n",
    "def plot_fase(t, V, I):\n",
    "  plt.figure(figsize=(10, 8))\n",
    "\n",
    "  plt.title('Espacio de Fase')\n",
    "  plt.xlabel('Voltaje de membrana $V$')\n",
    "  plt.ylabel(u'Corriente $I$')\n",
    "  #plt.ylim(-10,1000)\n",
    "  #plt.xlim=(-80,60)\n",
    "  plt.plot(V, I)\n",
    "\n",
    "  plt.show()"
   ]
  },
  {
   "cell_type": "markdown",
   "metadata": {},
   "source": [
    "## Definición del modelo"
   ]
  },
  {
   "cell_type": "markdown",
   "metadata": {},
   "source": [
    "### Constantes"
   ]
  },
  {
   "cell_type": "code",
   "execution_count": null,
   "metadata": {},
   "outputs": [],
   "source": [
    "# Capacitancia de membrana específica (µF/cm²).\n",
    "C_m  = 1.0\n",
    "\n",
    "# Conductancia máxima de canales de sodio (mS/cm²).\n",
    "g_Na = 120.0\n",
    "\n",
    "# Conductancia máxima de canales de potasio (mS/cm²).\n",
    "g_K  = 36.0\n",
    "\n",
    "# Conductancia de fuga o leak (mS/cm²).\n",
    "g_L = 0.05\n",
    "\n",
    "# Potencial de equilibrio para sodio (mV).\n",
    "E_Na = 60.0\n",
    "\n",
    "# Potencial de equilibrio para potasio (mV).\n",
    "E_K  = -77.0\n",
    "\n",
    "# Potencial de equilibrio efectivo de la corriente de fuga (mV).\n",
    "E_L = -54.387  "
   ]
  },
  {
   "cell_type": "markdown",
   "metadata": {},
   "source": [
    "### Cinética de los canales\n",
    "\n",
    "Aquí se definen las funciones de apertura ($\\alpha$ alfa) y cierre ($\\beta$ beta) de las compuertas de los canales de potasio ($m$), y de sodio ($n$ y $h$). Se desprenden de las ecuaciones:\n",
    "\n",
    "$$\n",
    "{\\displaystyle {\\frac {dn}{dt}}=\\alpha _{n}(V_{m})(1-n)-\\beta _{n}(V_{m})n}\n",
    "$$\n",
    "\n",
    "$$\n",
    "{\\displaystyle {\\frac {dm}{dt}}=\\alpha _{m}(V_{m})(1-m)-\\beta _{m}(V_{m})m}\n",
    "$$\n",
    "\n",
    "$$\n",
    "{\\displaystyle {\\frac {dh}{dt}}=\\alpha _{h}(V_{m})(1-h)-\\beta _{h}(V_{m})h}\n",
    "$$"
   ]
  },
  {
   "cell_type": "code",
   "execution_count": null,
   "metadata": {},
   "outputs": [],
   "source": [
    "def alpha_m(V):\n",
    "  \"\"\"Tasa α_m de activación de Na⁺ (1/ms).\n",
    "\n",
    "  Args:\n",
    "    V (float o ndarray): potencial de membrana en mV.\n",
    "\n",
    "  Returns:\n",
    "    float o ndarray: tasa de transición α_m (1/ms).\n",
    "  \"\"\"\n",
    "  return (0.1 * (V + 40.0)) / (1.0 - np.exp(-(V + 40.0) / 10.0))\n",
    "\n",
    "\n",
    "def beta_m(V):\n",
    "  \"\"\"Tasa β_m de desactivación de Na⁺ (1/ms).\n",
    "\n",
    "  Args:\n",
    "    V (float o ndarray): potencial de membrana en mV.\n",
    "\n",
    "  Returns:\n",
    "    float o ndarray: tasa de transición β_m (1/ms).\n",
    "  \"\"\"\n",
    "  return 4.0 * np.exp(-(V + 65.0) / 18.0)\n",
    "\n",
    "\n",
    "def alpha_h(V):\n",
    "  \"\"\"Tasa α_h de recuperación (inactivación) de Na⁺ (1/ms).\n",
    "\n",
    "  Args:\n",
    "    V (float o ndarray): potencial de membrana en mV.\n",
    "\n",
    "  Returns:\n",
    "    float o ndarray: tasa de transición α_h (1/ms).\n",
    "  \"\"\"\n",
    "  return 0.07 * np.exp(-(V + 65.0) / 20.0)\n",
    "\n",
    "\n",
    "def beta_h(V):\n",
    "  \"\"\"Tasa β_h de cierre (inactivación) de Na⁺ (1/ms).\n",
    "\n",
    "  Args:\n",
    "    V (float o ndarray): potencial de membrana en mV.\n",
    "\n",
    "  Returns:\n",
    "    float o ndarray: tasa de transición β_h (1/ms).\n",
    "  \"\"\"\n",
    "  return 1.0 / (1.0 + np.exp(-(V + 35.0) / 10.0))\n",
    "\n",
    "\n",
    "def alpha_n(V):\n",
    "  \"\"\"Tasa α_n de activación de K⁺ (1/ms).\n",
    "\n",
    "  Args:\n",
    "    V (float o ndarray): potencial de membrana en mV.\n",
    "\n",
    "  Returns:\n",
    "    float o ndarray: tasa de transición α_n (1/ms).\n",
    "  \"\"\"\n",
    "  return 0.01 * (V + 55.0) / (1.0 - np.exp(-(V + 55.0) / 10.0))\n",
    "\n",
    "\n",
    "def beta_n(V):\n",
    "  \"\"\"Tasa β_n de desactivación de K⁺ (1/ms).\n",
    "\n",
    "  Args:\n",
    "    V (float o ndarray): potencial de membrana en mV.\n",
    "\n",
    "  Returns:\n",
    "    float o ndarray: tasa de transición β_n (1/ms).\n",
    "  \"\"\"\n",
    "  return 0.125 * np.exp(-(V + 65.0) / 80.0)"
   ]
  },
  {
   "cell_type": "markdown",
   "metadata": {},
   "source": [
    "### Corrientes de membrana\n",
    "\n",
    "Dependen de la conductancia máxima de los canales ($g$), del grado de apertura (compuertas $m$,$n$ y $k$), y de la diferencia entre el potencial de membrana ($V$) y el potencial de equilibrio ($E$). Se desprenden de la ecuación:\n",
    "\n",
    "$$\n",
    "I=C_{m}{\\frac {{\\mathrm {d} }V_{m}}{{\\mathrm {d} }t}}+{\\bar {g}}_{\\text{K}}n^{4}(V_{m}-V_{K})+{\\bar {g}}_{\\text{Na}}m^{3}h(V_{m}-V_{Na})+{\\bar {g}}_{l}(V_{m}-V_{l})\n",
    "$$"
   ]
  },
  {
   "cell_type": "code",
   "execution_count": null,
   "metadata": {},
   "outputs": [],
   "source": [
    "def I_Na(V, m, h):\n",
    "  \"\"\"Corriente de sodio (Na⁺).\n",
    "  \n",
    "  Args:\n",
    "    V (float o ndarray): potencial de membrana (mV).\n",
    "    m (float o ndarray): variable de activación de Na⁺.\n",
    "    h (float o ndarray): variable de inactivación de Na⁺.\n",
    "\n",
    "  Returns:\n",
    "    float o ndarray: corriente I_Na (µA/cm²).\n",
    "  \"\"\"\n",
    "  return g_Na * m**3 * h * (V - E_Na)\n",
    "  \n",
    "def I_K(V, n):\n",
    "  \"\"\"Corriente de potasio (K⁺).\n",
    "\n",
    "  Args:\n",
    "    V (float o ndarray): potencial de membrana (mV).\n",
    "    n (float o ndarray): variable de activación de K⁺.\n",
    "\n",
    "  Returns:\n",
    "    float o ndarray: corriente I_K (µA/cm²).\n",
    "  \"\"\"\n",
    "  return g_K * n**4 * (V - E_K)\n",
    "  \n",
    "def I_L(V):\n",
    "  \"\"\"Corriente de fuga (leak).\n",
    "\n",
    "  Args:\n",
    "    V (float o ndarray): potencial de membrana (mV).\n",
    "\n",
    "  Returns:\n",
    "    float o ndarray: corriente I_L (µA/cm²).\n",
    "  \"\"\"\n",
    "  return g_L * (V - E_L)"
   ]
  },
  {
   "cell_type": "markdown",
   "metadata": {},
   "source": [
    "### Integración de las variables\n",
    "\n",
    "Te dejamos una función disponible llamada `integrar_hh` que integra las variables. Examiná su documentación ejecutando la siguiente celda:"
   ]
  },
  {
   "cell_type": "code",
   "execution_count": null,
   "metadata": {},
   "outputs": [],
   "source": [
    "help(integrar_hh)"
   ]
  },
  {
   "cell_type": "markdown",
   "metadata": {},
   "source": [
    "## Simulación del modelo\n",
    "\n",
    "Aquí se implementa la simulación del voltaje de membrana, en función de la corriente entrante, la corriente capacitiva y las corrientes iónicas.\n",
    "Al final de la simulación, se plotean los resultados."
   ]
  },
  {
   "cell_type": "markdown",
   "metadata": {},
   "source": [
    "### Definición de la corriente inyectada\n",
    "\n",
    "Primero, exploraremos una función que te dejamos disponible llamada `I_inj`. Examiná su documentación ejecutando la siguiente línea:"
   ]
  },
  {
   "cell_type": "code",
   "execution_count": null,
   "metadata": {},
   "outputs": [],
   "source": [
    "help(I_inj)"
   ]
  },
  {
   "cell_type": "markdown",
   "metadata": {},
   "source": [
    "También podemos ver qué devuelve con el siguiente _widget_ interactivo:"
   ]
  },
  {
   "cell_type": "code",
   "execution_count": null,
   "metadata": {},
   "outputs": [],
   "source": [
    "@widgets.interact(amp1=(-5, 5, 0.1), dur1=(0, 100, 1), amp2=(-5, 5, 0.1), dur2=(0, 100, 1), sep=(0, 200, 1))\n",
    "def plot_I_inj(amp1=2, dur1=50, amp2=0, dur2=0, sep=50):\n",
    "  tmax = 400.0\n",
    "  t = np.arange(0, tmax, 1)\n",
    "  I = I_inj(t, amp1, dur1, amp2, dur2, sep)\n",
    "  plot_I(t, I(t))"
   ]
  },
  {
   "cell_type": "markdown",
   "metadata": {},
   "source": [
    "### Simulación de la corriente inyectada\n",
    "\n",
    "Ahora, ya podemos simular como responde nuestro axón a diferentes corrientes inyectadas."
   ]
  },
  {
   "cell_type": "code",
   "execution_count": null,
   "metadata": {},
   "outputs": [],
   "source": [
    "@widgets.interact(amp1=(-5, 5, 0.1), dur1=(0, 100, 1), amp2=(-5, 5, 0.1), dur2=(0, 100, 1), sep=(0, 200, 1))\n",
    "def simulate(amp1=2, dur1=50, amp2=0, dur2=0, sep=50):\n",
    "  t = np.arange(0.0, 400.0, 1)\n",
    "  I = I_inj(t, amp1, dur1, amp2, dur2, sep)\n",
    "  V, m, h, n, ina, ik, il = integrar_hh(t, I)\n",
    "  plot_hh(t, I, V,m,h,n,ina,ik,il)"
   ]
  },
  {
   "cell_type": "markdown",
   "metadata": {},
   "source": [
    "### Visualización de las compuertas"
   ]
  },
  {
   "cell_type": "code",
   "execution_count": null,
   "metadata": {},
   "outputs": [],
   "source": [
    "@widgets.interact(amp=(-5, 5, 0.1), dur=(0, 100, 0.1))\n",
    "def simulate(amp=2, dur=50):\n",
    "  t = np.arange(0.0, 100.0, 0.01)\n",
    "  I = I_inj(t, amp, dur)\n",
    "  V, m, h, n, ina, ik, il = integrar_hh(t, I)\n",
    "  plot_gates(V, m, h, n)"
   ]
  },
  {
   "cell_type": "markdown",
   "metadata": {},
   "source": [
    "### Visualización del espacio de fase"
   ]
  },
  {
   "cell_type": "code",
   "execution_count": null,
   "metadata": {},
   "outputs": [],
   "source": [
    "@widgets.interact(amp=(-5, 5, 0.1), dur=(0, 100, 0.1), corriente=['I_k', 'I_Na', 'I_leak'])\n",
    "def fase_hh(amp=2, dur=50, corriente='ik'):\n",
    "  t = np.arange(0.0, 100.0, 0.01)\n",
    "  I = I_inj(t, amp, dur)\n",
    "  V, m, h, n, ina, ik, il = integrar_hh(t, I)\n",
    "  if corriente == 'I_k':\n",
    "    plot_fase(t, V, ik)\n",
    "  elif corriente == 'I_Na':\n",
    "    plot_fase(t, V, ina)\n",
    "  else:\n",
    "    plot_fase(t, V, il)"
   ]
  },
  {
   "cell_type": "markdown",
   "metadata": {
    "collapsed": true,
    "jupyter": {
     "outputs_hidden": true
    }
   },
   "source": [
    "## Relación corriente de entrada vs. frecuencia de disparo\n",
    "\n",
    "Vamos a simular corrientes de entrada a diferentes amplitudes (intensidades) y evaluar la frecuencia de disparo a para cada valor. Para esto, es necesario antes poder tener una medida de frecuencia de disparo a partir de los resultados de una simulación. Veamos una función utilitaria que enmascara los potenciales de acción a partir de la variable $V$:"
   ]
  },
  {
   "cell_type": "code",
   "execution_count": null,
   "metadata": {},
   "outputs": [],
   "source": [
    "help(enmascarar_potenciales_de_accion)"
   ]
  },
  {
   "cell_type": "markdown",
   "metadata": {},
   "source": [
    "Ahora miremos en detalle que es lo que devuelve la función:"
   ]
  },
  {
   "cell_type": "code",
   "execution_count": null,
   "metadata": {},
   "outputs": [],
   "source": [
    "t = np.arange(0.0, 200.0, 1)\n",
    "I = I_inj(t, 10, 150)\n",
    "V, m, h, n, ina, ik, il = integrar_hh(t, I)\n",
    "umbral = -20\n",
    "mascara = enmascarar_potenciales_de_accion(t, V, umbral)\n",
    "\n",
    "print(\"Potencial de membrana:\")\n",
    "print(np.round(V, 1)[:10])\n",
    "\n",
    "print(\"Máscara:\")\n",
    "print(mascara[:10])"
   ]
  },
  {
   "cell_type": "markdown",
   "metadata": {},
   "source": [
    "Ahora corré la celda siguiente para ver un gráfico interactivo que te permite seleccionar distintos umbrales:"
   ]
  },
  {
   "cell_type": "code",
   "execution_count": null,
   "metadata": {},
   "outputs": [],
   "source": [
    "@widgets.interact(amp=(0, 20, 0.1), umbral=(-90, 90, 0.1))\n",
    "def correr_hh(amp, umbral):\n",
    "  t = np.arange(0.0, 200.0, 1)\n",
    "  I = I_inj(t, amp, 150)\n",
    "  V, m, h, n, ina, ik, il = integrar_hh(t, I)\n",
    "  mascara = enmascarar_potenciales_de_accion(t, V, umbral)\n",
    "  plot_v(t, V, umbral, mascara)"
   ]
  },
  {
   "cell_type": "markdown",
   "metadata": {},
   "source": [
    "Solo resta examinar otra función utilitaria que simplemente cuenta los potenciales de acción en una máscara dada:"
   ]
  },
  {
   "cell_type": "code",
   "execution_count": null,
   "metadata": {},
   "outputs": [],
   "source": [
    "help(contar_potenciales_de_accion)"
   ]
  },
  {
   "cell_type": "code",
   "execution_count": null,
   "metadata": {},
   "outputs": [],
   "source": [
    "t = np.arange(0.0, 200.0, 1)\n",
    "I = I_inj(t, 10, 150)\n",
    "V, m, h, n, ina, ik, il = integrar_hh(t, I)\n",
    "umbral = -20\n",
    "mascara = enmascarar_potenciales_de_accion(t, V, umbral)\n",
    "frecuencia = contar_potenciales_de_accion(mascara)\n",
    "\n",
    "print(f\"Frecuencia: {frecuencia}\")"
   ]
  },
  {
   "cell_type": "markdown",
   "metadata": {},
   "source": [
    "Ahora sí, tenemos todo listo para simular diferentes amplitudes y anotar la cantidad de disparos que genera cada una en un período de tiempo dado para comparar. Tené en cuenta que vamos a hacer muchas simulaciones en un bucle de código: en cada iteración vamosa correr una simulación completa del modelo de Hodgkin-Huxley. Con `t = np.arange(0, 200, 1)` ya son 200 pasos, y lo vamos a repetir aproximadamente 120 veces (porque `corrientes = np.arange(0, 12, 0.1)`). Eso son unas 24.000 simulaciones de un sistema de 4 variables dinámicas. No es gigante, pero puede sentirse lento."
   ]
  },
  {
   "cell_type": "code",
   "execution_count": null,
   "metadata": {},
   "outputs": [],
   "source": [
    "umbral = -20\n",
    "corrientes = np.arange(0, 12, 0.1)\n",
    "frecuencias = np.zeros_like(corrientes)\n",
    "\n",
    "for i, amp in enumerate(corrientes):\n",
    "  t = np.arange(0.0, 200.0, 1)\n",
    "  I = I_inj(t, amp, 150)\n",
    "  V, m, h, n, ina, ik, il = integrar_hh(t, I)\n",
    "  mascara = enmascarar_potenciales_de_accion(t, V, umbral)\n",
    "  frecuencias[i] = contar_potenciales_de_accion(mascara)\n",
    "  \n",
    "plt.scatter(corrientes, frecuencias)\n",
    "plt.show()"
   ]
  }
 ],
 "metadata": {
  "kernelspec": {
   "display_name": "Python 3 (ipykernel)",
   "language": "python",
   "name": "python3"
  },
  "language_info": {
   "codemirror_mode": {
    "name": "ipython",
    "version": 3
   },
   "file_extension": ".py",
   "mimetype": "text/x-python",
   "name": "python",
   "nbconvert_exporter": "python",
   "pygments_lexer": "ipython3",
   "version": "3.10.18"
  }
 },
 "nbformat": 4,
 "nbformat_minor": 4
}
