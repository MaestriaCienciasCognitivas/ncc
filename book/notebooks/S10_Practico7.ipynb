{
 "cells": [
  {
   "cell_type": "markdown",
   "id": "f8ed1081-53e0-435e-b849-6dda6f074870",
   "metadata": {},
   "source": [
    "# Práctico 7: Generadores centrales de patrones (CPGs)\n",
    "\n",
    "Un generador central de patrones es un circuito neuronal que puede producir, de forma autónoma, un patrón de actividad, como una oscilación, que puede activar los músculos de manera confiable. Aunque una entrada externa puede encender o apagar el generador central de patrones, o cambiarlo entre modos, y la neuromodulación puede ajustar características del patrón, el circuito neuronal de un generador central de patrones no depende de ninguna entrada externa para producir el patrón de actividad. Cuando los animales muestran contracciones musculares coordinadas estereotipadas que acompañan un comportamiento (como la respiración, la locomoción o la masticación), los generadores centrales de patrones suelen estar involucrados."
   ]
  },
  {
   "cell_type": "markdown",
   "id": "05220609-c91c-44ca-895a-f97f7cbcb375",
   "metadata": {},
   "source": [
    "## Configuración"
   ]
  },
  {
   "cell_type": "code",
   "execution_count": null,
   "id": "4e720e5d-40d0-4c25-9d96-627e972b1d2d",
   "metadata": {},
   "outputs": [],
   "source": [
    "import numpy as np\n",
    "import matplotlib.pyplot as plt\n",
    "import ipywidgets as widgets"
   ]
  },
  {
   "cell_type": "markdown",
   "id": "55e27b5c-3ed0-47df-b8a2-409b17004331",
   "metadata": {},
   "source": [
    "### Funciones utilitarias"
   ]
  },
  {
   "cell_type": "code",
   "execution_count": null,
   "id": "d536d688-2aea-4ff1-8c2a-1096c0f5a2a6",
   "metadata": {},
   "outputs": [],
   "source": [
    "def I_inj(t, amp):\n",
    "  \"\"\"Crea una función de corriente inyectada con un pulsos cuadrado.\n",
    "\n",
    "  Args:\n",
    "    t (ndarray): vector 1D de tiempos (ms), estrictamente creciente.\n",
    "    amp (float): amplitud del pulso, en uA/cm^2.\n",
    "\n",
    "  Returns:\n",
    "    function: una función I(t) que devuelve la corriente inyectada I(t).\n",
    "  \"\"\"\n",
    "  tmax = np.max(t)\n",
    "  inicios = np.linspace(0, tmax, 8)\n",
    "  inicio = inicios[1]\n",
    "  fin = inicios[6]\n",
    "  \n",
    "  def I(t):\n",
    "    return amp * (t > inicio) - amp * (t > fin)\n",
    "\n",
    "  return I\n",
    "\n",
    "def I_inj_ruido(t, amp, media=0, desvio=1):\n",
    "  tmax = np.max(t)\n",
    "  inicios = np.linspace(0, tmax, 8)\n",
    "  inicio = inicios[1]\n",
    "  fin = inicios[6]\n",
    "\n",
    "  base = amp * (t > inicio) - amp * (t > fin)\n",
    "\n",
    "  vals = base + np.random.normal(media, desvio, size=t.shape)\n",
    "\n",
    "  def I(tq):\n",
    "      return np.interp(tq, t, vals)\n",
    "\n",
    "  return I\n",
    "\n",
    "def vdot(v, u, I):\n",
    "  return (0.04 * v + 5) * v + 140 - u + I\n",
    "\n",
    "def udot(u, v, a, b):\n",
    "  return a * (b * v - u)\n",
    "\n",
    "def step_izhikevich(v, u, I, a, b, c, d, dt):\n",
    "  spiked = False\n",
    "  if v < threshold:\n",
    "    v = v + dt * vdot(v, u, I)\n",
    "    u = u + dt * udot(u, v, a, b)\n",
    "  else:\n",
    "    spiked = True\n",
    "    v = c\n",
    "    u = u + d\n",
    "  return v, u, spiked"
   ]
  },
  {
   "cell_type": "markdown",
   "id": "2588c0ed-8ba5-4f79-a904-45d86e775710",
   "metadata": {},
   "source": [
    "### Funciones de graficado"
   ]
  },
  {
   "cell_type": "code",
   "execution_count": null,
   "id": "31b2ab2e-1f57-400a-9f3c-828a8aea18b7",
   "metadata": {},
   "outputs": [],
   "source": [
    "def plot_izikhevich(t, I1, I2, v1, u1, v2, u2, I_syn1, I_syn2):\n",
    "    # Graficamos\n",
    "    fig, (ax1, ax2, ax3) = plt.subplots(3, 1, figsize=(8, 6), gridspec_kw={\"height_ratios\": [3, 2, 1]})\n",
    "    \n",
    "    ax1.plot(t, v1, 'r')\n",
    "    ax1.plot(t, v2, 'g')\n",
    "\n",
    "    ax2.plot(t, u1, 'r')\n",
    "    ax2.plot(t, u2, 'g')\n",
    "\n",
    "    #ax3.plot(t, I(t))\n",
    "    ax3.plot(t, I1(t), 'r')\n",
    "    ax3.plot(t, I2(t), 'g')\n",
    "    ax3.plot(t, I_syn1, 'r')\n",
    "    ax3.plot(t, I_syn2, 'g')\n",
    "    ax3.set_ylim(-11, 11)  \n",
    "    ax3.set_ylabel(\"I (mA)\")\n",
    "    ax3.set_xlabel(\"t (ms)\")\n",
    "\n",
    "    plt.show()\n",
    "\n",
    "def neuron_params_widgets(label_prefix, defaults=(0.02, 0.2, -55, 4)):\n",
    "    a, b, c, d = defaults\n",
    "    return widgets.VBox([\n",
    "        widgets.HTML(f\"<b>Parámetros de la {label_prefix}</b>\"),\n",
    "        widgets.FloatSlider(value=a, min=0, max=0.2, step=0.01, description='a'),\n",
    "        widgets.FloatSlider(value=b, min=0, max=0.3, step=0.01, description='b'),\n",
    "        widgets.FloatSlider(value=c, min=-75, max=-50, step=0.1, description='c'),\n",
    "        widgets.FloatSlider(value=d, min=0, max=10, step=0.1, description='d')\n",
    "    ])\n",
    "\n",
    "def global_params_widgets():\n",
    "    return widgets.VBox([\n",
    "        widgets.HTML(f\"<b>Parámetros globales</b>\"),\n",
    "        widgets.FloatSlider(value=10, min=-10, max=10, step=0.1, description='I_iny (mA)'), \n",
    "        widgets.FloatSlider(value=5, min=0.1, max=30, step=0.1, description='Syn. dur.'), \n",
    "        widgets.FloatSlider(value=-5, min=-10, max=10, step=0.1, description='I_syn_amp')\n",
    "    ])"
   ]
  },
  {
   "cell_type": "markdown",
   "id": "21d6c4d7-1020-406c-8d30-2a652ebdb69a",
   "metadata": {
    "id": "21d6c4d7-1020-406c-8d30-2a652ebdb69a"
   },
   "source": [
    "## Modelo de Izhikevich\n",
    "\n",
    "Izhikevich (2003) propuso un modelo simple de neurona que se describe con dos ecuaciones diferenciales acopladas. Una para el potencial de membrana $v$ y otra para el valor de recobro $u$:\n",
    "\n",
    "$$\\begin{split}\n",
    "\\dfrac{dv(t)}{dt} &= 0.04 v^2(t) + 5 v(t) + 140 - u + I(t) \\\\\n",
    "\\dfrac{du(t)}{dt} &= a(bv - u)\n",
    "\\end{split}$$\n",
    "\n",
    "En conjunto con las condiciones de reestablecimiento:\n",
    "\n",
    "$$\\begin{split}\n",
    "v(v > \\theta) &= c \\\\\n",
    "u(v > \\theta) &= u + d\n",
    "\\end{split}$$\n",
    "\n",
    "Este modelo cumple con el requisito de ser computacionalmente eficiente y además de producir un variado abanico de patrones de disparos observados en neuronas corticales."
   ]
  },
  {
   "cell_type": "markdown",
   "id": "3154b231-1de4-458c-aeb5-67ef0f250fea",
   "metadata": {},
   "source": [
    "### Rol de los parámetros en el modelo de Izhikevich\n",
    "\n",
    "El modelo de Izhikevich utiliza cuatro parámetros principales (a, b, c, d) para modelar una amplia variedad de comportamientos neuronales.\n",
    "\n",
    "Aquí se describe el rol de cada parámetro:\n",
    "\n",
    "* **`a`**: Controla la **velocidad de recuperación** de la variable de adaptación `u`. Valores bajos de `a`  hacen que la neurona se recupere lentamente después de un pico, mientras que valores altos producen una recuperación rápida. Esto influye en la frecuencia de disparo de la neurona.\n",
    "\n",
    "* **`b`**:  Describe la **sensibilidad** de la variable de adaptación `u` al potencial de membrana `v`.  Valores altos de `b` hacen que la neurona sea más sensible a los cambios en `v`, lo que puede producir comportamientos como el rebote post-inhibitorio.\n",
    "\n",
    "* **`c`**: Representa el **potencial de reinicio** de la membrana después de un pico.  Este valor determina a qué voltaje se restablece la membrana después de que la neurona ha disparado.\n",
    "\n",
    "* **`d`**:  Controla la **recuperación de la variable de adaptación `u`** después de un pico.  Un valor alto de `d`  provoca un aumento rápido en `u` después de un pico, lo que puede influir en la duración del período refractario y la frecuencia de disparo.\n",
    "\n",
    "En resumen, los parámetros `a`, `b`, `c` y `d`  permiten ajustar la dinámica del modelo de Izhikevich para reproducir una amplia gama de comportamientos neuronales, como disparos tónicos, ráfagas, rebotes post-inhibitorios, y más.\n",
    "\n",
    "Ajustar estos parámetros de manera precisa es crucial para simular neuronas específicas y para estudiar la dinámica de las redes neuronales."
   ]
  },
  {
   "cell_type": "markdown",
   "id": "d33c0bef-d812-48c2-bf52-7e4b2e54e7e7",
   "metadata": {
    "id": "d33c0bef-d812-48c2-bf52-7e4b2e54e7e7"
   },
   "source": [
    "## Oscilador de medio centro\n",
    "\n",
    "El oscilador de medio centro se logra con dos neuronas, cada una de las cuales inhibe a la otra. La actividad de cada neurona oscila en antifase con la otra, de modo que pueden producir contracciones musculares que alternan entre dos músculos antagonistas. Estas contracciones alternas entre los dos lados del cuerpo de un animal constituyen la unidad básica para la locomoción mediante deslizamiento o serpenteo, lo cual es común en animales largos y sin patas (como lampreas, anguilas, serpientes, gusanos, etc.).\n",
    "\n",
    "Comenzamos definiendo dos constantes:"
   ]
  },
  {
   "cell_type": "code",
   "execution_count": null,
   "id": "887663d7-002e-4ec0-ba0c-45efa5d02428",
   "metadata": {},
   "outputs": [],
   "source": [
    "v0 = -75        # mV\n",
    "threshold = 30  # mV"
   ]
  },
  {
   "cell_type": "markdown",
   "id": "9f13da2e-f099-4b45-9ad0-c99b7a5afd68",
   "metadata": {},
   "source": [
    "Y la función de integración. Lo importante acá es notar como en cada paso, se inyecta corriente en cada neurona más la corriente generada por la otra neurona."
   ]
  },
  {
   "cell_type": "code",
   "execution_count": null,
   "id": "de7617ae-1f03-4bf4-a5b1-a1c55fd897b9",
   "metadata": {},
   "outputs": [],
   "source": [
    "def integrate_izikhevich(t, I1, I2, I_syn_amp, syn_duration, a1=0.02, b1=0.2, c1=-65, d1=2, a2=0.02, b2=0.2, c2=-65, d2=2):\n",
    "  # Variable de voltaje\n",
    "  v1 = np.zeros_like(t)\n",
    "  v2 = np.zeros_like(t)\n",
    "  v1[0] = v2[0] = v0\n",
    "\n",
    "  # Variable de recobro\n",
    "  u1 = np.zeros_like(t)\n",
    "  u2 = np.zeros_like(t)\n",
    "  u1[0] = v1[0] * b1\n",
    "  u2[0] = v2[0] * b2\n",
    "  \n",
    "  # Calculamos el valor de salto en el tiempo\n",
    "  dt = t[1] - t[0]\n",
    "\n",
    "  I_syn1 = np.zeros_like(t)\n",
    "  I_syn2 = np.zeros_like(t)\n",
    "\n",
    "  decay = np.exp(-dt / syn_duration)\n",
    "  \n",
    "  # Integramos con el método de Euler\n",
    "  for step in range(len(t)-1):\n",
    "    v1[step+1], u1[step+1], spike1 = step_izhikevich(v1[step], u1[step], I1(t[step]) + I_syn2[step], a1, b1, c1, d1, dt)\n",
    "    v2[step+1], u2[step+1], spike2 = step_izhikevich(v2[step], u2[step], I2(t[step]) + I_syn1[step], a2, b2, c2, d2, dt)\n",
    "\n",
    "    if spike1:\n",
    "      I_syn1[step] += I_syn_amp\n",
    "    if spike2:\n",
    "      I_syn2[step] += I_syn_amp\n",
    "\n",
    "    I_syn1[step + 1] = I_syn1[step] * decay\n",
    "    I_syn2[step + 1] = I_syn2[step] * decay\n",
    "      \n",
    "  return v1, u1, v2, u2, I_syn1, I_syn2"
   ]
  },
  {
   "cell_type": "code",
   "execution_count": null,
   "id": "1b95491f-cf8a-4187-b234-e4dc4a2f6b44",
   "metadata": {},
   "outputs": [],
   "source": [
    "neuron1_box = neuron_params_widgets(\"neurona 1\")\n",
    "neuron2_box = neuron_params_widgets(\"neurona 2\")\n",
    "global_controls = global_params_widgets()\n",
    "controls = {\n",
    "    'amp': global_controls.children[1],\n",
    "    'syn_duration': global_controls.children[2],\n",
    "    'I_syn_amp': global_controls.children[3],\n",
    "    'a1': neuron1_box.children[1],\n",
    "    'b1': neuron1_box.children[2],\n",
    "    'c1': neuron1_box.children[3],\n",
    "    'd1': neuron1_box.children[4],\n",
    "    'a2': neuron2_box.children[1],\n",
    "    'b2': neuron2_box.children[2],\n",
    "    'c2': neuron2_box.children[3],\n",
    "    'd2': neuron2_box.children[4]\n",
    "}\n",
    "\n",
    "def simulate(amp, syn_duration, I_syn_amp, a1, b1, c1, d1, a2, b2, c2, d2):\n",
    "    t = np.arange(0, 400, 0.05)\n",
    "    I1 = I_inj_ruido(t, amp)\n",
    "    I2 = I_inj_ruido(t, amp)\n",
    "    V1, u1, V2, u2, I_syn1, I_syn2 = integrate_izikhevich(\n",
    "        t, I1, I2, I_syn_amp, syn_duration,\n",
    "        a1, b1, c1, d1,\n",
    "        a2, b2, c2, d2\n",
    "    )\n",
    "    plot_izikhevich(t, I1, I2, V1, u1, V2, u2, I_syn1, I_syn2)\n",
    "\n",
    "display(widgets.HBox([widgets.VBox([global_controls, neuron1_box, neuron2_box]), widgets.interactive_output(simulate, controls)]))"
   ]
  },
  {
   "cell_type": "markdown",
   "id": "cff144b1-b745-4d98-8a3a-16417735ea47",
   "metadata": {
    "id": "cff144b1-b745-4d98-8a3a-16417735ea47"
   },
   "source": [
    "## Referencias\n",
    "\n",
    "Izhikevich, E. M. (2003). Simple model of spiking neurons. *IEEE Transactions on Neural Networks*, 14(6), 1569–1572. [doi:10.1109/tnn.2003.820440](https://doi.org/10.1109/TNN.2003.820440)"
   ]
  }
 ],
 "metadata": {
  "colab": {
   "provenance": []
  },
  "kernelspec": {
   "display_name": "Python 3 (ipykernel)",
   "language": "python",
   "name": "python3"
  },
  "language_info": {
   "codemirror_mode": {
    "name": "ipython",
    "version": 3
   },
   "file_extension": ".py",
   "mimetype": "text/x-python",
   "name": "python",
   "nbconvert_exporter": "python",
   "pygments_lexer": "ipython3",
   "version": "3.13.7"
  }
 },
 "nbformat": 4,
 "nbformat_minor": 5
}
