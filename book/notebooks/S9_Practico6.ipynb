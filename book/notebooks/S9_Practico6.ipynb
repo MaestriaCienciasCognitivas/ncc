{
 "cells": [
  {
   "cell_type": "markdown",
   "metadata": {
    "id": "Yoek8eUA_76X"
   },
   "source": [
    "# Práctico 6: Campos receptivos\n",
    "\n",
    "El siguiente artículo va a visualizar algunos modelos matemáticos de la actividad de las células cerebrales.\n",
    "En algunas regiones del cerebro, las neuronas son excitadas o inhibidas por neuronas de una capa de entrada anterior. A ese conjunto se lo llama campo receptivo de esa neurona.\n",
    "\n",
    "Como el área visual utiliza los campos receptivos como detectores de características (como la detección de bordes y de la orientación de los bordes) para imágenes naturales, se puede examinar muy bien la aplicación de distintas funciones de campos receptivos sobre imágenes."
   ]
  },
  {
   "cell_type": "markdown",
   "metadata": {},
   "source": [
    "## Configuración"
   ]
  },
  {
   "cell_type": "code",
   "execution_count": null,
   "metadata": {
    "id": "VcDNR-D8_76g"
   },
   "outputs": [],
   "source": [
    "import matplotlib.pyplot as plt\n",
    "import matplotlib.image as mpimg\n",
    "import scipy as sp\n",
    "import numpy as np\n",
    "import imageio.v3 as iio\n",
    "import ipywidgets as widgets"
   ]
  },
  {
   "cell_type": "markdown",
   "metadata": {},
   "source": [
    "### Funciones utilitarias"
   ]
  },
  {
   "cell_type": "code",
   "execution_count": null,
   "metadata": {},
   "outputs": [],
   "source": [
    "def construir_filtro(func, h=30):\n",
    "    \"\"\"Construye un filtro 2D de tamaño hxh aplicando func(x, y) en una grilla centrada.\n",
    "\n",
    "    Args:\n",
    "        func (func): función que recibe (x, y)\n",
    "        h (int): tamaño del filtro (por defecto 30)\n",
    "\n",
    "    Returns:\n",
    "        ndarray: matriz 2D\n",
    "    \"\"\"\n",
    "    g = np.zeros((h, h))\n",
    "    for xi in range(h):\n",
    "        for yi in range(h):\n",
    "            x = xi - h / 2\n",
    "            y = yi - h / 2\n",
    "            g[xi, yi] = func(x, y)\n",
    "    return g"
   ]
  },
  {
   "cell_type": "markdown",
   "metadata": {},
   "source": [
    "### Funciones de graficado"
   ]
  },
  {
   "cell_type": "code",
   "execution_count": null,
   "metadata": {},
   "outputs": [],
   "source": [
    "def visualizar_imagen(img):\n",
    "    plt.subplots(figsize=(6, 4))\n",
    "    plt.imshow(img, cmap=\"gray\")\n",
    "    plt.show()\n",
    "    \n",
    "def visualizar_filtro2d(*fs):\n",
    "    n = len(fs)\n",
    "    fig, axes = plt.subplots(1, n, figsize=(3 * n, 3))\n",
    "    \n",
    "    if n == 1:\n",
    "        axes = [axes]\n",
    "\n",
    "    vmin = min(f.min() for f in fs)\n",
    "    vmax = max(f.max() for f in fs)\n",
    "\n",
    "    for i, (ax, f) in enumerate(zip(axes, fs)):\n",
    "        ax.set_title(f\"Filtro {i+1}\")\n",
    "        ax.imshow(f, cmap=\"coolwarm\", vmin=vmin, vmax=vmax)\n",
    "        ax.set_axis_off()\n",
    "\n",
    "    plt.show()\n",
    "    \n",
    "def visualizar_convolucion2d(s, f, convolucion):\n",
    "    fig, (ax1, ax2, ax3) = plt.subplots(1, 3, width_ratios=[2, 1, 2], figsize=(12, 4))\n",
    "\n",
    "    ax1.set_title(\"Imagen original\")\n",
    "    ax1.matshow(s, cmap=\"gray\")\n",
    "    ax1.set_axis_off()\n",
    "    \n",
    "    ax2.set_title(\"Filtro\")\n",
    "    ax2.imshow(f, cmap=\"coolwarm\")\n",
    "    ax2.set_axis_off()\n",
    "    \n",
    "    ax3.set_title(\"Resultado de la convolución\")\n",
    "    ax3.imshow(convolucion, cmap=\"gray\")\n",
    "    ax3.set_axis_off()\n",
    "    \n",
    "    fig.subplots_adjust(wspace=0.2)\n",
    "    fig.text(0.420, 0.5, '+', ha='center', va='center', fontsize=16)\n",
    "    fig.text(0.605, 0.5, '=', ha='center', va='center', fontsize=16)\n",
    "    \n",
    "    plt.show()"
   ]
  },
  {
   "cell_type": "markdown",
   "metadata": {
    "id": "9pfqB2tp_76j"
   },
   "source": [
    "# Visualización de imágenes de ejemplo\n",
    "\n",
    "Examinamos el efecto en las siguientes imágenes. En la vía visual, las imágenes pueden verse como la entrada desde la retina hacia áreas visuales superiores."
   ]
  },
  {
   "cell_type": "code",
   "execution_count": null,
   "metadata": {
    "id": "sxKts0d6_76k",
    "scrolled": true
   },
   "outputs": [],
   "source": [
    "barImg = iio.imread('https://raw.githubusercontent.com/MaestriaCienciasCognitivas/ncc/main/book/static/Practico6_Bar.png')\n",
    "visualizar_imagen(barImg)"
   ]
  },
  {
   "cell_type": "code",
   "execution_count": null,
   "metadata": {
    "id": "yIZHWrxw_76n"
   },
   "outputs": [],
   "source": [
    "bugImg = iio.imread('https://raw.githubusercontent.com/MaestriaCienciasCognitivas/ncc/main/book/static/Practico6_Stinkbug.png')\n",
    "visualizar_imagen(bugImg)"
   ]
  },
  {
   "cell_type": "markdown",
   "metadata": {
    "id": "GTHJ27hZ_76p"
   },
   "source": [
    "## Funciones de campo receptivo\n",
    "\n",
    "La función gaussiana bidimensional se usa en procesamiento de imágenes como filtro para desenfocar (blur).\n",
    "\n",
    "$$\\phi(x,y) = \\frac{1}{2\\pi\\sigma^2}\\exp{(-\\frac{1}{2\\pi\\sigma^2}(x^2+ y^2))}$$"
   ]
  },
  {
   "cell_type": "code",
   "execution_count": null,
   "metadata": {
    "id": "TJLRaIty_76q"
   },
   "outputs": [],
   "source": [
    "def gaussian2D(x, y, sigma):\n",
    "    return (1.0/(1*np.pi*(sigma**2)))*np.exp(-(1.0/(2*(sigma**2)))*(x**2 + y**2))"
   ]
  },
  {
   "cell_type": "markdown",
   "metadata": {},
   "source": [
    "Como la función de convolución de SciPy no acepta funciones directamente, lo que hacemos es muestrear la función. Para eso, utilizaremos una funcion ya definida:"
   ]
  },
  {
   "cell_type": "code",
   "execution_count": null,
   "metadata": {},
   "outputs": [],
   "source": [
    "help(construir_filtro)"
   ]
  },
  {
   "cell_type": "markdown",
   "metadata": {},
   "source": [
    "Ejecutá la celda siguiente para visualizar el resultado del muestreo de la función gaussiana bidimensional. Más adelante, lo usaremos como filtro para hacer convoluciones sobre las imágenes de ejemplo."
   ]
  },
  {
   "cell_type": "code",
   "execution_count": null,
   "metadata": {
    "colab": {
     "base_uri": "https://localhost:8080/",
     "height": 430
    },
    "executionInfo": {
     "elapsed": 1112,
     "status": "ok",
     "timestamp": 1697809799067,
     "user": {
      "displayName": "Neurociencias Cognitivas Computacionales",
      "userId": "07405778412549737291"
     },
     "user_tz": 180
    },
    "id": "fW58uHxq_76t",
    "outputId": "5530e714-c157-40c9-e1af-53b6c0a58e6a"
   },
   "outputs": [],
   "source": [
    "@widgets.interact(sigma=(1, 30))\n",
    "def visualizar_filtro_gaussiano(sigma=6):\n",
    "    f = construir_filtro(lambda x, y: gaussian2D(x,y,sigma))\n",
    "    visualizar_filtro2d(f)"
   ]
  },
  {
   "cell_type": "markdown",
   "metadata": {
    "id": "tSZJgBgC_76t"
   },
   "source": [
    "La función gaussiana es simétrica en forma circular, lo que produce la excitación de un píxel central a partir de los píxeles cercanos durante la convolución.\n",
    "\n",
    "En el contexto de la transformada de Fourier, actúa como un filtro pasa bajos, que elimina las frecuencias altas en el dominio frecuencial de la imagen y, por lo tanto, genera un efecto de desenfoque."
   ]
  },
  {
   "cell_type": "markdown",
   "metadata": {
    "id": "0HEQV3kX_76u"
   },
   "source": [
    "La convolución es el proceso de aplicar el filtro sobre la entrada, que es la imagen $I(x,y)$ que denota el valor de gris del píxel en la posición especificada.\n",
    "\n",
    "$$\\int \\int I(x',y')\\phi(x-x',y-y')dx'dy'$$\n",
    "\n",
    "Cuando se aplica el filtro gaussiano, cada neurona de la capa de salida es excitada por las neuronas cercanas de la imagen.\n",
    "\n",
    "El resultado de la convolución también puede visualizarse en una imagen."
   ]
  },
  {
   "cell_type": "code",
   "execution_count": null,
   "metadata": {
    "id": "lPHKtj3M_76u"
   },
   "outputs": [],
   "source": [
    "@widgets.interact(sigma=(1, 30))\n",
    "def simular_filtro_gaussiano(sigma=6):\n",
    "    s = barImg\n",
    "    f = construir_filtro(lambda x, y: gaussian2D(x, y, sigma))\n",
    "    convolucion = sp.signal.convolve(s, f, mode='same')\n",
    "    visualizar_convolucion2d(s, f, convolucion)"
   ]
  },
  {
   "cell_type": "markdown",
   "metadata": {},
   "source": [
    "Ahora lo mismo pero sobre la imagen del insecto."
   ]
  },
  {
   "cell_type": "code",
   "execution_count": null,
   "metadata": {
    "colab": {
     "base_uri": "https://localhost:8080/",
     "height": 434
    },
    "executionInfo": {
     "elapsed": 879,
     "status": "ok",
     "timestamp": 1697809940423,
     "user": {
      "displayName": "Neurociencias Cognitivas Computacionales",
      "userId": "07405778412549737291"
     },
     "user_tz": 180
    },
    "id": "qZtb9iRH_76u",
    "outputId": "0cbf9faa-0695-4743-bbf4-3151fe9e2203"
   },
   "outputs": [],
   "source": [
    "@widgets.interact(sigma=(1, 30))\n",
    "def simular_filtro_gaussiano(sigma=6):\n",
    "    s = bugImg\n",
    "    f = construir_filtro(lambda x, y: gaussian2D(x,y,sigma))\n",
    "    convolucion = sp.signal.convolve(s, f, mode='same')\n",
    "    visualizar_convolucion2d(s, f, convolucion)"
   ]
  },
  {
   "cell_type": "markdown",
   "metadata": {
    "id": "gBrnpPk8_76x"
   },
   "source": [
    "## Diferencia de gaussianas\n",
    "\n",
    "La función sombrero mexicano es una diferencia de gaussianas, que genera un campo receptivo con centro excitador y periferia inhibidora, típico de las células ganglionares de la retina o neuronas del LGN. Se puede considerar como un detector básico de bordes.\n",
    "\n",
    "Ejecutá la celda siguiente para definir la función y luego visualizar el resultado de muestrearla."
   ]
  },
  {
   "cell_type": "code",
   "execution_count": null,
   "metadata": {
    "colab": {
     "base_uri": "https://localhost:8080/",
     "height": 430
    },
    "executionInfo": {
     "elapsed": 730,
     "status": "ok",
     "timestamp": 1697810069999,
     "user": {
      "displayName": "Neurociencias Cognitivas Computacionales",
      "userId": "07405778412549737291"
     },
     "user_tz": 180
    },
    "id": "az1yOFXh_76x",
    "outputId": "ae5d5782-99d6-4a0f-f0b4-f08f0beabe4a"
   },
   "outputs": [],
   "source": [
    "def mexicanHat(x,y,sigma1,sigma2):\n",
    "    return gaussian2D(x,y,sigma1) - gaussian2D(x,y,sigma2)\n",
    "\n",
    "@widgets.interact(sigma1=(1, 30), sigma2=(1, 30))\n",
    "def visualizar_sombrero_mexicano(sigma1=4, sigma2=3):\n",
    "    f = construir_filtro(lambda x, y: mexicanHat(x,y,sigma1, sigma2))\n",
    "    visualizar_filtro2d(f)"
   ]
  },
  {
   "cell_type": "markdown",
   "metadata": {},
   "source": [
    "Ahora veamos como es el resultado de realizar una convolución con este filtro sobre la imagen de la barra."
   ]
  },
  {
   "cell_type": "code",
   "execution_count": null,
   "metadata": {
    "id": "HlbPaKDt_76y"
   },
   "outputs": [],
   "source": [
    "@widgets.interact(sigma1=(1, 30), sigma2=(1, 30))\n",
    "def simular_sombrero_mexicano(sigma1=4, sigma2=3):\n",
    "    s = barImg\n",
    "    f = construir_filtro(lambda x, y: mexicanHat(x, y, sigma1, sigma2))\n",
    "    convolucion = sp.signal.convolve(s, f, mode='same')\n",
    "    visualizar_convolucion2d(s, f, convolucion)"
   ]
  },
  {
   "cell_type": "markdown",
   "metadata": {},
   "source": [
    "Y ahora sobre la imagen del insecto."
   ]
  },
  {
   "cell_type": "code",
   "execution_count": null,
   "metadata": {
    "id": "Wpc7CMDu_76y"
   },
   "outputs": [],
   "source": [
    "@widgets.interact(sigma1=(1, 30), sigma2=(1, 30))\n",
    "def simular_sombrero_mexicano(sigma1=4, sigma2=3):\n",
    "    s = bugImg\n",
    "    f = construir_filtro(lambda x, y: mexicanHat(x, y, sigma1, sigma2))\n",
    "    convolucion = sp.signal.convolve(s, f, mode='same')\n",
    "    visualizar_convolucion2d(s, f, convolucion)"
   ]
  },
  {
   "cell_type": "markdown",
   "metadata": {
    "id": "UzWrVg_g_76z"
   },
   "source": [
    "## Funciones de Gabor\n",
    "\n",
    "Las funciones de Gabor se usan para detectar bordes con una orientación específica en imágenes. Se encuentran neuronas que pueden modelarse con funciones de Gabor en todo el córtex visual.\n",
    "\n",
    "Gabor impar:\n",
    "\n",
    "$$g_s(x,y):=sin(\\omega_x x + \\omega_y y)\\exp{(-\\frac{x^2+y^2}{2\\sigma^2})}$$\n",
    "\n",
    "Gabor par:\n",
    "\n",
    "$$g_c(x,y):=cos(\\omega_x x + \\omega_y y)\\exp{(-\\frac{x^2+y^2}{2\\sigma^2})}$$\n",
    "\n",
    "La orientación está determinada por la razón $\\omega_y/\\omega_x$.\n",
    "\n",
    "La función $g_s$ se activa con bordes en forma de escalón, mientras que $g_c$ se activa con bordes en forma de línea."
   ]
  },
  {
   "cell_type": "code",
   "execution_count": null,
   "metadata": {
    "colab": {
     "base_uri": "https://localhost:8080/",
     "height": 430
    },
    "executionInfo": {
     "elapsed": 300,
     "status": "ok",
     "timestamp": 1697811553186,
     "user": {
      "displayName": "Neurociencias Cognitivas Computacionales",
      "userId": "07405778412549737291"
     },
     "user_tz": 180
    },
    "id": "q6pcOBtI_760",
    "outputId": "d3e579f3-9413-40da-d1a5-9b3045a688cd",
    "scrolled": true
   },
   "outputs": [],
   "source": [
    "def gabor2d_impar(x, y, sigma, orientation):\n",
    "    return np.sin(x + orientation*y) * np.exp(-(x**2 + y**2)/(2*sigma))\n",
    "\n",
    "def gabor2d_par(x, y, sigma, orientation):\n",
    "    return np.cos(x + orientation*y) * np.exp(-(x**2 + y**2)/(2*sigma))\n",
    "    \n",
    "@widgets.interact(sigma=(1, 30), orientation=(-3, 3, 0.1))\n",
    "def visualizar_gabor_par(sigma=5, orientation=1):\n",
    "    f1 = construir_filtro(lambda x, y: gabor2d_par(x, y, sigma, orientation))\n",
    "    f2 = construir_filtro(lambda x, y: gabor2d_impar(x, y, sigma, orientation))\n",
    "    visualizar_filtro2d(f1, f2)"
   ]
  },
  {
   "cell_type": "code",
   "execution_count": null,
   "metadata": {},
   "outputs": [],
   "source": [
    "s = widgets.fixed(barImg)\n",
    "sigma = widgets.IntSlider(value=5, min=1, max=30, description=\"σ\")\n",
    "orientation = widgets.FloatSlider(value=1, min=-3, max=3, description=\"orientación\")\n",
    "\n",
    "def simular_gabor_par(s, sigma, orientation):\n",
    "    f = construir_filtro(lambda x,y: gabor2d_par(x, y, sigma, orientation))\n",
    "    convolucion = sp.signal.convolve(s, f, mode='same')\n",
    "    visualizar_convolucion2d(s, f, convolucion)\n",
    "\n",
    "def simular_gabor_impar(s, sigma, orientation):\n",
    "    f = construir_filtro(lambda x,y: gabor2d_impar(x, y, sigma, orientation))\n",
    "    convolucion = sp.signal.convolve(s, f, mode='same')\n",
    "    visualizar_convolucion2d(s, f, convolucion)\n",
    "\n",
    "display(widgets.HBox([sigma, orientation]))\n",
    "display(widgets.interactive_output(simular_gabor_par, {'s': s, 'sigma': sigma, 'orientation': orientation}))\n",
    "display(widgets.interactive_output(simular_gabor_impar, {'s': s, 'sigma': sigma, 'orientation': orientation}))"
   ]
  },
  {
   "cell_type": "markdown",
   "metadata": {
    "id": "vpcEWA5Y_762"
   },
   "source": [
    "Si hacemos lo mismo en la imagen del insecto podemos ver claramente las orientaciones de borde que excitan a la neurona."
   ]
  },
  {
   "cell_type": "code",
   "execution_count": null,
   "metadata": {
    "colab": {
     "base_uri": "https://localhost:8080/",
     "height": 435
    },
    "executionInfo": {
     "elapsed": 1087,
     "status": "ok",
     "timestamp": 1697811874743,
     "user": {
      "displayName": "Neurociencias Cognitivas Computacionales",
      "userId": "07405778412549737291"
     },
     "user_tz": 180
    },
    "id": "Z3SuDdei_763",
    "outputId": "57fbf85a-7b9d-4943-de58-f48f1acff9f1"
   },
   "outputs": [],
   "source": [
    "s = widgets.fixed(bugImg)\n",
    "display(widgets.HBox([sigma, orientation]))\n",
    "display(widgets.interactive_output(simular_gabor_par, {'s': s, 'sigma': sigma, 'orientation': orientation}))\n",
    "display(widgets.interactive_output(simular_gabor_impar, {'s': s, 'sigma': sigma, 'orientation': orientation}))"
   ]
  },
  {
   "cell_type": "markdown",
   "metadata": {
    "id": "r6qOUdt9_763"
   },
   "source": [
    "## Combinación de filtros\n",
    "\n",
    "Usando la imagen del campo receptivo centro-on, periferia-off como entrada del filtro de Gabor, obtenemos resultados diferentes."
   ]
  },
  {
   "cell_type": "code",
   "execution_count": null,
   "metadata": {},
   "outputs": [],
   "source": [
    "s = bugImg\n",
    "f1 = construir_filtro(lambda x, y: mexicanHat(x, y, 2, 3))\n",
    "f2 = construir_filtro(lambda x, y: gabor2d_impar(x, y, 5, 1))\n",
    "\n",
    "primera_convolucion = sp.signal.convolve(s, f1, mode='same')\n",
    "segunda_convolucion = sp.signal.convolve(primera_convolucion, f2, mode='same')\n",
    "\n",
    "visualizar_convolucion2d(s, f1, primera_convolucion)\n",
    "visualizar_convolucion2d(primera_convolucion, f2, segunda_convolucion)"
   ]
  },
  {
   "cell_type": "markdown",
   "metadata": {
    "id": "PPpFXXo2_765"
   },
   "source": [
    "## Pares en cuadratura\n",
    "\n",
    "Una célula compleja puede responder igual de bien a bordes en forma de escalón y a líneas de cualquier polaridad. Esto se modela sumando las respuestas al cuadrado de los filtros de Gabor impar y par."
   ]
  },
  {
   "cell_type": "markdown",
   "metadata": {
    "id": "587O_pHfQ7de"
   },
   "source": [
    "Graficamos abajo la respuesta de cada filtro lineal en cuadratura (similar a células simples de corteza visual primaria) a la imagen de la barra."
   ]
  },
  {
   "cell_type": "code",
   "execution_count": null,
   "metadata": {},
   "outputs": [],
   "source": [
    "s = barImg\n",
    "f1 = construir_filtro(lambda x, y: gabor2d_impar(x, y, 10, 0))\n",
    "f2 = construir_filtro(lambda x, y: gabor2d_par(x, y, 10, 0))\n",
    "\n",
    "primera_convolucion = sp.signal.convolve(s, f1, mode='same')\n",
    "segunda_convolucion = sp.signal.convolve(primera_convolucion, f2, mode='same')\n",
    "\n",
    "visualizar_convolucion2d(s, f1, primera_convolucion)\n",
    "visualizar_convolucion2d(primera_convolucion, f2, segunda_convolucion)"
   ]
  },
  {
   "cell_type": "markdown",
   "metadata": {
    "id": "YqNLKTqQQyY3"
   },
   "source": [
    "Ahora obtenemos la suma de los cuadrados de los filtros (filtro de energía, similar a células complejas) y graficamos la salida."
   ]
  },
  {
   "cell_type": "code",
   "execution_count": null,
   "metadata": {},
   "outputs": [],
   "source": [
    "# Sumamos las salidas de los filtros al cuadrado\n",
    "cuadratura = np.square(primera_convolucion) + np.square(segunda_convolucion)\n",
    "\n",
    "# Mostramos la imagen\n",
    "visualizar_imagen(cuadratura)"
   ]
  },
  {
   "cell_type": "markdown",
   "metadata": {},
   "source": [
    "A continuación, hacemos lo mismo para la foto del insecto:"
   ]
  },
  {
   "cell_type": "code",
   "execution_count": null,
   "metadata": {
    "colab": {
     "base_uri": "https://localhost:8080/",
     "height": 853
    },
    "executionInfo": {
     "elapsed": 1490,
     "status": "ok",
     "timestamp": 1697809744782,
     "user": {
      "displayName": "Neurociencias Cognitivas Computacionales",
      "userId": "07405778412549737291"
     },
     "user_tz": 180
    },
    "id": "bMKgcA2n_767",
    "outputId": "d52d9d52-1658-41c3-f6fa-50b70f30a5ab"
   },
   "outputs": [],
   "source": [
    "s = bugImg\n",
    "f1 = construir_filtro(lambda x, y: gabor2d_impar(x, y, 10, 0))\n",
    "f2 = construir_filtro(lambda x, y: gabor2d_par(x, y, 10, 0))\n",
    "\n",
    "primera_convolucion = sp.signal.convolve(s, f1, mode='same')\n",
    "segunda_convolucion = sp.signal.convolve(primera_convolucion, f2, mode='same')\n",
    "\n",
    "visualizar_convolucion2d(s, f1, primera_convolucion)\n",
    "visualizar_convolucion2d(primera_convolucion, f2, segunda_convolucion)"
   ]
  },
  {
   "cell_type": "markdown",
   "metadata": {},
   "source": [
    "Finalmente, obtenemos nuevamente la suma de los cuadrados de los filtros y graficamos la salida."
   ]
  },
  {
   "cell_type": "code",
   "execution_count": null,
   "metadata": {},
   "outputs": [],
   "source": [
    "cuadratura = np.square(primera_convolucion) + np.square(segunda_convolucion)\n",
    "visualizar_imagen(cuadratura)"
   ]
  },
  {
   "cell_type": "markdown",
   "metadata": {},
   "source": [
    "## Bonificación 1: Ilusión de la rejilla de Hermann"
   ]
  },
  {
   "cell_type": "code",
   "execution_count": null,
   "metadata": {},
   "outputs": [],
   "source": [
    "hermannImg = iio.imread('https://raw.githubusercontent.com/MaestriaCienciasCognitivas/ncc/main/book/static/Practico6_Hermann.png')\n",
    "visualizar_imagen(hermannImg)"
   ]
  },
  {
   "cell_type": "code",
   "execution_count": null,
   "metadata": {
    "id": "Al641Clg_768"
   },
   "outputs": [],
   "source": [
    "@widgets.interact(sigma1=(1, 30), sigma2=(1, 30))\n",
    "def simular_sombrero_mexicano(sigma1=3, sigma2=4):\n",
    "    s = hermannImg\n",
    "    f = construir_filtro(lambda x, y: mexicanHat(x, y, sigma1, sigma2))\n",
    "    convolucion = sp.signal.convolve(s, f, mode='same')\n",
    "    visualizar_convolucion2d(s, f, convolucion)"
   ]
  },
  {
   "cell_type": "markdown",
   "metadata": {},
   "source": [
    "## Bonificación 2: Bandas de Mach"
   ]
  },
  {
   "cell_type": "code",
   "execution_count": null,
   "metadata": {
    "colab": {
     "base_uri": "https://localhost:8080/",
     "height": 471
    },
    "executionInfo": {
     "elapsed": 1206,
     "status": "ok",
     "timestamp": 1697809774925,
     "user": {
      "displayName": "Neurociencias Cognitivas Computacionales",
      "userId": "07405778412549737291"
     },
     "user_tz": 180
    },
    "id": "IahioMjU_769",
    "outputId": "f6986568-2ccd-46f1-9191-2e151a15d1d3"
   },
   "outputs": [],
   "source": [
    "machImg = iio.imread('https://raw.githubusercontent.com/MaestriaCienciasCognitivas/ncc/main/book/static/Practico6_Mach.png')\n",
    "visualizar_imagen(machImg)"
   ]
  },
  {
   "cell_type": "code",
   "execution_count": null,
   "metadata": {
    "colab": {
     "base_uri": "https://localhost:8080/",
     "height": 435
    },
    "executionInfo": {
     "elapsed": 643,
     "status": "ok",
     "timestamp": 1697809775565,
     "user": {
      "displayName": "Neurociencias Cognitivas Computacionales",
      "userId": "07405778412549737291"
     },
     "user_tz": 180
    },
    "id": "OuBeayJxq-L3",
    "outputId": "8ab3b2b5-3446-41a7-9b59-ecfe494a8d13"
   },
   "outputs": [],
   "source": [
    "@widgets.interact(sigma1=(1, 30), sigma2=(1, 30))\n",
    "def simular_sombrero_mexicano(sigma1=3, sigma2=4):\n",
    "    s = machImg\n",
    "    f = construir_filtro(lambda x, y: mexicanHat(x, y, sigma1, sigma2))\n",
    "    convolucion = sp.signal.convolve(s, f, mode='same')\n",
    "    visualizar_convolucion2d(s, f, convolucion)"
   ]
  }
 ],
 "metadata": {
  "colab": {
   "provenance": []
  },
  "kernelspec": {
   "display_name": "Python 3 (ipykernel)",
   "language": "python",
   "name": "python3"
  },
  "language_info": {
   "codemirror_mode": {
    "name": "ipython",
    "version": 3
   },
   "file_extension": ".py",
   "mimetype": "text/x-python",
   "name": "python",
   "nbconvert_exporter": "python",
   "pygments_lexer": "ipython3",
   "version": "3.13.7"
  }
 },
 "nbformat": 4,
 "nbformat_minor": 4
}
