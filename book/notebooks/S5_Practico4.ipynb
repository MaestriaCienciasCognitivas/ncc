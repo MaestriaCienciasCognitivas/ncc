{
 "cells": [
  {
   "cell_type": "markdown",
   "id": "8989ae92",
   "metadata": {},
   "source": [
    "# Práctico 4: Redes convolucionales\n",
    "\n",
    "En este cuaderno vamos a adentrarnos un poco en uno de los modelos más usados en IA, que tiene una inspiración fuerte en la cognición visual (algo que van a ver en clases siguientes) y vamos a ver cómo procede el entrenamiento y qué descubre la red."
   ]
  },
  {
   "cell_type": "markdown",
   "id": "659cfe19-3282-4d49-bc59-f175b7bb8c65",
   "metadata": {},
   "source": [
    "## Configuración"
   ]
  },
  {
   "cell_type": "code",
   "execution_count": null,
   "id": "cf119473",
   "metadata": {},
   "outputs": [],
   "source": [
    "import math\n",
    "import numpy as np\n",
    "import matplotlib.pyplot as plt\n",
    "\n",
    "import torch\n",
    "import torch.nn as nn\n",
    "import torch.nn.functional as F\n",
    "from torch.utils.data import DataLoader, random_split\n",
    "from torchvision import datasets, transforms\n",
    "\n",
    "import ipywidgets as widgets\n",
    "\n",
    "if torch.cuda.is_available():\n",
    "  device = torch.device(\"cuda\")\n",
    "elif hasattr(torch.backends, \"mps\") and torch.backends.mps.is_available():\n",
    "  device = torch.device(\"mps\")\n",
    "else:\n",
    "  device = torch.device(\"cpu\")\n",
    "\n",
    "print(\"Usando device:\", device)"
   ]
  },
  {
   "cell_type": "markdown",
   "id": "d7718444-3c7b-49e6-9ef6-369e953aaa14",
   "metadata": {},
   "source": [
    "### Funciones utilitarias"
   ]
  },
  {
   "cell_type": "code",
   "execution_count": null,
   "id": "b92e8c2a-083f-4b2c-a10f-8b111052c6b7",
   "metadata": {},
   "outputs": [],
   "source": [
    "def train_net(model, loader, optimizer, criterion):\n",
    "    model.train()\n",
    "    total_loss, correct, total = 0.0, 0, 0\n",
    "    for x, y in loader:\n",
    "        x, y = x.to(device), y.to(device)\n",
    "        optimizer.zero_grad()\n",
    "        logits = model(x)\n",
    "        loss = criterion(logits, y)\n",
    "        loss.backward()\n",
    "        optimizer.step()\n",
    "        total_loss += loss.item() * x.size(0)\n",
    "        preds = logits.argmax(dim=1)\n",
    "        correct += (preds == y).sum().item()\n",
    "        total += x.size(0)\n",
    "    return total_loss/total, correct/total\n",
    "\n",
    "@torch.no_grad()\n",
    "def eval_net(model, loader, criterion):\n",
    "    model.eval()\n",
    "    total_loss, correct, total = 0.0, 0, 0\n",
    "    for x, y in loader:\n",
    "        x, y = x.to(device), y.to(device)\n",
    "        logits = model(x)\n",
    "        loss = criterion(logits, y)\n",
    "        total_loss += loss.item() * x.size(0)\n",
    "        preds = logits.argmax(dim=1)\n",
    "        correct += (preds == y).sum().item()\n",
    "        total += x.size(0)\n",
    "    return total_loss/total, correct/total"
   ]
  },
  {
   "cell_type": "markdown",
   "id": "0beeca58-c093-4335-a1e2-0c9314513868",
   "metadata": {},
   "source": [
    "### Funciones de graficado"
   ]
  },
  {
   "cell_type": "code",
   "execution_count": null,
   "id": "56bed820-c8df-4815-b4d4-3010d63fa7ce",
   "metadata": {},
   "outputs": [],
   "source": [
    "def visualizar_activaciones(activations, layer):\n",
    "  act = activations[layer][0]\n",
    "  n = act.shape[0]\n",
    "\n",
    "  cols = int(math.ceil(math.sqrt(n)))\n",
    "  rows = int(math.ceil(n / cols))\n",
    "\n",
    "  fig, axes = plt.subplots(rows, cols, figsize=(2*cols, 2*rows))\n",
    "  axes = axes.flatten()\n",
    "\n",
    "  for i in range(n):\n",
    "      axes[i].imshow(act[i], cmap=\"gray\")\n",
    "      axes[i].axis(\"off\")\n",
    "\n",
    "  for j in range(n, len(axes)):\n",
    "      axes[j].axis(\"off\")\n",
    "\n",
    "  plt.suptitle(f\"Activaciones en {layer}\")\n",
    "  plt.show()\n",
    "\n",
    "def visualizar_barplot(activations, layer):\n",
    "  act = activations[layer][0].numpy()\n",
    "  n = len(act)\n",
    "  plt.figure(figsize=(10,4))\n",
    "  plt.bar(np.arange(n), act)\n",
    "  plt.title(f\"Activaciones en {layer} ({n} unidades)\")\n",
    "  plt.xlabel(\"Unidad\")\n",
    "  plt.ylabel(\"Valor de activación\")\n",
    "  plt.show()\n",
    "\n",
    "def visualizar_pesos(conv_layer, in_channel=0, max_plots=64):\n",
    "  W = conv_layer.weight.detach().cpu()  # (out_ch, in_ch, kH, kW)\n",
    "  n = min(W.shape[0], max_plots)\n",
    "  cols = int(math.ceil(math.sqrt(n)))\n",
    "  rows = int(math.ceil(n / cols))\n",
    "  \n",
    "  fig, axes = plt.subplots(rows, cols, figsize=(2*cols, 2*rows))\n",
    "  axes = axes.flatten()\n",
    "  \n",
    "  for i in range(n):\n",
    "      ker = W[i, in_channel].numpy()\n",
    "      axes[i].imshow(ker, cmap=\"bwr\")  # bwr: azul negativo, rojo positivo\n",
    "      axes[i].axis(\"off\")\n",
    "  for j in range(n, len(axes)):\n",
    "      axes[j].axis(\"off\")\n",
    "  plt.suptitle(f\"Pesos {conv_layer.__class__.__name__}, canal entrada {in_channel}\")\n",
    "  plt.show()\n"
   ]
  },
  {
   "cell_type": "markdown",
   "id": "02be94ac",
   "metadata": {},
   "source": [
    "## Dataset: MNIST\n",
    "Usamos `torchvision.datasets.MNIST` con una transformación mínima (`ToTensor`) que deja las imágenes en rango `[0, 1]` para cargar el con junto MNIST."
   ]
  },
  {
   "cell_type": "code",
   "execution_count": null,
   "id": "50ed865e",
   "metadata": {},
   "outputs": [],
   "source": [
    "\n",
    "transform = transforms.ToTensor()\n",
    "\n",
    "train_full = datasets.MNIST(root=\"./data\", train=True, download=True, transform=transform)\n",
    "test_ds = datasets.MNIST(root=\"./data\", train=False, download=True, transform=transform)\n",
    "\n",
    "len(train_full), len(test_ds), train_full[0][0].shape"
   ]
  },
  {
   "cell_type": "code",
   "execution_count": null,
   "id": "1747347b",
   "metadata": {},
   "outputs": [],
   "source": [
    "# Separar un pequeño conjunto para la validación\n",
    "train_size = int(len(train_full) * 0.9)\n",
    "val_size = len(train_full) - train_size\n",
    "train_ds, val_ds = random_split(train_full, [train_size, val_size])\n",
    "\n",
    "# Instanciar clases utilitarias de PyTorch que nos permiten leer la carpeta data\n",
    "batch_size = 64\n",
    "train_loader = DataLoader(train_ds, batch_size=batch_size, shuffle=True)\n",
    "val_loader = DataLoader(val_ds, batch_size=batch_size, shuffle=False)\n",
    "\n",
    "# Imprimimos la forma del primer lote\n",
    "batch = next(iter(train_loader))\n",
    "batch[0].shape, batch[1].shape"
   ]
  },
  {
   "cell_type": "markdown",
   "id": "84ef442d",
   "metadata": {},
   "source": [
    "## Nuestra primera red convolucional\n",
    "\n",
    "Vamos a tratar de resolver este problema usando redes convolucionales.\n",
    "\n",
    "Primero, tenemos que definir la \"arquitectura\" de la red:"
   ]
  },
  {
   "cell_type": "code",
   "execution_count": 20,
   "id": "fa562074",
   "metadata": {},
   "outputs": [],
   "source": [
    "class SimpleCNN(nn.Module):\n",
    "  def __init__(self):\n",
    "    super().__init__()\n",
    "    self.conv1 = nn.Conv2d(1, 4, kernel_size=3, padding=1)\n",
    "    self.pool1 = nn.MaxPool2d(2, 2)\n",
    "    self.conv2 = nn.Conv2d(4, 8, kernel_size=3, padding=1)\n",
    "    self.pool2 = nn.MaxPool2d(2, 2)\n",
    "    self.fc1 = nn.Linear(8 * 7 * 7, 8)\n",
    "    self.fc2 = nn.Linear(8, 10)\n",
    "    \n",
    "  def forward(self, x):\n",
    "    x = F.relu(self.conv1(x))\n",
    "    x = self.pool1(x)\n",
    "    x = F.relu(self.conv2(x))\n",
    "    x = self.pool2(x)\n",
    "    x = x.view(x.size(0), -1)\n",
    "    x = F.relu(self.fc1(x))\n",
    "    x = self.fc2(x)\n",
    "    return x"
   ]
  },
  {
   "cell_type": "markdown",
   "id": "161655ab-0006-4143-8c24-2cb2b6b44b92",
   "metadata": {},
   "source": [
    "A continuación, la entrenamos:"
   ]
  },
  {
   "cell_type": "code",
   "execution_count": 21,
   "id": "a4e64a0a",
   "metadata": {},
   "outputs": [
    {
     "name": "stdout",
     "output_type": "stream",
     "text": [
      "Época 01 | Precisión=0.8957\n",
      "Época 02 | Precisión=0.9293\n",
      "Época 03 | Precisión=0.9442\n",
      "Época 04 | Precisión=0.9515\n",
      "Época 05 | Precisión=0.9482\n"
     ]
    }
   ],
   "source": [
    "# Instanciamos la red\n",
    "cnn = SimpleCNN().to(device)\n",
    "\n",
    "# Especificamos el optimizador\n",
    "optimizer_cnn = torch.optim.Adam(cnn.parameters(), lr=1e-3)\n",
    "\n",
    "# Especificamos el criterio para medir la pérdida\n",
    "criterion = nn.CrossEntropyLoss()\n",
    "\n",
    "# Reproducibilidad\n",
    "torch.manual_seed(123)\n",
    "np.random.seed(123)\n",
    "\n",
    "# Iteramos sobre una cierta cantidad de épocas\n",
    "tmax = 5\n",
    "for ep in range(1, tmax+1):\n",
    "  # Entrenamos a la red en el conjunto de entrenamiento\n",
    "  tr_loss, tr_acc = train_net(cnn, train_loader, optimizer_cnn, criterion)\n",
    "\n",
    "  # Evaluamos en el conjunto de evaluación\n",
    "  va_loss, va_acc = eval_net(cnn, val_loader, criterion)\n",
    "\n",
    "  print(f\"Época {ep:02d} | Precisión={va_acc:.4f}\")"
   ]
  },
  {
   "cell_type": "markdown",
   "id": "8d4c071e",
   "metadata": {},
   "source": [
    "Efecutá la celda siguiente para ver las activaciones de las diversas capas de la red ya entrenada. Tené en cuenta que:\n",
    "\n",
    "- `conv1` es una capa de convolución con una salida de 4 dimensiones y con un kernel de 3x3. Esto produce 4 imagenes un poquito mas chicas que la anterior, de 26x26, ya que la convolucion, si no se le aplica ninguna técnica de *padding*, siempre va a devolver una salida más chica que la entrada.\n",
    "- `pool1` es una capa de *max pooling* de $2 \\times 2$. Esto significa que va a comprimir la imagen a la mitad quedandose sólo con el máximo valor encontrado en cada ventana.\n",
    "- `conv2` es otra capa de convolución con una salida de 8 dimensiones y con un kernel de 3x3. Esto produce 8 imagenes un poquito mas chicas que la anterior, esta vez de $11 \\times 11$.\n",
    "- `pool2` es otra capa de max pooling de $2 \\times 2$. Esto significa que va a comprimir nuevamente la imagen a la mitad quedandose sólo con el máximo valor encontrado en cada ventana.\n",
    "- `fc1` es una capa de red neuronal densa de 8 nodos conectados a todas las entradas (la salida de `pool2`) y a todas las salidas (`fc2`).\n",
    "- `fc2` es una capa de red neuronal densa de 10 nodos conectados a todas las entradas (la salida de `pool2`). Codifican la salida esperada."
   ]
  },
  {
   "cell_type": "code",
   "execution_count": 22,
   "id": "0454b5ed",
   "metadata": {},
   "outputs": [
    {
     "data": {
      "application/vnd.jupyter.widget-view+json": {
       "model_id": "93d5c64a8a7946df8601099a917a6868",
       "version_major": 2,
       "version_minor": 0
      },
      "text/plain": [
       "interactive(children=(IntSlider(value=4999, description='i', max=9999), Dropdown(description='layer', options=…"
      ]
     },
     "metadata": {},
     "output_type": "display_data"
    }
   ],
   "source": [
    "# Forma en que PyTorch nos permite visualizar las activaciones de las capas ocultas\n",
    "activations = {}\n",
    "def make_hook(name):\n",
    "    def _hook(m, i, o): activations[name] = o.detach().cpu()\n",
    "    return _hook\n",
    "hooks = [\n",
    "    cnn.conv1.register_forward_hook(make_hook('conv1')),\n",
    "    cnn.pool1.register_forward_hook(make_hook('pool1')),\n",
    "    cnn.conv2.register_forward_hook(make_hook('conv2')),\n",
    "    cnn.pool2.register_forward_hook(make_hook('pool2')),\n",
    "    cnn.fc1.register_forward_hook(make_hook('fc1')),\n",
    "    cnn.fc2.register_forward_hook(make_hook('fc2')),\n",
    "]\n",
    "\n",
    "@widgets.interact(i=(0,len(test_ds)-1, 1), layer=['conv1', 'pool1', 'conv2', 'pool2', 'fc1', 'fc2'])\n",
    "def visualize(i, layer):\n",
    "  Xi, Yi = test_ds[i]\n",
    "  activations.clear()\n",
    "  _ = cnn(Xi.unsqueeze(0).to(device))\n",
    "  if layer == 'fc1' or layer == 'fc2':\n",
    "    visualizar_barplot(activations, layer)\n",
    "  else:\n",
    "    visualizar_activaciones(activations, layer)"
   ]
  },
  {
   "cell_type": "markdown",
   "id": "6ef4e897-e081-4074-b98b-1a9ed3d596ee",
   "metadata": {},
   "source": [
    "Efecutá la celda siguiente para ver los pesos de las dos capas de convolución que aprendió la red."
   ]
  },
  {
   "cell_type": "code",
   "execution_count": 23,
   "id": "59320acf-970c-4a4c-8a49-a259f443542d",
   "metadata": {},
   "outputs": [
    {
     "data": {
      "image/png": "[encoded data removed]",
      "text/plain": [
       "<Figure size 400x400 with 4 Axes>"
      ]
     },
     "metadata": {},
     "output_type": "display_data"
    },
    {
     "data": {
      "image/png": "[encoded data removed]",
      "text/plain": [
       "<Figure size 600x600 with 9 Axes>"
      ]
     },
     "metadata": {},
     "output_type": "display_data"
    }
   ],
   "source": [
    "visualizar_pesos(cnn.conv1, in_channel=0)\n",
    "visualizar_pesos(cnn.conv2, in_channel=0)"
   ]
  }
 ],
 "metadata": {
  "kernelspec": {
   "display_name": "Python 3 (ipykernel)",
   "language": "python",
   "name": "python3"
  },
  "language_info": {
   "codemirror_mode": {
    "name": "ipython",
    "version": 3
   },
   "file_extension": ".py",
   "mimetype": "text/x-python",
   "name": "python",
   "nbconvert_exporter": "python",
   "pygments_lexer": "ipython3",
   "version": "3.10.18"
  }
 },
 "nbformat": 4,
 "nbformat_minor": 5
}
