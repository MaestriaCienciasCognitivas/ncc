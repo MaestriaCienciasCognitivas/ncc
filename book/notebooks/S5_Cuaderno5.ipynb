{
 "cells": [
  {
   "cell_type": "markdown",
   "id": "eb090615-4bdd-4206-af7a-9a30bfe77d63",
   "metadata": {},
   "source": [
    "# Cuaderno 5: Perceptrones\n",
    "\n",
    "Los perceptrones fue el nombre genérico dado por el psicólogo Frank Rosenblatt a una familia de modelos teóricos y experimentales de redes neuronales artificiales que propuso entre 1957 y 1962. El trabajo de Rosenblatt generó mucha emoción, controversia e interés en los modelos de redes neuronales para la clasificación de patrones durante ese periodo, y dio lugar a importantes modelos abstractos basados en su trabajo en años posteriores. Actualmente, los nombres *perceptrón* (de una sola capa) y *perceptrón multicapa* se utilizan para referirse a estructuras específicas de redes neuronales artificiales basadas en los perceptrones de Rosenblatt.\n",
    "\n",
    "Los orígenes de las redes neuronales se encuentran en la neurona de McCulloch-Pitts (McCulloch y Pitts, 1943), un modelo simplificado de la neurona biológica como un tipo de elemento de computación que podía describirse en términos de lógica proposicional. Sin embargo, el uso moderno ya no se basa tanto en estas primeras inspiraciones biológicas.\n",
    "\n",
    "En cambio, una red neuronal moderna es una red de pequeñas unidades de computación, cada una de las cuales toma un vector de valores de entrada y produce un único valor de salida. En este cuaderno, introducimos el perceptrón simple y el perceptrón multicapa, como nuestra primera aproximación a redes neuronales aplicadas a la clasificación. La arquitectura que presentamos se llama red de retroalimentación (*feedforward*) porque el cálculo avanza de manera iterativa de una capa de unidades a la siguiente (lo veremos en el perceptrón multicapa). El uso de redes neuronales modernas se conoce a menudo como aprendizaje profundo (*deep learning*), ya que las redes modernas suelen ser profundas (tienen muchas capas).\n",
    "\n",
    "Las redes neuronales comparten gran parte de la misma matemática que la regresión logística. Sin embargo, las redes neuronales son un clasificador más poderoso que la regresión logística, y de hecho, se puede demostrar que una red neuronal mínima (técnicamente, una con una sola capa oculta) puede aprender cualquier función.\n",
    "\n",
    "Como es usual, comenzamos importando las librerías que vamos a utilizar."
   ]
  },
  {
   "cell_type": "markdown",
   "id": "862be1c5-a903-4de7-bc2a-334db71f0b68",
   "metadata": {},
   "source": [
    "## Configuración"
   ]
  },
  {
   "cell_type": "code",
   "execution_count": 1,
   "id": "49352033-e3f5-4724-8f3a-35a2c643805e",
   "metadata": {},
   "outputs": [],
   "source": [
    "import numpy as np\n",
    "import matplotlib.pyplot as plt\n",
    "import ipywidgets as widgets"
   ]
  },
  {
   "cell_type": "markdown",
   "id": "5675ef8d-0aee-4ea3-a49a-4d55b42e1f4d",
   "metadata": {},
   "source": [
    "### Funciones de graficado"
   ]
  },
  {
   "cell_type": "code",
   "execution_count": 95,
   "id": "176a6dc8-a61b-4ecc-a0c2-69f75d787151",
   "metadata": {},
   "outputs": [],
   "source": [
    "def visualizar_errores(t, errors, ax=None):\n",
    "    if ax is None:\n",
    "        fig, ax = plt.subplots()\n",
    "    ax.plot(t, errors)\n",
    "    ax.set_ylim(-2, 2)\n",
    "    ax.set_xlabel(\"Iteración\")\n",
    "    ax.set_ylabel(\"Error\")\n",
    "    ax.axhline(0, color='r')\n",
    "\n",
    "def visualizar_pesos(W, b, ax=None):\n",
    "    if ax is None:\n",
    "        fig, ax = plt.subplots()\n",
    "    \n",
    "    # Dibujar la recta de decisión\n",
    "    x_vals = np.linspace(-1, 1, 100)\n",
    "    if W[1] != 0:\n",
    "        y_vals = -(W[0] * x_vals + b) / W[1]\n",
    "        ax.plot(x_vals, y_vals, 'r--')\n",
    "    else:\n",
    "        x0 = -b / W[0]\n",
    "        ax.axvline(x0, color='r', linestyle='--')\n",
    "\n",
    "    # Configurar los ejes\n",
    "    ax.set_xlim(-1, 1)\n",
    "    ax.set_ylim(-1, 1)\n",
    "    ax.axhline(0, color='black', linewidth=0.5)\n",
    "    ax.axvline(0, color='black', linewidth=0.5)\n",
    "    ax.set_aspect('equal')\n",
    "    ax.set_title(f\"Límite de decisión\")"
   ]
  },
  {
   "cell_type": "markdown",
   "id": "d58a77f3-db89-4445-966b-bfee6d2f7ce3",
   "metadata": {},
   "source": [
    "## Perceptrón simple\n",
    "\n",
    "El primer problema de nuestro perceptrón va a ser el de aprender a imitar una compuerta lógica OR. Las compuertas lógicas OR son dispositivos electrónicos con una función booleana OR, a partir de dos señales de entrada, detectan cuando al menos una de ellas esta prendida. El objetivo del perceptrón va a ser, a partir de dos entradas binarias y una salida esperada (que va a tomar 1 cuando una de las dos entradas tiene el valor de 1), entender la lógica que estamos queriendo que aprenda y modificar los pesos de su capa de activación de forma tal que, luego de un número arbitrario de entrenamientos, estos pesos se establecen en un valor que resuelve siempre la función booleana.\n",
    "\n",
    "En resumen, vamos a entrenar un perceptrón de dos nodos de entrada y uno de salida utilizando vectores de entrada $\\pmb{X_1}$, $\\pmb{X_2}$, $\\pmb{X_3}$ y $\\pmb{X_4}$ y cuatro vectores de salida esperados $\\pmb{Y_1}$, $\\pmb{Y_2}$, $\\pmb{Y_3}$ y $\\pmb{Y_4}$:\n",
    "\n",
    "$$\\begin{split}\n",
    "\\pmb{X_1} = \\begin{pmatrix} 0 \\\\ 0 \\end{pmatrix} & \\pmb{Y_1} = \\begin{pmatrix} 0 \\end{pmatrix} \\\\\n",
    "\\pmb{X_2} = \\begin{pmatrix} 0 \\\\ 1 \\end{pmatrix} & \\pmb{Y_2} = \\begin{pmatrix} 1 \\end{pmatrix} \\\\\n",
    "\\pmb{X_3} = \\begin{pmatrix} 1 \\\\ 0 \\end{pmatrix} & \\pmb{Y_3} = \\begin{pmatrix} 1 \\end{pmatrix} \\\\\n",
    "\\pmb{X_4} = \\begin{pmatrix} 1 \\\\ 1 \\end{pmatrix} & \\pmb{Y_4} = \\begin{pmatrix} 1 \\end{pmatrix}\n",
    "\\end{split}$$\n",
    "\n",
    "Para aprovechar la ventaja que nos ofrecen las matrices, lo haremos definiendo dos matrices $\\pmb{X}$ e $\\pmb{Y}$ equivalentes:\n",
    "\n",
    "$$\\pmb{X} = \\begin{pmatrix} 0 & 0 & 1 & 1 \\\\ 0 & 1 & 0 & 1 \\end{pmatrix}$$\n",
    "\n",
    "$$\\pmb{Y} = \\begin{pmatrix} 0 & 1 & 1 & 1 \\end{pmatrix}$$\n",
    "\n",
    "Como podran notar, $\\pmb{X}$ tiene todas las posibles combinaciones de entradas. Además, la salida esperada $\\pmb{Y}$ toma el valor de 1 cuando al menos uno de los nodos de entrada toma el valor de 1. Esto nos será útil para entrenar al perceptrón para realizar funciones de lógica binaria, como OR, ya que estaremos seguros de que el perceptrón pudo ver todas las posibilidades. Simplemente, lo que haremos será entrenarlo con todas las combinaciones una cantidad arbitraria $n$ de veces, y veremos como mejora en cada vez.\n",
    "\n",
    "Un perceptrón simple tiene tres componentes:\n",
    "\n",
    "- Una capa de entradas: Son los valores que alimentan al perceptrón. Cada entrada representa una característica distinta.\n",
    "- Pesos: Cada entrada tiene un peso asociado que determina que tanta importancia tiene cada característica en la decisión final. Estos pesos se ajustan en la fase de entrenamiento.\n",
    "- Función de activación: Después de calcular la suma ponderada $z$ de las entradas y los pesos, el resultado se pasa por una función de activación que decide si la neurona se activa o no, produciendo una salida $a$ que toma el valor de 0 o 1.\n",
    "\n",
    "Los pesos de las entradas pueden modelarse con una matriz $\\pmb{w}$ de forma tal que la suma ponderada cumpla con:\n",
    "\n",
    "$$z = \\pmb{w} \\cdot \\pmb{X} + b$$\n",
    "\n",
    "En dónde $b$ es un término de sesgo que ayuda a ajustar el modelo y $z$ es la salida del perceptrón. El perceptrón simple, entonces, va a aprender a modificar los pesos y el término de sesgo de forma tal que la salida $Y$ se aproxime cada vez más a la salida $Y_0$ esperada.\n",
    "\n",
    "Finalmente, en lugar de usar $z$, una función lineal de $x$, como salida, los perceptrones aplican una función de activación que indica cuando el perceptrón se activa, es decir, separa la $x$ en un 0 o un 1. Nos referiremos a la salida de esta función como el valor de activación para el perceptrón. Dado que estamos modelando un perceptrón simple, la activación del nodo de resultado es, de hecho, la salida final de la red, que generalmente llamaremos $y$. Así que el valor $y$ para un perceptrón simple de dos entradas $x_1$ y $x_2$ se define como:\n",
    "\n",
    "$\\hat{y} = \\sigma(w_1 \\times x_1 + w_2 \\times x_2 + b)$\n",
    "\n",
    "en donde $\\sigma$ es la función de activación. Veámosla más en detalle."
   ]
  },
  {
   "cell_type": "markdown",
   "id": "236742b6-60eb-4e3e-bee8-0bc832c831fd",
   "metadata": {},
   "source": [
    "### Función de activación $\\sigma$\n",
    "\n",
    "La función de activación transforma el resultado de multiplicar las entradas por los pesos en una forma binaria, de unos y ceros. Esto es lo que queremos cuando el objetivo del perceptrón es el de tomar una decisión binaria, como el de la clasificación.\n",
    "\n",
    "Una función de activación comúnmente usada es la sigmoide (hay otras), que toma la forma:\n",
    "\n",
    "$\\sigma(x) = \\dfrac{1}{1 + e^{- \\beta x}}$\n",
    "\n",
    "Esta función transforma la mayoria de los valores en 0 o en 1. Ejecutá la celda siguiente para verla en acción, y pensá:\n",
    "\n",
    "- ¿Que ocurre cuando aumenta $\\beta$?"
   ]
  },
  {
   "cell_type": "code",
   "execution_count": 6,
   "id": "ac590a79-2624-43a3-bee3-91d847102439",
   "metadata": {},
   "outputs": [
    {
     "data": {
      "application/vnd.jupyter.widget-view+json": {
       "model_id": "2722b51afed440d1b3c7d3e4b6200861",
       "version_major": 2,
       "version_minor": 0
      },
      "text/plain": [
       "interactive(children=(FloatSlider(value=5.0, description='beta', max=10.0, step=0.01), Output()), _dom_classes…"
      ]
     },
     "metadata": {},
     "output_type": "display_data"
    }
   ],
   "source": [
    "def sigmoid(x, beta):\n",
    "    return 1 / (1 + np.exp(-beta * x))\n",
    "\n",
    "x = np.arange(-10, 10, 0.1)\n",
    "\n",
    "@widgets.interact(beta=(0, 10, 0.01))\n",
    "def simulate(beta):\n",
    "    plt.plot(x, sigmoid(x, beta))\n",
    "    plt.vlines(x=0, ymin=0, ymax=1, color='r', linestyles='--')"
   ]
  },
  {
   "cell_type": "markdown",
   "id": "1b294d45-c573-45b3-9e63-957e2af742ab",
   "metadata": {},
   "source": [
    "Cuando $\\beta$ tiende al infinito, la función sigmoide separa aún mejor los valores en ceros y unos. No obstante, en una computadora todavia persiste el problema de $x=0$, por lo que normalmente simplemente se transforma manualmente a 0 los valores menores o iguales a 0.5, y a 1 los valores mayores a 0.5 para evitar este problema."
   ]
  },
  {
   "cell_type": "markdown",
   "id": "141840aa-8cfc-4fc1-bf73-71c9b4657491",
   "metadata": {},
   "source": [
    "### Compuerta OR\n",
    "\n",
    "El entrenamiento del perceptrón se realiza utilizando un algoritmo conocido como regla de aprendizaje del perceptrón. Este ajusta los pesos basándose en el error de las predicciones, buscando minimizar la diferencia entre las salidas predichas y las reales. En la clase vimos como combinando el aprendizaje Hebbiano con la regla de la cadena podemos ir aproximandonos a los pesos que buscamos.\n",
    "\n",
    "Veamos la implementación de un perceptrón simple y entrenémoslo para detectar la compuerta OR:"
   ]
  },
  {
   "cell_type": "code",
   "execution_count": 96,
   "id": "70d36289-0d6a-4b10-b0a1-9bf8aa00adc5",
   "metadata": {},
   "outputs": [
    {
     "data": {
      "application/vnd.jupyter.widget-view+json": {
       "model_id": "57b28ca259b8406e9c0d7701cdababd9",
       "version_major": 2,
       "version_minor": 0
      },
      "text/plain": [
       "interactive(children=(FloatSlider(value=0.5, description='alpha', max=1.0, step=0.01), Output()), _dom_classes…"
      ]
     },
     "metadata": {},
     "output_type": "display_data"
    }
   ],
   "source": [
    "# Tiempo máximo que queremos entrenar\n",
    "tmax = 1000\n",
    "\n",
    "# Umbral de activación\n",
    "threshold = 0.5\n",
    "\n",
    "# Definimos el modelo lineal que queremos resolver\n",
    "def z(x, w, b):\n",
    "    return w.dot(x) + b\n",
    "\n",
    "# Definimos la función de activación\n",
    "def g(z):\n",
    "    return 1 / (1 + np.exp(-z))\n",
    "\n",
    "def y(X, W, b):\n",
    "    return g(z(X, W, b))\n",
    "\n",
    "# Definimos la derivada de la función de activación dy/dw\n",
    "def dg(y):\n",
    "    return y * (1 - y)\n",
    "\n",
    "# Definimos la función que calcula el error\n",
    "def loss(x, x_pred):\n",
    "    return x - x_pred\n",
    "\n",
    "# Definimos la cantidad de trials que vamos a usar\n",
    "t = np.arange(tmax)\n",
    "\n",
    "# Definimos la funcion que entrena un conjunto de datos de entrada y salida y grafica el error cometido\n",
    "# en cada salto de tiempo.\n",
    "# X: Las entradas del conjunto de entrenamiento\n",
    "# Y: Las salidas esperadas del conjunto de entrenamiento\n",
    "# alpha: Constante de aprendizaje\n",
    "def perceptron_simple(X, Y, alpha=0.5):\n",
    "    # Iniciamos un array que va a guardar los errores en cada paso para poder graficarlos al final\n",
    "    # y observar como va aprendiendo el perceptrón en cada paso\n",
    "    errors = []\n",
    "\n",
    "    # Fijamos la semilla para reproducir siempre los mismos valores aleatorios\n",
    "    np.random.seed(1) \n",
    "    \n",
    "    # Iniciamos la matriz con los pesos en forma aleatoria\n",
    "    W = np.random.randn(Y.shape[0], X.shape[0])\n",
    "\n",
    "    # Iniciamos el término de sesgo con un número aleatorio\n",
    "    b = np.random.uniform(-1, 1)\n",
    "\n",
    "    for step in t:\n",
    "        y_hat = y(X, W, b)\n",
    "        error = loss(Y, y_hat)\n",
    "        delta = error * dg(y_hat)\n",
    "        W = W + alpha * delta.dot(X.T)\n",
    "        b = b + alpha * delta.sum()\n",
    "\n",
    "        errors = np.append(errors, np.sum(np.pow(error, 2)))\n",
    "\n",
    "    # Graficamos el error\n",
    "    fig, (ax1, ax2) = plt.subplots(1, 2, figsize=(8, 3))\n",
    "    visualizar_errores(t, errors, ax1)\n",
    "    visualizar_pesos(W[0], b, ax2)\n",
    "    plt.show()\n",
    "\n",
    "    print(W)\n",
    "    print(b)\n",
    "    \n",
    "    return lambda X: np.where(y(X, W, b) < threshold, 0, 1)\n",
    "\n",
    "# Entrenamos al perceptrón para la funcion OR\n",
    "@widgets.interact(alpha=(0, 1, 0.01))\n",
    "def simulate(alpha=0.5):\n",
    "    X = np.array([[0, 0, 1, 1], [0, 1, 0, 1]])\n",
    "    Y = np.array([[0, 1, 1, 1]])\n",
    "    perceptron_simple(X, Y, alpha)"
   ]
  },
  {
   "cell_type": "markdown",
   "id": "74d3c985-f545-4109-ab59-7755b41aad26",
   "metadata": {},
   "source": [
    "Ejercitamos al perceptrón con dos valores de entrada:"
   ]
  },
  {
   "cell_type": "code",
   "execution_count": 88,
   "id": "a7de9572-a541-44ca-a6e6-7697ed0356a6",
   "metadata": {},
   "outputs": [
    {
     "data": {
      "image/png": "[encoded data removed]",
      "text/plain": [
       "<Figure size 800x300 with 2 Axes>"
      ]
     },
     "metadata": {},
     "output_type": "display_data"
    },
    {
     "name": "stdout",
     "output_type": "stream",
     "text": [
      "[[1]]\n"
     ]
    }
   ],
   "source": [
    "X = np.array([[0, 0, 1, 1], [0, 1, 0, 1]])\n",
    "Y = np.array([[0, 1, 1, 1]])\n",
    "f = perceptron_simple(X, Y, alpha=0.5)\n",
    "print(f(np.array([[1], [1]])))"
   ]
  },
  {
   "cell_type": "markdown",
   "id": "98a31997-bd19-4207-9a2a-c4c9fb16b101",
   "metadata": {},
   "source": [
    "### Compuerta AND\n",
    "\n",
    "En una forma similar, podemos entrenar al perceptrón para detectar cuando los dos nodos de entrada se activan al mismo tiempo. Esto puede ser visto como la función booleana AND. En este caso, los vectores de entrenamiento y de salida esperada pueden ser:\n",
    "\n",
    "$$\\begin{split}\n",
    "\\pmb{X_1} = \\begin{pmatrix} 0 \\\\ 0 \\end{pmatrix} & \\pmb{Y_1} = \\begin{pmatrix} 0 \\end{pmatrix} \\\\\n",
    "\\pmb{X_2} = \\begin{pmatrix} 0 \\\\ 1 \\end{pmatrix} & \\pmb{Y_2} = \\begin{pmatrix} 0 \\end{pmatrix} \\\\\n",
    "\\pmb{X_3} = \\begin{pmatrix} 1 \\\\ 0 \\end{pmatrix} & \\pmb{Y_3} = \\begin{pmatrix} 0\\end{pmatrix} \\\\\n",
    "\\pmb{X_4} = \\begin{pmatrix} 1 \\\\ 1 \\end{pmatrix} & \\pmb{Y_4} = \\begin{pmatrix} 1 \\end{pmatrix}\n",
    "\\end{split}$$\n",
    "\n",
    "Para hacerlo con nuestro código, no tenemos más que entrenar al perceptrón con las nuevas matrices:"
   ]
  },
  {
   "cell_type": "code",
   "execution_count": 89,
   "id": "a779b809-7252-49a6-a9a9-0c2d6a4a0ef1",
   "metadata": {},
   "outputs": [
    {
     "data": {
      "image/png": "[encoded data removed]",
      "text/plain": [
       "<Figure size 800x300 with 2 Axes>"
      ]
     },
     "metadata": {},
     "output_type": "display_data"
    },
    {
     "name": "stdout",
     "output_type": "stream",
     "text": [
      "[[1]]\n"
     ]
    }
   ],
   "source": [
    "X = np.array([[0, 0, 1, 1], \n",
    "              [0, 1, 0, 1]])\n",
    "Y = np.array([[0, 0, 0, 1]])\n",
    "f = perceptron_simple(X, Y, alpha=0.5)\n",
    "print(f(np.array([[1], [1]])))"
   ]
  },
  {
   "cell_type": "markdown",
   "id": "f3147778-05e7-468a-8608-3bf18768b03d",
   "metadata": {},
   "source": [
    "### Compuerta XOR\n",
    "\n",
    "Veamos ahora la compuerta XOR. Esta compuerta, también conocida como compuerta OR exclusiva, detecta cuando una entrada esta activa, pero no la otra. Para resolver este caso, los vectores de entrenamiento y de salida esperada pueden ser:\n",
    "\n",
    "$$\\begin{split}\n",
    "\\pmb{X_1} = \\begin{pmatrix} 0 \\\\ 0 \\end{pmatrix} & \\pmb{Y_1} = \\begin{pmatrix} 0 \\end{pmatrix} \\\\\n",
    "\\pmb{X_2} = \\begin{pmatrix} 0 \\\\ 1 \\end{pmatrix} & \\pmb{Y_2} = \\begin{pmatrix} 1 \\end{pmatrix} \\\\\n",
    "\\pmb{X_3} = \\begin{pmatrix} 1 \\\\ 0 \\end{pmatrix} & \\pmb{Y_3} = \\begin{pmatrix} 1 \\end{pmatrix} \\\\\n",
    "\\pmb{X_3} = \\begin{pmatrix} 1 \\\\ 1 \\end{pmatrix} & \\pmb{Y_4} = \\begin{pmatrix} 0 \\end{pmatrix}\n",
    "\\end{split}$$\n",
    "\n",
    "Este problema de apariencia inocente es difícil porque no es linealmente separable. Si ponemos las cuatro posibles entradas en un plano, no hay ninguna línea recta que separe los casos que tienen que dar 1 de los casos que tienen que dar 0. \n",
    "Vamos a comparar a una red de 2 entradas y una salida que entrenamos con la regla delta y a una red que como la presentada más arriba, además de las 2 entradas y la salida tiene dos unidades en la capa oculta.\n",
    "\n",
    "*Ejercicio: Entrenar al perceptrón con estos vectores de entrenamiento y de salida esperados.*"
   ]
  },
  {
   "cell_type": "code",
   "execution_count": 91,
   "id": "606db687-172e-4e28-8849-d48037e3d647",
   "metadata": {},
   "outputs": [
    {
     "data": {
      "image/png": "[encoded data removed]",
      "text/plain": [
       "<Figure size 800x300 with 2 Axes>"
      ]
     },
     "metadata": {},
     "output_type": "display_data"
    },
    {
     "data": {
      "text/plain": [
       "<function __main__.perceptron_simple.<locals>.<lambda>(X)>"
      ]
     },
     "execution_count": 91,
     "metadata": {},
     "output_type": "execute_result"
    }
   ],
   "source": [
    "# Entrenamos al perceptrón para la funcion XOR\n",
    "perceptron_simple(X=np.array([[0, 0, 1, 1], [0, 1, 0, 1]]), Y=np.array([[0, 1, 1, 0]]))"
   ]
  },
  {
   "cell_type": "markdown",
   "id": "2277bed6-413b-4055-b040-7534562379f5",
   "metadata": {},
   "source": [
    "Resulta que no es posible construir un perceptrón que compute la operación lógica XOR. Minsky y Papert (1969) demostraron varios teoremas sobre los perceptrones de una sola capa, algunos de los cuales indicaron sus limitadas capacidades de clasificación de patrones y aproximación de funciones. Por ejemplo, demostraron que el perceptrón de una sola capa no podía implementar la función lógica de exclusión OR y varios otros predicados similares.\n",
    "\n",
    "La intuición detrás de este resultado importante se basa en entender que un perceptrón es un clasificador lineal. Para una entrada bidimensional $x_1$ y $x_2$, la ecuación del perceptrón\n",
    "\n",
    "$$w_1 \\times x_1 + w_2 \\times x_2 + b = 0$$\n",
    "\n",
    "es la ecuación de una línea.\n",
    "\n",
    "Esta línea actúa como un límite de decisión en un espacio bidimensional, donde la salida 0 se asigna a todas las entradas que se encuentran de un lado de la línea, y la salida 1 a todos los puntos de entrada que están del otro lado de la línea. Si tuviéramos más de 2 entradas, el límite de decisión se convertiría en un hiperplano en lugar de una línea, pero la idea es la misma: separar el espacio en dos categorías.\n",
    "\n",
    "Decimos que XOR no es una función linealmente separable. Por supuesto, podríamos dibujar un límite con una curva, o alguna otra función, pero no con una sola línea."
   ]
  },
  {
   "cell_type": "markdown",
   "id": "5a5d3535-f6b9-4b38-8d40-11cd1e9f7b0a",
   "metadata": {},
   "source": [
    "## Perceptrón multicapa\n",
    "\n",
    "Los resultados de Minsky y Papert no se aplicaban a los perceptrones multicapa. Paul Werbos presentó un procedimiento general convergente para ajustar de manera adaptativa los pesos de un sistema no lineal diferenciable, con el fin de aprender una relación funcional entre las entradas y salidas del sistema. El procedimiento calcula las derivadas de alguna función de las salidas, respecto a todas las entradas y pesos o parámetros del sistema, trabajando de atrás hacia adelante, desde las salidas a las entradas. Este algoritmo, conocido como retropropagación del error o simplemente retropropagación, ajusta de manera adaptativa los pesos para realizar una correcta clasificación de patrones utilizando descenso por gradiente y muestras de entrenamiento. Propaga las derivadas desde la capa de salida a través de cada capa intermedia de la red de perceptrones multicapa.\n",
    "\n",
    "El perceptrón multicapa agrega una capa oculta $h$ (por *hidden*) conformada por un número arbitrario de nodos y ubicados entre los nodos de entrada y salida del perceptrón. Los nodos de salida del perceptrón ya no estarán conectados directamente a los nodos de entrada, sino que recibirán como entrada el resultado de la capa oculta.\n",
    "\n",
    "El perceptrón multicapa tendra que aprender dos matrices de pesos, $\\pmb{W_h}$ y $\\pmb{W_r}$, y dos factores de sesgo $b_h$ y $b_r$, de forma tal que la salida del perceptrón, definida como:\n",
    "\n",
    "$$\\text{\\~{y}} = r = \\sigma(W_r \\cdot \\sigma(W_h \\cdot X + b_h) + b_r)$$\n",
    "\n",
    "se aproxime cada vez más a la salida esperada."
   ]
  },
  {
   "cell_type": "code",
   "execution_count": 32,
   "id": "4934f3fd-1ada-4b13-84fe-36e37fe1224a",
   "metadata": {},
   "outputs": [
    {
     "data": {
      "application/vnd.jupyter.widget-view+json": {
       "model_id": "6785f7ac1eb142868ef6c41fa0a9caed",
       "version_major": 2,
       "version_minor": 0
      },
      "text/plain": [
       "interactive(children=(IntSlider(value=4, description='nodos_capa_oculta', max=8, min=1), FloatSlider(value=0.5…"
      ]
     },
     "metadata": {},
     "output_type": "display_data"
    }
   ],
   "source": [
    "# Definimos la funcion que entrena un conjunto de datos de entrada y salida y grafica el error cometido\n",
    "# en cada salto de tiempo.\n",
    "# X: Las entradas del conjunto de entrenamiento\n",
    "# Y: Las salidas esperadas del conjunto de entrenamiento\n",
    "# nodos_capa_oculta: Cantidad de nodos en la capa oculta\n",
    "# tmax: Tiempo máximo que queremos entrenar\n",
    "# alpha: Constante de aprendizaje\n",
    "def perceptron_multicapa(X, Y, nodos_capa_oculta=4, alpha=0.5):\n",
    "    # Definimos la cantidad de trials que vamos a usar\n",
    "    tmax = 1000\n",
    "    t = np.arange(tmax)\n",
    "\n",
    "    # Iniciamos un array que va a guardar los errores en cada paso para poder graficarlos al final\n",
    "    # y observar como va aprendiendo el perceptrón en cada paso\n",
    "    errors = []\n",
    "\n",
    "    # Fijamos la semilla para reproducir siempre los mismos valores aleatorios\n",
    "    np.random.seed(1) \n",
    "\n",
    "    # Iniciamos la matriz con los pesos de la capa de salida en forma aleatoria\n",
    "    W_r = np.random.randn(Y.shape[0], nodos_capa_oculta)\n",
    "\n",
    "    # Iniciamos la matriz con los pesos de la capa oculta en forma aleatoria\n",
    "    W_h = np.random.randn(nodos_capa_oculta, X.shape[0])\n",
    "\n",
    "    # Iniciamos los términos de sesgo para la capta de salida y la capa oculta con números aleatorios\n",
    "    b_r = np.random.uniform(-1, 1)\n",
    "    b_h = np.random.uniform(-1, 1)\n",
    "\n",
    "    for step in t:       \n",
    "        h = y(X, W_h, b_h)\n",
    "        a_h = g(h)\n",
    "        \n",
    "        z = y(a_h, W_r, b_r)\n",
    "        a_r = g(z)\n",
    "        \n",
    "        r = a_r\n",
    "\n",
    "        error = loss(Y, r)\n",
    "        \n",
    "        delta_r = error * dg(a_r)\n",
    "        delta_h = W_r.T.dot(delta_r) * dg(a_h)\n",
    "        \n",
    "        W_h = W_h + alpha * delta_h.dot(X.T)\n",
    "        W_r = W_r + alpha * delta_r.dot(a_h.T)\n",
    "        \n",
    "        b_r = b_r + alpha * delta_r.sum()\n",
    "        b_h = b_h + alpha * delta_h.sum()\n",
    "\n",
    "        errors = np.append(errors, np.sum(np.pow(error, 2)))\n",
    "\n",
    "    # Graficamos el error\n",
    "    plt.plot(t, errors)\n",
    "    plt.ylim(-2, 2)\n",
    "    plt.hlines(y=0, xmin=0, xmax=tmax, color='r', linestyles='--')\n",
    "    plt.show()\n",
    "\n",
    "    return (W_h, b_h, W_r, b_r)\n",
    "\n",
    "# Entrenamos al perceptrón para la funcion OR, tm\n",
    "@widgets.interact(nodos_capa_oculta=(1, 8), alpha=(0, 2, 0.1))\n",
    "def simulate(nodos_capa_oculta=4, alpha=0.5):\n",
    "    X = np.array([[0, 0, 1, 1], [0, 1, 0, 1]])\n",
    "    Y = np.array([[0, 1, 1, 0]])\n",
    "    W_h, b_h, W_r, b_r = perceptron_multicapa(X, Y, nodos_capa_oculta, alpha)"
   ]
  },
  {
   "cell_type": "markdown",
   "id": "963e852b-3c86-4f0f-922b-8136bff9b8c6",
   "metadata": {},
   "source": [
    "Imprimimos los pesos y factores de sesgo resultantes para la capa oculta y la capa de salida:"
   ]
  },
  {
   "cell_type": "code",
   "execution_count": 11,
   "id": "a6803523-4dcb-4d03-93e4-bfea499a5626",
   "metadata": {},
   "outputs": [
    {
     "name": "stdout",
     "output_type": "stream",
     "text": [
      "W_h: [[-6.30384715 -6.69001441]\n",
      " [-3.65971188  3.28922817]\n",
      " [-2.63066635 -2.06652631]\n",
      " [-3.10334784 -1.8273012 ]]\n",
      "b_h: 3.4506193921882886\n",
      "W_r: [[-8.35152148 -4.59618867  3.67765522  6.58543586]]\n",
      "b_r: -0.5932244456876655\n"
     ]
    }
   ],
   "source": [
    "print(f\"W_h: {W_h}\")\n",
    "print(f\"b_h: {b_h}\")\n",
    "print(f\"W_r: {W_r}\")\n",
    "print(f\"b_r: {b_r}\")"
   ]
  },
  {
   "cell_type": "markdown",
   "id": "eda56789-dd4b-49e7-98a3-db2a353f7011",
   "metadata": {},
   "source": [
    "Ejercitamos la red aprendida con un conjunto de entradas:"
   ]
  },
  {
   "cell_type": "code",
   "execution_count": 12,
   "id": "97256aff-a5ae-4e89-8c9e-b8d39a6c159a",
   "metadata": {},
   "outputs": [
    {
     "name": "stdout",
     "output_type": "stream",
     "text": [
      "[[1]]\n"
     ]
    }
   ],
   "source": [
    "print(np.where(g(y(g(y(np.array([[0], [1]]), W_h, b_h)), W_r, b_r)) < threshold, 0, 1))"
   ]
  },
  {
   "cell_type": "markdown",
   "id": "5312d7cf-4c81-4078-8f7d-261e9b917f54",
   "metadata": {},
   "source": [
    "*Ejercicio: Pruebe resolver el mismo conjunto de entrenamiento variando la cantidad de nodos en la capa oculta*"
   ]
  },
  {
   "cell_type": "code",
   "execution_count": null,
   "id": "570a08f1-9bdc-400f-823c-82d60a9a44d0",
   "metadata": {},
   "outputs": [],
   "source": []
  },
  {
   "cell_type": "markdown",
   "id": "6607cf90-4652-4ac4-8e5f-c0c6554ae65a",
   "metadata": {},
   "source": [
    "Se ha demostrado que las redes neuronales *feedforward* multicapa con un número suficiente de unidades ocultas entre las unidades de entrada y salida tienen una propiedad de aproximación universal: \"pueden aproximar prácticamente cualquier función de interés con el grado de precisión deseado\" (Hornik et al. 1989)."
   ]
  },
  {
   "cell_type": "markdown",
   "id": "b5f80eec-9b97-49f0-9de5-6b65603ba986",
   "metadata": {},
   "source": [
    "## MNIST Dataset"
   ]
  },
  {
   "cell_type": "code",
   "execution_count": 5,
   "id": "778db5e4-ece0-4e5f-969f-7d0675f92edf",
   "metadata": {},
   "outputs": [
    {
     "data": {
      "text/plain": [
       "array([[1., 0., 0., 0., 0., 0., 0., 0., 0., 0.],\n",
       "       [0., 1., 0., 0., 0., 0., 0., 0., 0., 0.],\n",
       "       [0., 0., 1., 0., 0., 0., 0., 0., 0., 0.],\n",
       "       [0., 0., 0., 1., 0., 0., 0., 0., 0., 0.],\n",
       "       [0., 0., 0., 0., 1., 0., 0., 0., 0., 0.],\n",
       "       [0., 0., 0., 0., 0., 1., 0., 0., 0., 0.],\n",
       "       [0., 0., 0., 0., 0., 0., 1., 0., 0., 0.],\n",
       "       [0., 0., 0., 0., 0., 0., 0., 1., 0., 0.],\n",
       "       [0., 0., 0., 0., 0., 0., 0., 0., 1., 0.],\n",
       "       [0., 0., 0., 0., 0., 0., 0., 0., 0., 1.]])"
      ]
     },
     "execution_count": 5,
     "metadata": {},
     "output_type": "execute_result"
    }
   ],
   "source": [
    "# !pip install scikit-learn\n",
    "from sklearn.datasets import fetch_openml\n",
    "mnist = fetch_openml('mnist_784', version=1)\n",
    "digits = np.eye(10)\n",
    "X = np.array(mnist.data / 255.0)\n",
    "Y = np.array([digits[y] for y in mnist.target.astype(int)])\n",
    "digits"
   ]
  },
  {
   "cell_type": "code",
   "execution_count": 6,
   "id": "2897dd77-2de6-4a45-a6cf-d380c8dd6c2e",
   "metadata": {},
   "outputs": [
    {
     "data": {
      "text/plain": [
       "array([[0., 0., 0., ..., 0., 0., 0.],\n",
       "       [0., 0., 0., ..., 0., 0., 0.],\n",
       "       [0., 0., 0., ..., 0., 0., 0.],\n",
       "       ...,\n",
       "       [0., 0., 0., ..., 0., 0., 0.],\n",
       "       [0., 0., 0., ..., 0., 0., 0.],\n",
       "       [0., 0., 0., ..., 0., 0., 0.]])"
      ]
     },
     "execution_count": 6,
     "metadata": {},
     "output_type": "execute_result"
    }
   ],
   "source": [
    "X"
   ]
  },
  {
   "cell_type": "code",
   "execution_count": 15,
   "id": "a44a6478-c2e5-459f-9e6a-80caa8ca5379",
   "metadata": {},
   "outputs": [
    {
     "data": {
      "text/plain": [
       "array([0.        , 0.        , 0.        , 0.        , 0.        ,\n",
       "       0.        , 0.        , 0.        , 0.        , 0.        ,\n",
       "       0.        , 0.        , 0.        , 0.        , 0.        ,\n",
       "       0.        , 0.        , 0.        , 0.        , 0.        ,\n",
       "       0.        , 0.        , 0.        , 0.        , 0.        ,\n",
       "       0.        , 0.        , 0.        , 0.        , 0.        ,\n",
       "       0.        , 0.        , 0.        , 0.        , 0.        ,\n",
       "       0.        , 0.        , 0.        , 0.        , 0.        ,\n",
       "       0.        , 0.        , 0.        , 0.        , 0.        ,\n",
       "       0.        , 0.        , 0.        , 0.        , 0.        ,\n",
       "       0.        , 0.        , 0.        , 0.        , 0.        ,\n",
       "       0.        , 0.        , 0.        , 0.        , 0.        ,\n",
       "       0.        , 0.        , 0.        , 0.        , 0.        ,\n",
       "       0.        , 0.        , 0.        , 0.        , 0.        ,\n",
       "       0.        , 0.        , 0.        , 0.        , 0.        ,\n",
       "       0.        , 0.        , 0.        , 0.        , 0.        ,\n",
       "       0.        , 0.        , 0.        , 0.        , 0.        ,\n",
       "       0.        , 0.        , 0.        , 0.        , 0.        ,\n",
       "       0.        , 0.        , 0.        , 0.        , 0.        ,\n",
       "       0.        , 0.        , 0.        , 0.        , 0.        ,\n",
       "       0.        , 0.        , 0.        , 0.        , 0.        ,\n",
       "       0.        , 0.        , 0.        , 0.        , 0.        ,\n",
       "       0.        , 0.        , 0.        , 0.        , 0.        ,\n",
       "       0.        , 0.        , 0.        , 0.        , 0.        ,\n",
       "       0.        , 0.        , 0.        , 0.        , 0.        ,\n",
       "       0.        , 0.        , 0.        , 0.        , 0.        ,\n",
       "       0.        , 0.        , 0.        , 0.        , 0.        ,\n",
       "       0.        , 0.        , 0.        , 0.        , 0.        ,\n",
       "       0.        , 0.        , 0.        , 0.        , 0.        ,\n",
       "       0.        , 0.        , 0.        , 0.        , 0.        ,\n",
       "       0.        , 0.        , 0.01176471, 0.07058824, 0.07058824,\n",
       "       0.07058824, 0.49411765, 0.53333333, 0.68627451, 0.10196078,\n",
       "       0.65098039, 1.        , 0.96862745, 0.49803922, 0.        ,\n",
       "       0.        , 0.        , 0.        , 0.        , 0.        ,\n",
       "       0.        , 0.        , 0.        , 0.        , 0.        ,\n",
       "       0.        , 0.11764706, 0.14117647, 0.36862745, 0.60392157,\n",
       "       0.66666667, 0.99215686, 0.99215686, 0.99215686, 0.99215686,\n",
       "       0.99215686, 0.88235294, 0.6745098 , 0.99215686, 0.94901961,\n",
       "       0.76470588, 0.25098039, 0.        , 0.        , 0.        ,\n",
       "       0.        , 0.        , 0.        , 0.        , 0.        ,\n",
       "       0.        , 0.        , 0.        , 0.19215686, 0.93333333,\n",
       "       0.99215686, 0.99215686, 0.99215686, 0.99215686, 0.99215686,\n",
       "       0.99215686, 0.99215686, 0.99215686, 0.98431373, 0.36470588,\n",
       "       0.32156863, 0.32156863, 0.21960784, 0.15294118, 0.        ,\n",
       "       0.        , 0.        , 0.        , 0.        , 0.        ,\n",
       "       0.        , 0.        , 0.        , 0.        , 0.        ,\n",
       "       0.        , 0.07058824, 0.85882353, 0.99215686, 0.99215686,\n",
       "       0.99215686, 0.99215686, 0.99215686, 0.77647059, 0.71372549,\n",
       "       0.96862745, 0.94509804, 0.        , 0.        , 0.        ,\n",
       "       0.        , 0.        , 0.        , 0.        , 0.        ,\n",
       "       0.        , 0.        , 0.        , 0.        , 0.        ,\n",
       "       0.        , 0.        , 0.        , 0.        , 0.        ,\n",
       "       0.31372549, 0.61176471, 0.41960784, 0.99215686, 0.99215686,\n",
       "       0.80392157, 0.04313725, 0.        , 0.16862745, 0.60392157,\n",
       "       0.        , 0.        , 0.        , 0.        , 0.        ,\n",
       "       0.        , 0.        , 0.        , 0.        , 0.        ,\n",
       "       0.        , 0.        , 0.        , 0.        , 0.        ,\n",
       "       0.        , 0.        , 0.        , 0.        , 0.05490196,\n",
       "       0.00392157, 0.60392157, 0.99215686, 0.35294118, 0.        ,\n",
       "       0.        , 0.        , 0.        , 0.        , 0.        ,\n",
       "       0.        , 0.        , 0.        , 0.        , 0.        ,\n",
       "       0.        , 0.        , 0.        , 0.        , 0.        ,\n",
       "       0.        , 0.        , 0.        , 0.        , 0.        ,\n",
       "       0.        , 0.        , 0.        , 0.        , 0.54509804,\n",
       "       0.99215686, 0.74509804, 0.00784314, 0.        , 0.        ,\n",
       "       0.        , 0.        , 0.        , 0.        , 0.        ,\n",
       "       0.        , 0.        , 0.        , 0.        , 0.        ,\n",
       "       0.        , 0.        , 0.        , 0.        , 0.        ,\n",
       "       0.        , 0.        , 0.        , 0.        , 0.        ,\n",
       "       0.        , 0.        , 0.04313725, 0.74509804, 0.99215686,\n",
       "       0.2745098 , 0.        , 0.        , 0.        , 0.        ,\n",
       "       0.        , 0.        , 0.        , 0.        , 0.        ,\n",
       "       0.        , 0.        , 0.        , 0.        , 0.        ,\n",
       "       0.        , 0.        , 0.        , 0.        , 0.        ,\n",
       "       0.        , 0.        , 0.        , 0.        , 0.        ,\n",
       "       0.        , 0.1372549 , 0.94509804, 0.88235294, 0.62745098,\n",
       "       0.42352941, 0.00392157, 0.        , 0.        , 0.        ,\n",
       "       0.        , 0.        , 0.        , 0.        , 0.        ,\n",
       "       0.        , 0.        , 0.        , 0.        , 0.        ,\n",
       "       0.        , 0.        , 0.        , 0.        , 0.        ,\n",
       "       0.        , 0.        , 0.        , 0.        , 0.        ,\n",
       "       0.31764706, 0.94117647, 0.99215686, 0.99215686, 0.46666667,\n",
       "       0.09803922, 0.        , 0.        , 0.        , 0.        ,\n",
       "       0.        , 0.        , 0.        , 0.        , 0.        ,\n",
       "       0.        , 0.        , 0.        , 0.        , 0.        ,\n",
       "       0.        , 0.        , 0.        , 0.        , 0.        ,\n",
       "       0.        , 0.        , 0.        , 0.        , 0.17647059,\n",
       "       0.72941176, 0.99215686, 0.99215686, 0.58823529, 0.10588235,\n",
       "       0.        , 0.        , 0.        , 0.        , 0.        ,\n",
       "       0.        , 0.        , 0.        , 0.        , 0.        ,\n",
       "       0.        , 0.        , 0.        , 0.        , 0.        ,\n",
       "       0.        , 0.        , 0.        , 0.        , 0.        ,\n",
       "       0.        , 0.        , 0.        , 0.0627451 , 0.36470588,\n",
       "       0.98823529, 0.99215686, 0.73333333, 0.        , 0.        ,\n",
       "       0.        , 0.        , 0.        , 0.        , 0.        ,\n",
       "       0.        , 0.        , 0.        , 0.        , 0.        ,\n",
       "       0.        , 0.        , 0.        , 0.        , 0.        ,\n",
       "       0.        , 0.        , 0.        , 0.        , 0.        ,\n",
       "       0.        , 0.        , 0.        , 0.97647059, 0.99215686,\n",
       "       0.97647059, 0.25098039, 0.        , 0.        , 0.        ,\n",
       "       0.        , 0.        , 0.        , 0.        , 0.        ,\n",
       "       0.        , 0.        , 0.        , 0.        , 0.        ,\n",
       "       0.        , 0.        , 0.        , 0.        , 0.        ,\n",
       "       0.        , 0.        , 0.        , 0.18039216, 0.50980392,\n",
       "       0.71764706, 0.99215686, 0.99215686, 0.81176471, 0.00784314,\n",
       "       0.        , 0.        , 0.        , 0.        , 0.        ,\n",
       "       0.        , 0.        , 0.        , 0.        , 0.        ,\n",
       "       0.        , 0.        , 0.        , 0.        , 0.        ,\n",
       "       0.        , 0.        , 0.        , 0.        , 0.15294118,\n",
       "       0.58039216, 0.89803922, 0.99215686, 0.99215686, 0.99215686,\n",
       "       0.98039216, 0.71372549, 0.        , 0.        , 0.        ,\n",
       "       0.        , 0.        , 0.        , 0.        , 0.        ,\n",
       "       0.        , 0.        , 0.        , 0.        , 0.        ,\n",
       "       0.        , 0.        , 0.        , 0.        , 0.        ,\n",
       "       0.09411765, 0.44705882, 0.86666667, 0.99215686, 0.99215686,\n",
       "       0.99215686, 0.99215686, 0.78823529, 0.30588235, 0.        ,\n",
       "       0.        , 0.        , 0.        , 0.        , 0.        ,\n",
       "       0.        , 0.        , 0.        , 0.        , 0.        ,\n",
       "       0.        , 0.        , 0.        , 0.        , 0.        ,\n",
       "       0.        , 0.09019608, 0.25882353, 0.83529412, 0.99215686,\n",
       "       0.99215686, 0.99215686, 0.99215686, 0.77647059, 0.31764706,\n",
       "       0.00784314, 0.        , 0.        , 0.        , 0.        ,\n",
       "       0.        , 0.        , 0.        , 0.        , 0.        ,\n",
       "       0.        , 0.        , 0.        , 0.        , 0.        ,\n",
       "       0.        , 0.        , 0.07058824, 0.67058824, 0.85882353,\n",
       "       0.99215686, 0.99215686, 0.99215686, 0.99215686, 0.76470588,\n",
       "       0.31372549, 0.03529412, 0.        , 0.        , 0.        ,\n",
       "       0.        , 0.        , 0.        , 0.        , 0.        ,\n",
       "       0.        , 0.        , 0.        , 0.        , 0.        ,\n",
       "       0.        , 0.        , 0.        , 0.21568627, 0.6745098 ,\n",
       "       0.88627451, 0.99215686, 0.99215686, 0.99215686, 0.99215686,\n",
       "       0.95686275, 0.52156863, 0.04313725, 0.        , 0.        ,\n",
       "       0.        , 0.        , 0.        , 0.        , 0.        ,\n",
       "       0.        , 0.        , 0.        , 0.        , 0.        ,\n",
       "       0.        , 0.        , 0.        , 0.        , 0.        ,\n",
       "       0.        , 0.53333333, 0.99215686, 0.99215686, 0.99215686,\n",
       "       0.83137255, 0.52941176, 0.51764706, 0.0627451 , 0.        ,\n",
       "       0.        , 0.        , 0.        , 0.        , 0.        ,\n",
       "       0.        , 0.        , 0.        , 0.        , 0.        ,\n",
       "       0.        , 0.        , 0.        , 0.        , 0.        ,\n",
       "       0.        , 0.        , 0.        , 0.        , 0.        ,\n",
       "       0.        , 0.        , 0.        , 0.        , 0.        ,\n",
       "       0.        , 0.        , 0.        , 0.        , 0.        ,\n",
       "       0.        , 0.        , 0.        , 0.        , 0.        ,\n",
       "       0.        , 0.        , 0.        , 0.        , 0.        ,\n",
       "       0.        , 0.        , 0.        , 0.        , 0.        ,\n",
       "       0.        , 0.        , 0.        , 0.        , 0.        ,\n",
       "       0.        , 0.        , 0.        , 0.        , 0.        ,\n",
       "       0.        , 0.        , 0.        , 0.        , 0.        ,\n",
       "       0.        , 0.        , 0.        , 0.        , 0.        ,\n",
       "       0.        , 0.        , 0.        , 0.        , 0.        ,\n",
       "       0.        , 0.        , 0.        , 0.        , 0.        ,\n",
       "       0.        , 0.        , 0.        , 0.        , 0.        ,\n",
       "       0.        , 0.        , 0.        , 0.        , 0.        ,\n",
       "       0.        , 0.        , 0.        , 0.        , 0.        ,\n",
       "       0.        , 0.        , 0.        , 0.        , 0.        ,\n",
       "       0.        , 0.        , 0.        , 0.        ])"
      ]
     },
     "execution_count": 15,
     "metadata": {},
     "output_type": "execute_result"
    }
   ],
   "source": [
    "X[0]"
   ]
  },
  {
   "cell_type": "code",
   "execution_count": 104,
   "id": "26a30ce7-3195-44f8-b68d-d8f1d11830f6",
   "metadata": {},
   "outputs": [
    {
     "data": {
      "text/plain": [
       "<matplotlib.image.AxesImage at 0x72f800a155b0>"
      ]
     },
     "execution_count": 104,
     "metadata": {},
     "output_type": "execute_result"
    },
    {
     "data": {
      "image/png": "[encoded data removed]",
      "text/plain": [
       "<Figure size 480x480 with 1 Axes>"
      ]
     },
     "metadata": {},
     "output_type": "display_data"
    }
   ],
   "source": [
    "plt.matshow(X[2].reshape(28, 28), cmap='gray')"
   ]
  },
  {
   "cell_type": "code",
   "execution_count": 17,
   "id": "c32d3787-7cde-4585-a635-57842fccd080",
   "metadata": {},
   "outputs": [
    {
     "data": {
      "text/plain": [
       "array([[0., 0., 0., ..., 0., 0., 0.],\n",
       "       [1., 0., 0., ..., 0., 0., 0.],\n",
       "       [0., 0., 0., ..., 0., 0., 0.],\n",
       "       ...,\n",
       "       [0., 0., 0., ..., 0., 0., 0.],\n",
       "       [0., 0., 0., ..., 0., 0., 0.],\n",
       "       [0., 0., 0., ..., 0., 0., 0.]])"
      ]
     },
     "execution_count": 17,
     "metadata": {},
     "output_type": "execute_result"
    }
   ],
   "source": [
    "Y"
   ]
  },
  {
   "cell_type": "code",
   "execution_count": 18,
   "id": "397a2178-2180-429e-8bd0-5ac48c772990",
   "metadata": {},
   "outputs": [
    {
     "data": {
      "text/plain": [
       "array([0., 0., 0., 0., 0., 1., 0., 0., 0., 0.])"
      ]
     },
     "execution_count": 18,
     "metadata": {},
     "output_type": "execute_result"
    }
   ],
   "source": [
    "Y[0]"
   ]
  },
  {
   "cell_type": "markdown",
   "id": "014a8185-3ed4-461b-9e7d-4314db54b091",
   "metadata": {},
   "source": [
    "*Ejercicio: Vea como luce el dígito en la posicion 4 y que valor deberia tener según nuestro dataset*"
   ]
  },
  {
   "cell_type": "code",
   "execution_count": null,
   "id": "68075164-3ca0-43c6-9fa1-caabaa97cb46",
   "metadata": {},
   "outputs": [],
   "source": []
  },
  {
   "cell_type": "code",
   "execution_count": 19,
   "id": "3a44b06b-e03c-4f94-8229-0250b518643b",
   "metadata": {},
   "outputs": [
    {
     "data": {
      "text/plain": [
       "(70000, 784)"
      ]
     },
     "execution_count": 19,
     "metadata": {},
     "output_type": "execute_result"
    }
   ],
   "source": [
    "X.shape"
   ]
  },
  {
   "cell_type": "code",
   "execution_count": 20,
   "id": "e7307f34-fda3-49b9-8677-7c8a19c421ff",
   "metadata": {},
   "outputs": [
    {
     "data": {
      "text/plain": [
       "(70000, 10)"
      ]
     },
     "execution_count": 20,
     "metadata": {},
     "output_type": "execute_result"
    }
   ],
   "source": [
    "Y.shape"
   ]
  },
  {
   "cell_type": "code",
   "execution_count": 18,
   "id": "8328c74b-d97c-4384-836f-36b7218e0b22",
   "metadata": {},
   "outputs": [
    {
     "data": {
      "image/png": "[encoded data removed]",
      "text/plain": [
       "<Figure size 640x480 with 1 Axes>"
      ]
     },
     "metadata": {},
     "output_type": "display_data"
    }
   ],
   "source": [
    "import scipy\n",
    "\n",
    "# Redefinimos la función de activación para que no falle para valores muy chicos o muy grandes\n",
    "def g(y):\n",
    "    return 1 / (1 + np.exp(-y))\n",
    "    #return scipy.special.expit(y)\n",
    "\n",
    "# Definimos la funcion que entrena un conjunto de datos de entrada y salida y grafica el error cometido\n",
    "# en cada salto de tiempo.\n",
    "# X: Las entradas del conjunto de entrenamiento\n",
    "# Y: Las salidas esperadas del conjunto de entrenamiento\n",
    "# nodos_capa_oculta: Cantidad de nodos en la capa oculta\n",
    "# tmax: Tiempo máximo que queremos entrenar\n",
    "# alpha: Constante de aprendizaje\n",
    "def perceptron_multicapa(X, Y, nodos_capa_oculta=4, tmax=2000, alpha=0.5):\n",
    "    # Definimos la cantidad de trials que vamos a usar\n",
    "    t = np.arange(tmax)\n",
    "\n",
    "    # Iniciamos un array que va a guardar los errores en cada paso para poder graficarlos al final\n",
    "    # y observar como va aprendiendo el perceptrón en cada paso\n",
    "    errors = []\n",
    "\n",
    "    # Iniciamos la matriz con los pesos de la capa de salida en forma aleatoria\n",
    "    W_r = np.random.randn(Y.shape[0], nodos_capa_oculta)\n",
    "\n",
    "    # Iniciamos la matriz con los pesos de la capa oculta en forma aleatoria\n",
    "    W_h = np.random.randn(nodos_capa_oculta, X.shape[0])\n",
    "\n",
    "    # Iniciamos los términos de sesgo para la capta de salida y la capa oculta con números aleatorios\n",
    "    b_r = np.random.uniform(-1, 1)\n",
    "    b_h = np.random.uniform(-1, 1)\n",
    "\n",
    "    for step in t:\n",
    "        for batch in range (70):\n",
    "            Xtrain=X[:,batch*100:(batch+1)*100]\n",
    "            Ytrain=Y[:,batch*100:(batch+1)*100]\n",
    "\n",
    "            h = y(Xtrain, W_h, b_h)\n",
    "            a_h = g(h)\n",
    "            \n",
    "            z = y(a_h, W_r, b_r)\n",
    "            a_r = g(z)\n",
    "            \n",
    "            r = a_r\n",
    "    \n",
    "            error = loss(Ytrain, r)\n",
    "            \n",
    "            delta_r = error * dg(a_r)\n",
    "            delta_h = W_r.T.dot(delta_r) * dg(a_h)\n",
    "            \n",
    "            W_h = W_h + alpha * delta_h.dot(Xtrain.T)\n",
    "            W_r = W_r + alpha * delta_r.dot(a_h.T)\n",
    "            \n",
    "            b_r = b_r + alpha * delta_r.sum()\n",
    "            b_h = b_h + alpha * delta_h.sum()\n",
    "    \n",
    "        errors = np.append(errors, np.sum(np.pow(error, 2)))\n",
    "\n",
    "    # Graficamos el error\n",
    "    plt.plot(t, errors)\n",
    "    \n",
    "    plt.hlines(y=0, xmin=0, xmax=tmax, color='r', linestyles='--')\n",
    "\n",
    "    return (W_h, b_h, W_r, b_r)\n",
    "\n",
    "# Entrenamos al perceptrón para la funcion OR, tm\n",
    "W_h, b_h, W_r, b_r = perceptron_multicapa(X.T, Y.T, nodos_capa_oculta=128, tmax=100, alpha=0.01)"
   ]
  },
  {
   "cell_type": "code",
   "execution_count": 19,
   "id": "8af23a11-38b3-4fb9-8178-d3d70adbf5ec",
   "metadata": {},
   "outputs": [
    {
     "name": "stdout",
     "output_type": "stream",
     "text": [
      "[[0]\n",
      " [0]\n",
      " [0]\n",
      " [0]\n",
      " [1]\n",
      " [0]\n",
      " [0]\n",
      " [0]\n",
      " [0]\n",
      " [0]]\n"
     ]
    }
   ],
   "source": [
    "r = g(y(g(y(np.array([X[2]]).T, W_h, b_h)), W_r, b_r))\n",
    "print(np.where(r==np.max(r), 1, 0))\n"
   ]
  },
  {
   "cell_type": "code",
   "execution_count": 20,
   "id": "122109ce-636c-4c73-92b9-c604a4c6dda4",
   "metadata": {},
   "outputs": [
    {
     "data": {
      "text/plain": [
       "<matplotlib.image.AxesImage at 0x792ef8ac16a0>"
      ]
     },
     "execution_count": 20,
     "metadata": {},
     "output_type": "execute_result"
    },
    {
     "data": {
      "image/png": "[encoded data removed]",
      "text/plain": [
       "<Figure size 480x480 with 1 Axes>"
      ]
     },
     "metadata": {},
     "output_type": "display_data"
    }
   ],
   "source": [
    "plt.matshow(X[2].reshape(28, 28), cmap='gray')"
   ]
  }
 ],
 "metadata": {
  "kernelspec": {
   "display_name": "Python 3 (ipykernel)",
   "language": "python",
   "name": "python3"
  },
  "language_info": {
   "codemirror_mode": {
    "name": "ipython",
    "version": 3
   },
   "file_extension": ".py",
   "mimetype": "text/x-python",
   "name": "python",
   "nbconvert_exporter": "python",
   "pygments_lexer": "ipython3",
   "version": "3.10.18"
  }
 },
 "nbformat": 4,
 "nbformat_minor": 5
}
