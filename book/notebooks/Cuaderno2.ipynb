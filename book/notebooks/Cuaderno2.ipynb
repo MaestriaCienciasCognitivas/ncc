{
 "cells": [
  {
   "cell_type": "markdown",
   "id": "0d0ff5c9",
   "metadata": {
    "id": "-Ze6rn2hUwUN"
   },
   "source": [
    "# Cuaderno 2: NumPy y Matplotlib\n",
    "\n",
    "Este cuaderno es el segundo de dos cuadernos introductorios al lenguaje de programación Python.\n",
    "\n",
    "En el tutorial anterior vimos algunos aspectos básicos de la programación en Python, como los diferentes tipos de datos que se puede manejar, en qué tipo de contenedores podemos almacenarlos y operaciones básicas sobre los mismos.\n",
    "\n",
    "En este cuaderno veremos algunas bibliotecas base de Python, como lo son [NumPy](https://numpy.org/) y [Matplotlib](https://matplotlib.org/).\n",
    "\n",
    "* Numpy permite manipular otros tipos de datos más complejos, como las matrices ([`ndarray`](https://numpy.org/doc/stable/reference/arrays.html)).\n",
    "* Matplotlib es una librería que cuenta con funciones para graficar nuestras secuencias de datos.\n",
    "\n",
    "Este cuaderno fue generado por Valentina Gascue para el Curso \"Redes Neuronales como modelos de Cognición\", tomando como referencia los cuadernos generados previamente en el curso Neurociencia Cognitiva y Computacional.\n",
    "\n",
    "**Sobre los paquetes en Python**\n",
    "\n",
    "En el cuaderno anterior aún no utilizamos ninguna librería de Python. Estas son conjuntos de código generadas por la comunidad que resuelven problemas comúnes que uno puede tener al programar en Python, a la vez que expanden las funcionalidades del mismo.\n",
    "\n",
    "Las librerías que presentaremos aquí son bloques esenciales en cualquier trabajo de redes neuronales (y de programacion en general) en Python.\n",
    "\n",
    "Al ser agregados a la base del lenguaje de programación debemos primero instalarlas y posteriormente cargarlas cuando las queramos usar. Al estar usando Google Colab, las librerias base de Python ya están instaladas pero por una guia sobre como instalar paquetes puede consultar esta [fuente](https://packaging.python.org/en/latest/tutorials/installing-packages/).\n",
    "\n",
    "En la siguiente celda importaremos las librerias a utilizar en este cuaderno, no olvide correr la celda para que queden cargadas."
   ]
  },
  {
   "cell_type": "code",
   "execution_count": null,
   "id": "9ea926ca",
   "metadata": {
    "id": "jJlOGFRUYopR"
   },
   "outputs": [],
   "source": [
    "import numpy as np\n",
    "import matplotlib.pyplot as plt"
   ]
  },
  {
   "cell_type": "markdown",
   "id": "b0cd9fbc",
   "metadata": {
    "id": "n96Xdp4UYoW3"
   },
   "source": [
    "La sintaxis allí utilizada se aplica para cualquier paquete.\n",
    "Notará que en los tres casos utilizamos `as` seguido de una abreviatura. Esto se conoce como *alias* y se usan ciertos alias convencionales para paquetes grandes como estos.\n",
    "\n",
    "Lo que permiten los alias es que cuando haya que hacer referencia en el código a ese paquete solo baste con usar el alias y no el nombre completo."
   ]
  },
  {
   "cell_type": "markdown",
   "id": "83ab0b14",
   "metadata": {
    "id": "kQ6crPWkWioJ"
   },
   "source": [
    "## [NumPy](https://numpy.org/)\n",
    "\n",
    "[NumPy](https://numpy.org/) es un paquete central en el desarrollo de funcionalidades en ciencia de datos y aplicaciones de redes neuronales. Su nombre surge como abreviatura de *Numerical Python* y es, de hecho, lo que brinda: funcionalidad para trabajar con datos numéricos de manera rápida y eficiente.\n",
    "\n",
    "El tipo de datos que brinda NumPy son los objetos de tipo [`ndarray`](https://numpy.org/doc/stable/reference/arrays.html), que se pueden manipular matematicamente de la misma manera que las matrices."
   ]
  },
  {
   "cell_type": "markdown",
   "id": "18219e10",
   "metadata": {
    "id": "kxqqM4sxthEL"
   },
   "source": [
    "### Generación de matrices en NumPy\n",
    "\n",
    "Hay muchas formas de generar matrices, aquí discutiremos algunas básicas.\n",
    "\n",
    "Se puede iniciar una numpy array vacia o llena de ceros o unos con las siguientes funciones:\n",
    "\n",
    "*Matriz vacía*:\n",
    "\n",
    "```\n",
    "np.empty(dimensión)\n",
    "```\n",
    "\n",
    "A la función [`empty()`](https://numpy.org/doc/stable/reference/generated/numpy.empty.html) se le debe dar como argumento las dimensiones de la matriz que queremos que genere, por ejemplo: `(2, 1)` generará una matriz vacia de dos filas y 1 columna:"
   ]
  },
  {
   "cell_type": "code",
   "execution_count": null,
   "id": "eb2d954b-4b80-4fbc-9512-e4676f0b772e",
   "metadata": {},
   "outputs": [],
   "source": [
    "array = np.empty((2, 1))\n",
    "print(array)"
   ]
  },
  {
   "cell_type": "markdown",
   "id": "cb73afe3",
   "metadata": {
    "id": "7NuVeZnRuXzB"
   },
   "source": [
    "De forma análoga a la [`ndarray`](https://numpy.org/doc/stable/reference/arrays.html) vacía, se pueden generar [`ndarrays`](https://numpy.org/doc/stable/reference/arrays.html) rellenas con ceros o unos."
   ]
  },
  {
   "cell_type": "markdown",
   "id": "6e91dd1c-f396-4fb8-a343-48f5577f1a00",
   "metadata": {},
   "source": [
    "*Matriz de ceros*:"
   ]
  },
  {
   "cell_type": "code",
   "execution_count": null,
   "id": "449ee1a0-c1d2-4b27-9022-2d534f043482",
   "metadata": {},
   "outputs": [],
   "source": [
    "array = np.zeros((2, 1))\n",
    "print(array)"
   ]
  },
  {
   "cell_type": "markdown",
   "id": "c41718d3-2e1d-453a-882f-1f9e86d32421",
   "metadata": {},
   "source": [
    "*Matriz de unos*:"
   ]
  },
  {
   "cell_type": "code",
   "execution_count": null,
   "id": "e8c330b0-f5e8-46d0-84fc-8c9f00c97dc3",
   "metadata": {},
   "outputs": [],
   "source": [
    "array = np.ones((2, 1))\n",
    "print(array)"
   ]
  },
  {
   "cell_type": "markdown",
   "id": "e84e2ea9",
   "metadata": {
    "id": "hFzr-rgUx_WQ"
   },
   "source": [
    "Por último, podemos generar matrices a partir de listas usando la función [`np.array()`](https://numpy.org/doc/stable/reference/generated/numpy.array.html) con la siguiente sintaxis:\n",
    "\n",
    "```\n",
    "matriz = np.array(lista)\n",
    "```"
   ]
  },
  {
   "cell_type": "code",
   "execution_count": null,
   "id": "90c58b07",
   "metadata": {
    "id": "PC_pCqG80Ogx"
   },
   "outputs": [],
   "source": [
    "lista = [1, 2, 3, 4, 5]\n",
    "matriz = np.array(lista)\n",
    "print(matriz)"
   ]
  },
  {
   "cell_type": "markdown",
   "id": "5338a929",
   "metadata": {
    "id": "80Mna1uwvDl0"
   },
   "source": [
    "### Ejercicio de codificación 1: `linspace`\n",
    "\n",
    "NumPy tiene una función integrada [`np.linspace(i,j,k)`](https://numpy.org/doc/stable/reference/generated/numpy.linspace.html) que genera matrices numéricas con un rango entre i y j con k elementos. Si bien es similar a la función `range()`, notar que en aquella se le definia el salto entre datos consecutivos mientras que a [`np.linspace()`](https://numpy.org/doc/stable/reference/generated/numpy.linspace.html) se le indica el número de datos totales que quiero que contenga mi matriz.\n",
    "\n",
    "Generá una matriz de 10 números entre 0 y 100 usando [`np.linspace()`](https://numpy.org/doc/stable/reference/generated/numpy.linspace.html). Luego imprimí la matriz para evaluar si obtuvo lo buscado.\n",
    "\n",
    "- ¿De qué tipo son los datos obtenidos?\n",
    "- ¿Qué dimensiones debería tener la matriz?\n",
    "\n",
    "Podés corroborar las dimensiones de tu matriz usando la función [`np.shape()`](https://numpy.org/doc/stable/reference/generated/numpy.shape.html) (que también puede usar como método) con la sintaxis:\n",
    "\n",
    "```\n",
    "np.shape(matriz)\n",
    "```"
   ]
  },
  {
   "cell_type": "code",
   "execution_count": null,
   "id": "ef4e6cc9",
   "metadata": {
    "editable": true,
    "id": "0bqYfiYOx_lT",
    "slideshow": {
     "slide_type": ""
    },
    "tags": []
   },
   "outputs": [],
   "source": [
    "matriz = ...\n",
    "print(matriz)\n",
    "\n",
    "dimension = ...\n",
    "print(\"Dimensión:\", dimension)"
   ]
  },
  {
   "cell_type": "markdown",
   "id": "0f379466-83e2-4b57-9fc3-01186971d421",
   "metadata": {},
   "source": [
    "[Hacé click para la solución](https://raw.githubusercontent.com/MaestriaCienciasCognitivas/ncc/main/book/solutions/Cuaderno2_Ejercicio1.py)\n",
    "\n",
    "_Salida esperada:_\n",
    "\n",
    "```\n",
    "[  0.          11.11111111  22.22222222  33.33333333  44.44444444\n",
    "  55.55555556  66.66666667  77.77777778  88.88888889 100.        ]\n",
    "Dimensión: (10,)\n",
    "```"
   ]
  },
  {
   "cell_type": "markdown",
   "id": "ae28d0f2",
   "metadata": {
    "id": "FiJ2tzYt0ftR"
   },
   "source": [
    "### Acceder a datos de una matriz\n",
    "\n",
    "Podemos seleccionar un elemento de una matriz de la misma forma que lo hacemos para una lista: utilizando paréntesis rectos. De forma que:\n",
    "\n",
    "```\n",
    "array[i]\n",
    "```\n",
    "\n",
    "devuelve el elemento con índice i de la matriz. Al igual que en las listas, los indices de las matrices comienzan desde 0.\n",
    "\n",
    "Note que las matrices pueden tener más de una dimensión. En ese caso, la selección se debe hacer indicando el índice en cada dimensión. Por ejemplo, para seleccionar un elemento en una matriz de 3 dimensiones debe escribir:\n",
    "\n",
    "```\n",
    "array[i,j,k]\n",
    "```\n",
    "\n",
    "Siendo i,j y k los indices de ese elemento en cada una de las dimensiones de la matriz.\n",
    "\n",
    "Puede también seleccionar regiones de la matriz utilizando los dos puntos `:`. Por ejemplo:\n",
    "\n",
    "```\n",
    "array[i:j]\n",
    "```\n",
    "\n",
    "nos devolverá los elementos entre i y j, no inclusive, de la matriz.\n",
    "\n",
    "Esta sintaxis se puede usar en matrices multidimensionales para indicar una rebanada de una de las dimensiones y no es necesario que se use en todas. Por ejemplo, podemos elegir los elementos de las filas del 1 al 5 y columna 8 de una matriz como sigue:\n",
    "\n",
    "```\n",
    "array[1:5,8]\n",
    "```\n",
    "\n",
    "Si solo se indican los dos puntos, se tomarán todos los elementos en esa dimensión. Por ejemplo, el siguiente código:\n",
    "\n",
    "```\n",
    "array[:,8]\n",
    "```\n",
    "\n",
    "Devuelve todas las filas de la columna 8."
   ]
  },
  {
   "cell_type": "markdown",
   "id": "c49db388",
   "metadata": {
    "id": "rlBP-pL088_l"
   },
   "source": [
    "### Algunas operaciones con matrices\n",
    "\n",
    "NumPy trae consigo una variedad de operaciones matemáticas integradas ([puede consultar la documentación aquí](https://numpy.org/doc/stable/reference/routines.math.html)), que se le pueden aplicar a sus matrices.\n",
    "\n",
    "Para aplicar cualquiera de esas funciones a su matriz debe seguir la siguiente sintaxis:\n",
    "\n",
    "```\n",
    "np.funcion(array)\n",
    "```\n",
    "\n",
    "donde debe sustituír `funcion` por el nombre de la funcion a aplicar, por ejemplo `sin()`, y `array` por el nombre de su matriz.\n",
    "\n",
    "Estas funciones serán aplicadas a cada uno de los elementos de su matriz.\n",
    "\n",
    "NumPy también trae integradas diversas funciones que se aplican a su matriz en conjunto y no a sus elementos aislados. A continuación se muestran algunos ejemplos."
   ]
  },
  {
   "cell_type": "code",
   "execution_count": null,
   "id": "2126f987-9696-4ae8-bebb-c194a1d1bca6",
   "metadata": {},
   "outputs": [],
   "source": [
    "suma = np.sum([2, 3, 4, 5])\n",
    "print(suma)"
   ]
  },
  {
   "cell_type": "code",
   "execution_count": null,
   "id": "7d77e44b-4ed2-4e3d-bc43-61072eec13b6",
   "metadata": {},
   "outputs": [],
   "source": [
    "producto = np.prod([2, 3, 4, 5])\n",
    "print(suma)"
   ]
  },
  {
   "cell_type": "code",
   "execution_count": null,
   "id": "f3718032-a3db-4280-84b9-ecdfbfb085ed",
   "metadata": {},
   "outputs": [],
   "source": [
    "promedio = np.mean([2, 3, 4, 5])\n",
    "print(promedio)"
   ]
  },
  {
   "cell_type": "code",
   "execution_count": null,
   "id": "c11ebd38-b16f-4be7-a8e0-e7b6bc438ff0",
   "metadata": {},
   "outputs": [],
   "source": [
    "minimo = np.min([2, 3, 4, 5])\n",
    "print(minimo)"
   ]
  },
  {
   "cell_type": "code",
   "execution_count": null,
   "id": "71329f08-0289-4f43-b8b9-d79a71bcdcac",
   "metadata": {},
   "outputs": [],
   "source": [
    "maximo = np.max([2, 3, 4, 5])\n",
    "print(maximo)"
   ]
  },
  {
   "cell_type": "markdown",
   "id": "9e9ca58a",
   "metadata": {
    "id": "dYCzrV8p_Tq0"
   },
   "source": [
    "Otro tipo de operación que se puede realizar sobre una matriz es testear condiciones lógicas.\n",
    "\n",
    "Utilizando los operadores lógicos mencionados en los condicionales, podemos testear una condición, por ejemplo:\n",
    "\n",
    "```\n",
    "array > 5\n",
    "```\n",
    "\n",
    "esta línea de código nos devolverá una matriz de booleanos de la misma dimensión que nuestra matriz, donde en la posición de cada elemento nos dirá `True` o `False` según si ese elemento cumple con la condición.\n",
    "\n",
    "A raíz de esto, se puede filtrar una matriz usando condicionales con la siguiente sintaxis:\n",
    "\n",
    "```\n",
    "array[condicion]\n",
    "```\n",
    "\n",
    "Esto genera una matriz con los valores que cumplen esa condición. Por ejemplo, para la condición anterior:\n",
    "\n",
    "```\n",
    "array[array>5]\n",
    "```\n",
    "\n",
    "retorna una matriz con los elementos de la matriz anterior que son mayores que 5."
   ]
  },
  {
   "cell_type": "markdown",
   "id": "953f97f3-e696-4746-beb9-16b278538d3f",
   "metadata": {},
   "source": [
    "### Ejercicio de codificación 2: Simulación de una corriente de entrada\n",
    "\n",
    "Dada la ecuación:\n",
    "\n",
    "$$I(t)=I_{mean}(1 + \\sin(\\dfrac{2 \\pi}{0.01}t))$$\n",
    "\n",
    "donde $I(t)$ es la entrada sináptica a una neurona a lo largo del tiempo e $I_{mean}$ es la entrada sináptica promedio, calculá los valores de la entrada sináptica entre $t=0$ y $t=0.009$ con $\\Delta t=0.001$."
   ]
  },
  {
   "cell_type": "code",
   "execution_count": null,
   "id": "7cf59f04-fd30-4800-afe1-78e135d72777",
   "metadata": {
    "editable": true,
    "slideshow": {
     "slide_type": ""
    },
    "tags": []
   },
   "outputs": [],
   "source": [
    "dt = 0.001       # en segundos\n",
    "i_mean = 25e-11  # en amperios\n",
    "\n",
    "# Itera sobre 10 pasos, la variable 'step' toma valores de 0 a 9\n",
    "for step in range(10):\n",
    "  # Calcula el valor de t\n",
    "  t = step * dt\n",
    "\n",
    "  # Calcula el valor de I en el instante t\n",
    "  i = ...\n",
    "\n",
    "  print(i)"
   ]
  },
  {
   "cell_type": "markdown",
   "id": "72e43ec1-5018-434f-a87e-7c8ff19f0924",
   "metadata": {},
   "source": [
    "[Hacé click para la solución](https://raw.githubusercontent.com/MaestriaCienciasCognitivas/ncc/main/book/solutions/Cuaderno2_Ejercicio2.py)\n",
    "\n",
    "_Salida esperada:_\n",
    "\n",
    "```\n",
    "2.5e-10\n",
    "3.969463130731183e-10\n",
    "4.877641290737885e-10\n",
    "4.877641290737885e-10\n",
    "3.9694631307311837e-10\n",
    "2.5000000000000007e-10\n",
    "1.0305368692688176e-10\n",
    "1.2235870926211617e-11\n",
    "1.223587092621159e-11\n",
    "1.0305368692688186e-10\n",
    "```"
   ]
  },
  {
   "cell_type": "markdown",
   "id": "f45c8c90",
   "metadata": {
    "id": "vdCK4QmNWmcT"
   },
   "source": [
    "## Matplotlib\n",
    "\n",
    "[Matplotlib](https://matplotlib.org) es una librería gráfica de Python que nos permite generar múltiples tipos de gráficos y visualizaciones. En este cuaderno haremos solamente una breve introducción a lo que se puede hacer con esta librería pero por más información puede consultar la [documentación](https://matplotlib.org/stable/users/index.html)."
   ]
  },
  {
   "cell_type": "markdown",
   "id": "c096552f",
   "metadata": {
    "id": "OvDBaLoPxjvW"
   },
   "source": [
    "Comencemos con un gráfico simple. La función más simple de usar para graficar es [`plt.plot()`](https://matplotlib.org/stable/api/_as_gen/matplotlib.pyplot.plot.html). Esta función realiza gráficos de línea a menos que le indiquemos otra cosa, a partir de dos series de datos (si solo se le pasa una serie genera el eje x de forma automática).\n",
    "\n",
    "*Nota: recuerde que `plt` es el alias con el cual importamos [`Matplotlib`](https://matplotlib.org), por ende lo usamos en lugar del nombre completo de la librería.*"
   ]
  },
  {
   "cell_type": "code",
   "execution_count": null,
   "id": "39348f49",
   "metadata": {
    "colab": {
     "base_uri": "https://localhost:8080/",
     "height": 430
    },
    "id": "y5oFEjeFIeeY",
    "outputId": "6f9db1fe-9727-421a-da0f-15e1df9c72b3"
   },
   "outputs": [],
   "source": [
    "# Generemos dos vectores x e y.\n",
    "x = [1, 2, 3, 4, 5, 6]\n",
    "y = [10, 20, 30, 40, 50, 60]\n",
    "\n",
    "# Grafiquemos estos dos vectores usando Matplotlib.\n",
    "plt.plot(x, y)\n",
    "\n",
    "# Le pedimos que nos muestre lo graficado.\n",
    "plt.show()"
   ]
  },
  {
   "cell_type": "markdown",
   "id": "ec0ea914",
   "metadata": {
    "id": "_J5MGya6I5tI"
   },
   "source": [
    "La sintaxis observada más arriba es la general para hacer un gráfico con Matplotlib. Notar que debemos pedirle, con [`plt.show()`](https://matplotlib.org/stable/api/_as_gen/matplotlib.pyplot.show.html#matplotlib.pyplot.show) que nos muestre el gráfico.\n",
    "\n",
    "Agreguemosle ahora un titulo y nombres a los ejes."
   ]
  },
  {
   "cell_type": "code",
   "execution_count": null,
   "id": "75af0e28",
   "metadata": {
    "colab": {
     "base_uri": "https://localhost:8080/",
     "height": 472
    },
    "id": "2fRJleL-JUJr",
    "outputId": "4e8fdc94-3234-4da5-e1ed-07a92e9d8799"
   },
   "outputs": [],
   "source": [
    "# Grafiquemos estos dos vectores\n",
    "plt.plot(x,y)\n",
    "\n",
    "# Definimos el titulo del gráfico\n",
    "plt.title('Grafico')\n",
    "\n",
    "# Definimos los nombres de los ejes\n",
    "plt.xlabel('Eje x')\n",
    "plt.ylabel('Eje y')\n",
    "\n",
    "# Le pedimos que nos muestre lo graficado\n",
    "plt.show()"
   ]
  },
  {
   "cell_type": "markdown",
   "id": "68ca8872",
   "metadata": {
    "id": "YA5SrCRuJyBk"
   },
   "source": [
    "Otro método que puede resultar de utilidad es el método [`plt.figure()`](https://matplotlib.org/stable/api/_as_gen/matplotlib.pyplot.figure.html) que nos permite definir a la figura y sus caracteristicas como el tamaño. Esto puede ser especialmente relevante cuando querramos posteriormente exportar una figura generada en Python."
   ]
  },
  {
   "cell_type": "code",
   "execution_count": null,
   "id": "832ac1b9",
   "metadata": {
    "colab": {
     "base_uri": "https://localhost:8080/",
     "height": 469
    },
    "id": "4ttFu0g5KCMX",
    "outputId": "1c55d466-9c10-44ae-c732-487fb9c18400"
   },
   "outputs": [],
   "source": [
    "# Grafiquemos estos dos vectores\n",
    "plt.plot(x,y)\n",
    "\n",
    "# Definimos el titulo del gráfico\n",
    "plt.title('Grafico')\n",
    "\n",
    "# Definimos la figura\n",
    "plt.figure(figsize=(100, 120))\n",
    "\n",
    "# Le pedimos que nos muestre lo graficado\n",
    "plt.show()"
   ]
  },
  {
   "cell_type": "markdown",
   "id": "c47fc94a",
   "metadata": {
    "id": "LAfi8RCiKQmE"
   },
   "source": [
    "Si queremos graficar más de un gráfico en una misma figura podemos usar el método [`plt.subplot()`](https://matplotlib.org/stable/api/_as_gen/matplotlib.pyplot.subplot.html). La sintaxis es:\n",
    "\n",
    "```\n",
    "plt.subplot(nrows, ncols, indice)\n",
    "```\n",
    "\n",
    "Los primeros dos argumentos nos indican en cuantas filas y columnas, respectivamente queremos que se divida nuestra figura. El indice nos dice en cual de esas subfiguras graficar el grafico particular.\n",
    "\n",
    "Veamos un ejemplo:"
   ]
  },
  {
   "cell_type": "code",
   "execution_count": null,
   "id": "348ac360",
   "metadata": {
    "colab": {
     "base_uri": "https://localhost:8080/",
     "height": 452
    },
    "id": "Q4IpdSW9Mq0R",
    "outputId": "8e76e8cf-c0b7-42d3-9867-23cb3e630e4f"
   },
   "outputs": [],
   "source": [
    "# Generamos las subplots\n",
    "plt.subplot(1, 2, 1)\n",
    "plt.plot(x, y)\n",
    "plt.title('Subplot 1')\n",
    "\n",
    "# Generamos la otra subplot\n",
    "plt.subplot(1, 2, 2)\n",
    "plt.plot(x, y)\n",
    "plt.title('Subplot 2')\n",
    "\n",
    "# Mostramos la figura\n",
    "plt.show()"
   ]
  },
  {
   "cell_type": "markdown",
   "id": "052c9c30",
   "metadata": {
    "id": "jeLQMHzCOUZW"
   },
   "source": [
    "### Definir una figura\n",
    "\n",
    "Acabamos de generar gráficos de forma aislada, lo cual hace que su personalización se vuelva un poco más complicada. Lo más prolijo a la hora de graficar es generar primero una figura y un set de ejes. Luego, graficaremos dentro de esa figura y set de ejes."
   ]
  },
  {
   "cell_type": "code",
   "execution_count": null,
   "id": "47869394",
   "metadata": {
    "colab": {
     "base_uri": "https://localhost:8080/",
     "height": 472
    },
    "id": "tGup6uMvOuRq",
    "outputId": "c7a513b1-71c0-42ba-f361-86a074823455"
   },
   "outputs": [],
   "source": [
    "# Creamos una figura `fig` y un set de ejes `ax`.\n",
    "# Notar que esta funcion (subplots) es diferente a la usada anteriormente (subplot).\n",
    "fig, ax = plt.subplots()\n",
    "\n",
    "# Graficamos sobre nuestra figura.\n",
    "ax.plot(x, y)\n",
    "\n",
    "# Seteamos los nombres y titulo.\n",
    "ax.set(xlabel='Eje x', ylabel='Eje y', title='Grafico')\n",
    "\n",
    "# Mostramos el gráfico.\n",
    "plt.show()"
   ]
  },
  {
   "cell_type": "markdown",
   "id": "0229d905",
   "metadata": {
    "id": "HB-tf6YuPcwv"
   },
   "source": [
    "En el código propuesto, podriamos dar como argumento a [`plt.subplots()`](https://matplotlib.org/stable/api/_as_gen/matplotlib.pyplot.subplots.html) dimensiones para generar mas de una `subplot`."
   ]
  },
  {
   "cell_type": "markdown",
   "id": "dd79275b",
   "metadata": {
    "id": "Zxakx6KnNz6V"
   },
   "source": [
    "### Graficos de dispersión\n",
    "\n",
    "Matplotlib tiene una gran cantidad de funciones para graficar todo tipo de gráficos. Aquí veremos simplemente cómo graficar un gráfico de dispersión. Para eso tenemos la función [`plt.scatter()`](https://matplotlib.org/stable/api/_as_gen/matplotlib.pyplot.scatter.html).\n",
    "\n",
    "Veamos un ejemplo:"
   ]
  },
  {
   "cell_type": "code",
   "execution_count": null,
   "id": "1a181bb6",
   "metadata": {
    "colab": {
     "base_uri": "https://localhost:8080/",
     "height": 472
    },
    "id": "IQWox2AjQNzM",
    "outputId": "12497daa-03ec-46a5-8693-13e98cd43360"
   },
   "outputs": [],
   "source": [
    "# Creamos una figura `fig` y un set de ejes `ax`.\n",
    "fig, ax = plt.subplots()\n",
    "\n",
    "# Graficamos sobre nuestra figura\n",
    "ax.scatter(x, y)\n",
    "\n",
    "# Seteamos los nombres y titulo\n",
    "ax.set(xlabel='Eje x', ylabel='Eje y', title='Grafico')\n",
    "\n",
    "# Mostramos el gráfico\n",
    "plt.show()"
   ]
  },
  {
   "cell_type": "markdown",
   "id": "9328fc85",
   "metadata": {
    "id": "252d-uqoN4am"
   },
   "source": [
    "### Personalización\n",
    "\n",
    "Podemos personalizar de diversas maneras nuestro gráfico. Desde el color de nuestros puntos, la forma y tamaño de los puntos, el tamaño de la linea, la opacidad, el fondo de la gráfica y muchas cosas que se le puedan ocurrir.\n",
    "\n",
    "Aquí veremos algunos ejemplos. Para gráficos y visualizaciones más complejas y personalizables hay otras librerias disponibles, como [Seaborn](https://seaborn.pydata.org).\n",
    "\n",
    "Arranquemos personalizando el color de nuestro gráfico. Para esto, la función plot tiene un argumento `color` que podemos setear como queramos. Matplotlib trae algunos [colores incorporados](https://matplotlib.org/stable/gallery/color/named_colors.html) que se pueden llamar por su nombre, o puede incluso darle un código HEX con el color especifico que prefiera."
   ]
  },
  {
   "cell_type": "code",
   "execution_count": null,
   "id": "2bcb05a5",
   "metadata": {
    "colab": {
     "base_uri": "https://localhost:8080/",
     "height": 564
    },
    "id": "YMH7FuYsRSAq",
    "outputId": "ff74f9f9-ff9c-4aee-eb0f-aaa4bd369138"
   },
   "outputs": [],
   "source": [
    "# Definimos la figura\n",
    "fig, ax = plt.subplots(figsize=(10, 6))\n",
    "\n",
    "# Definimos la gráfica\n",
    "ax.plot(x, y, color='red')\n",
    "\n",
    "# Seteamos los titulos\n",
    "ax.set(title=\"Gráfico\", xlabel=\"Eje X\", ylabel=\"Eje y\")\n",
    "\n",
    "# Mostramos la gráfica\n",
    "plt.show()"
   ]
  },
  {
   "cell_type": "markdown",
   "id": "0dc257b5",
   "metadata": {
    "id": "lhhsd3K6R4-o"
   },
   "source": [
    "Cambiemos ahora la forma de los puntos en nuestro gráfico de dispersión. De forma similar a lo que vimos para el color, hay un parámetro `marker` que tiene la función [`plt.scatter()`](https://matplotlib.org/stable/api/_as_gen/matplotlib.pyplot.scatter.html) asi como la función [`plt.plot()`](https://matplotlib.org/stable/api/_as_gen/matplotlib.pyplot.plot.html). Puede consultar [aquí](https://matplotlib.org/stable/api/markers_api.html) los diferentes códigos para los diferentes puntos que puede usar."
   ]
  },
  {
   "cell_type": "code",
   "execution_count": null,
   "id": "5aea4b9e",
   "metadata": {
    "colab": {
     "base_uri": "https://localhost:8080/",
     "height": 564
    },
    "id": "gMmvGkx7SPEL",
    "outputId": "87008e75-7aa9-4f40-90f1-cb729b74448c"
   },
   "outputs": [],
   "source": [
    "# Definimos la figura\n",
    "fig, ax = plt.subplots(figsize=(10, 6))\n",
    "\n",
    "# Definimos la gráfica\n",
    "ax.plot(x, y, color='red', marker='v')\n",
    "\n",
    "# Seteamos los titulos\n",
    "ax.set(title=\"Gráfico\", xlabel=\"Eje X\", ylabel=\"Eje y\")\n",
    "\n",
    "# Mostramos la gráfica\n",
    "plt.show()"
   ]
  },
  {
   "cell_type": "markdown",
   "id": "8d98db49",
   "metadata": {
    "id": "31x5l0-HSqx9"
   },
   "source": [
    "El úlimo ejemplo de personalización que veremos es la opacidad de nuestro gráfico. Esto es especialmente relevante en graficos de dispersion donde se acumulan muchos puntos juntos. Esta se setea con el argumento `alpha que va desde 0 a 1, siendo 1 el color normal y 0 completamente transparente.\n",
    "\n",
    "Veamos un ejemplo:"
   ]
  },
  {
   "cell_type": "code",
   "execution_count": null,
   "id": "3b8fd926",
   "metadata": {
    "colab": {
     "base_uri": "https://localhost:8080/",
     "height": 430
    },
    "id": "Djptl9EBS-Jq",
    "outputId": "20e096fa-ea8f-48b7-c4be-02015d468d78"
   },
   "outputs": [],
   "source": [
    "# Definimos una figura con dos subplots\n",
    "fig, [ax1, ax2] = plt.subplots(nrows=1, ncols=2)\n",
    "\n",
    "# Graficamos la primera con opacidad=1 (por defecto)\n",
    "ax1.plot(x, y, color='darkblue', marker='v')\n",
    "\n",
    "# Graficamos la segunda con opacidad=0.5\n",
    "ax2.plot(x, y, color='darkblue', marker='v', alpha=0.5)\n",
    "\n",
    "# Mostramos la gráfica\n",
    "plt.show()"
   ]
  },
  {
   "cell_type": "markdown",
   "id": "6a236639",
   "metadata": {
    "id": "nWV2ztXATmco"
   },
   "source": [
    "Alli se puede ver claramente el efecto de modificar el parámetro `alpha`. De paso vimos como generar dos subplots en una misma figura con la sintaxis que venimos trabajando."
   ]
  },
  {
   "cell_type": "markdown",
   "id": "70b5c64f-66f2-42d7-8011-83177e919cd1",
   "metadata": {
    "editable": true,
    "slideshow": {
     "slide_type": ""
    },
    "tags": []
   },
   "source": [
    "### Ejercicio de codificación 3: Simulación de una corriente de entrada (segunda parte)\n",
    "\n",
    "Dada la ecuación:\n",
    "\n",
    "$$I(t)=I_{mean}(1 + \\sin(\\dfrac{2 \\pi}{0.01}t))$$\n",
    "\n",
    "donde $I(t)$ es la entrada sináptica a una neurona a lo largo del tiempo e $I_{mean}$ es la entrada sináptica promedio, calculá los valores de la entrada sináptica entre $t=0$ y $t=0.009$ con $\\Delta t=0.001$. Esta vez, queremos guardar los resultados intermedios y graficarlos al final del bucle."
   ]
  },
  {
   "cell_type": "code",
   "execution_count": null,
   "id": "5fe231aa-34c8-48f8-a2cc-6120ab2936a2",
   "metadata": {
    "editable": true,
    "slideshow": {
     "slide_type": ""
    },
    "tags": []
   },
   "outputs": [],
   "source": [
    "dt = 0.001       # en segundos\n",
    "i_mean = 25e-11  # en amperios\n",
    "steps = 10\n",
    "i = np.zeros(steps)\n",
    "\n",
    "# Itera sobre varios pasos, la variable 'step' toma valores de 0 a `steps`\n",
    "for step in range(steps):\n",
    "  # Calcula el valor de t\n",
    "  t = step * dt\n",
    "\n",
    "  # Calculá el valor de I en el instante t y guardalo en el array `i`\n",
    "  ...\n",
    "\n",
    "...\n",
    "plt.show()"
   ]
  },
  {
   "cell_type": "markdown",
   "id": "cab78e80-3a03-4d82-a301-c6ee43345924",
   "metadata": {},
   "source": [
    "[Hacé click para la solución](https://raw.githubusercontent.com/MaestriaCienciasCognitivas/ncc/main/book/solutions/Cuaderno2_Ejercicio3.py)\n",
    "\n",
    "_Salida esperada:_\n",
    "\n",
    "![static](https://raw.githubusercontent.com/MaestriaCienciasCognitivas/ncc/main/book/static/Cuaderno1_Ejercicio3_Solucion.png)"
   ]
  },
  {
   "cell_type": "markdown",
   "id": "8044189f",
   "metadata": {
    "id": "ViIMo4L6ZZ8X"
   },
   "source": [
    "## Bonificación: Ejercicios adicionales"
   ]
  },
  {
   "cell_type": "markdown",
   "id": "53aa0ace",
   "metadata": {
    "id": "6KI6dfU_2I_s"
   },
   "source": [
    "### Ejercicio adicional 1: Manipulación y visualización de una imagen\n",
    "\n",
    "En este ejercicio importaremos una imagen usando el paquete [imageio](https://imageio.readthedocs.io) la cual visualizaremos usando una función integrada de Matplotlib [`plt.imshow()`](https://matplotlib.org/stable/api/_as_gen/matplotlib.pyplot.imshow.html). Para esto debemos leer la imagen como una matriz de NumPy.\n",
    "\n",
    "Usando manipulaciones básicas de matrices podremos modificar esta imagen de diferentes maneras, como rotarla y espejarla."
   ]
  },
  {
   "cell_type": "code",
   "execution_count": null,
   "id": "810bc928",
   "metadata": {
    "colab": {
     "base_uri": "https://localhost:8080/"
    },
    "id": "fSy-pl9d3G2E",
    "outputId": "646ba486-5131-4bf0-cb52-99e03df19f0b"
   },
   "outputs": [],
   "source": [
    "import imageio.v3 as iio\n",
    "\n",
    "# Cargamos la imagen desde la URL\n",
    "imagen = iio.imread('https://i.natgeofe.com/n/548467d8-c5f1-4551-9f58-6817a8d2c45e/NationalGeographic_2572187_square.jpg')"
   ]
  },
  {
   "cell_type": "markdown",
   "id": "baa8ef1d",
   "metadata": {
    "id": "dQaRYlIE5Uec"
   },
   "source": [
    "A continuación, evalúa la forma (o dimensión) de esta matriz que generamos:"
   ]
  },
  {
   "cell_type": "code",
   "execution_count": null,
   "id": "d60da0ac",
   "metadata": {
    "colab": {
     "base_uri": "https://localhost:8080/"
    },
    "id": "JWaeHE6g5SbG",
    "outputId": "2a4a0b1e-0b65-4ee4-9375-3fdb2cf12dc8"
   },
   "outputs": [],
   "source": [
    "print(...)"
   ]
  },
  {
   "cell_type": "markdown",
   "id": "b5903574-5fb1-43c2-ae32-c1193514b7cc",
   "metadata": {},
   "source": [
    "_Salida esperada:_\n",
    "\n",
    "```\n",
    "(3072, 3072, 3)\n",
    "```"
   ]
  },
  {
   "cell_type": "markdown",
   "id": "9622a725",
   "metadata": {
    "id": "G67_KDYa5lGX"
   },
   "source": [
    "Cuando leemos una imagen como una matriz tendremos 3 dimensiones: 2 dimensiones de pixeles y una tercera que nos da el color o intensidad del pixel. Cuando la imágen está a color esta tercera dimensión tiene 3 canales (RGB). La siguiente celda visualiza la imagen cargada.\n",
    "\n",
    "¿Es consistente con las dimensiones que observó anteriormente?"
   ]
  },
  {
   "cell_type": "code",
   "execution_count": null,
   "id": "e2fc84b2",
   "metadata": {
    "colab": {
     "base_uri": "https://localhost:8080/",
     "height": 452
    },
    "id": "hdxG5Tw657KQ",
    "outputId": "34c49fa8-4823-4d87-e79e-edddd4c525be"
   },
   "outputs": [],
   "source": [
    "plt.imshow(imagen)\n",
    "plt.show()"
   ]
  },
  {
   "cell_type": "markdown",
   "id": "5b6a1b25",
   "metadata": {
    "id": "0QV_-xhc6huV"
   },
   "source": [
    "A continuación genere una nueva matriz seleccionando diferentes regiones de la imagen usando lo que aprendió anteriormente para acceder a elementos de una matriz.\n",
    "\n",
    "*Sugerencia: note que las primeras dos dimensiones definen la región de la imagen y la tercera su color.*"
   ]
  },
  {
   "cell_type": "code",
   "execution_count": null,
   "id": "b2e9df28",
   "metadata": {
    "id": "uizMGpbE6upx"
   },
   "outputs": [],
   "source": [
    "seleccion = ...\n",
    "# plt.imshow(seleccion)    # descomenta esta línea\n",
    "plt.show()"
   ]
  },
  {
   "cell_type": "markdown",
   "id": "015e4a3a",
   "metadata": {
    "id": "Xb-q_YPPI_j_"
   },
   "source": [
    "### Ejercicio adicional 2: Valores aleatorios\n",
    "\n",
    "Una funcionalidad muy útil de NumPy es el modulo [`random`](https://numpy.org/doc/stable/reference/random/index.html). En general, los paquetes grandes como los que hemos trabajado se componen de varios modulos, que incluso podemos importar por separado. En este ejercicio usaremos el modulo `random` de NumPy para generar una matriz con numeros al azar en un determinado rango y luego muestrear aleatoriamente de esa misma matriz.\n",
    "\n",
    "Para comenzar, tenga a mano la [documentacion](https://numpy.org/doc/stable/reference/random/index.html) del modulo `random`. Alli encontrará una introducción general al modulo al igual que la documentacion de cada una de las funciones que contiene."
   ]
  },
  {
   "cell_type": "markdown",
   "id": "4bb480d0",
   "metadata": {
    "id": "fC6JkPTtQ9YB"
   },
   "source": [
    "Podemos llamar a las funciones de random (o de cualquier otro modulo) como sigue:\n",
    "\n",
    "```\n",
    "np.random.funcion\n",
    "```\n"
   ]
  },
  {
   "cell_type": "markdown",
   "id": "9258ee8d",
   "metadata": {
    "id": "-lTSIGNyRYUs"
   },
   "source": [
    "Ahora si, comencemos con el ejercicio. Utilizaremos la funcion [`np.rand()`](https://numpy.org/doc/stable/reference/random/generated/numpy.random.rand.html) para generar una matriz de 3x3 con numeros aleatorios."
   ]
  },
  {
   "cell_type": "code",
   "execution_count": null,
   "id": "922da16e",
   "metadata": {
    "colab": {
     "base_uri": "https://localhost:8080/"
    },
    "id": "VG-Dz0GqSPtQ",
    "outputId": "aa6dded6-7a40-4791-c722-b45c5427f2d6"
   },
   "outputs": [],
   "source": [
    "# Primero definimos el numero de filas y columnas que queremos para nuestra matriz\n",
    "num_filas = 3\n",
    "num_cols = 3\n",
    "\n",
    "# Establecemos el generador de números aleatorios\n",
    "np.random.seed(0)\n",
    "\n",
    "# Generamos nuestra matriz\n",
    "random_array = np.random.rand(num_filas, num_cols)\n",
    "\n",
    "# Imprimimos la matriz para ver que nos genero\n",
    "print(random_array)"
   ]
  },
  {
   "cell_type": "markdown",
   "id": "2925217a",
   "metadata": {
    "id": "JtjBkKFvT3BN"
   },
   "source": [
    "Notaran que los numeros que nos generó estan todos entre 0 y 1. Esto es porque la funcion `np.rand()` solo genera numeros en este rango. \n",
    "\n",
    "Suponga que ahora queremos una matriz con numeros entre 10 y 20, al azar. Genere el codigo necesario para lograrlo."
   ]
  },
  {
   "cell_type": "code",
   "execution_count": null,
   "id": "0f5adab3",
   "metadata": {
    "colab": {
     "base_uri": "https://localhost:8080/"
    },
    "id": "EqdgkWlRT2jN",
    "outputId": "87130550-b8ba-4dd7-cdcf-b6dcd94f99d4"
   },
   "outputs": [],
   "source": [
    "def generar_matriz(num_filas, num_cols, rango):\n",
    "    return ...\n",
    "\n",
    "# Establecemos el generador de números aleatorios\n",
    "np.random.seed(0)\n",
    "\n",
    "print(generar_matriz(3, 3, [10, 20]))"
   ]
  },
  {
   "cell_type": "markdown",
   "id": "ba97f6ca-982e-4ee1-8a22-479f0fca110b",
   "metadata": {},
   "source": [
    "_Salida esperada:_\n",
    "\n",
    "```\n",
    "[0.71518937 0.43758721 0.891773  ]\n",
    "```"
   ]
  },
  {
   "cell_type": "markdown",
   "id": "38300b44",
   "metadata": {
    "id": "-WQGaGqLV8bP"
   },
   "source": [
    "Ahora pasemos al muestreo aleatorio de una matriz.\n",
    "Para esto utilizaremos la función [`np.choice()`](https://numpy.org/doc/stable/reference/random/generated/numpy.random.choice.html).\n",
    "\n",
    "Esta funcion funciona sobre arrays de 1 dimensión. La sintaxis es como sigue:\n",
    "\n",
    "```\n",
    "muestra = random.choice(array, size=n)\n",
    "```\n",
    "\n",
    "Siendo n el tamaño de la muestra que queremos. Muestreemos 2 elementos al azar de la matriz que generamos. Como choice acepta solo matrices de una dimensión, primero debemos \"aplastar\" nuestra matriz a una dimension. Para esto usaremos el método [`np.flatten()`](https://numpy.org/doc/stable/reference/generated/numpy.ndarray.flatten.html)."
   ]
  },
  {
   "cell_type": "code",
   "execution_count": null,
   "id": "3588ea35",
   "metadata": {
    "colab": {
     "base_uri": "https://localhost:8080/"
    },
    "id": "k_RB2X5eXkaL",
    "outputId": "e448d425-30b6-4e1a-8b81-b1040d25a683"
   },
   "outputs": [],
   "source": [
    "muestra = np.random.choice(np.array([1, 2, 3, 4, 5]).flatten(), size=2)\n",
    "print(\"Muestra:\", muestra)"
   ]
  },
  {
   "cell_type": "markdown",
   "id": "de325f62",
   "metadata": {
    "id": "f7zQpFMAX0lE"
   },
   "source": [
    "A continuación, genere una muestra de n=3 de la matriz que genero con valores entre 10 y 20."
   ]
  },
  {
   "cell_type": "code",
   "execution_count": null,
   "id": "8b8c62f0",
   "metadata": {
    "colab": {
     "base_uri": "https://localhost:8080/"
    },
    "id": "idD543LeX7mU",
    "outputId": "8c48b9dd-11c3-413e-b30a-502774549a7f"
   },
   "outputs": [],
   "source": [
    "def generar_muestra(matriz, n):\n",
    "    return ...\n",
    "\n",
    "# Establecemos el generador de números aleatorios\n",
    "np.random.seed(0)\n",
    "\n",
    "print(generar_muestra(generar_matriz(3, 3, [10, 20]), 3))"
   ]
  },
  {
   "cell_type": "markdown",
   "id": "020b3d86-339a-4e0d-b1a8-8ab83ddc8b52",
   "metadata": {},
   "source": [
    "_Salida esperada:_\n",
    "\n",
    "```\n",
    "[17.15189366 14.37587211 18.91773001]\n",
    "```"
   ]
  },
  {
   "cell_type": "markdown",
   "id": "19637e48",
   "metadata": {
    "id": "Hf2aPsO2YB-6"
   },
   "source": [
    "Para terminar, escriba una función que:\n",
    "\n",
    "- Tome como argumentos un rango de numeros, un tamaño de matriz (nfilas y ncolumnas) y un tamaño de muestra\n",
    "- Devuelva un matriz en dos dimensiones del tamaño indicado y una muestra del tamaño indicado de esa matriz."
   ]
  },
  {
   "cell_type": "code",
   "execution_count": null,
   "id": "01aabc05",
   "metadata": {
    "colab": {
     "base_uri": "https://localhost:8080/"
    },
    "id": "tKV7ZlPzYg2_",
    "outputId": "9522b7eb-c7a1-4e11-d27d-1c36c272e375"
   },
   "outputs": [],
   "source": [
    "def funcion(n_filas, n_columnas, rango, n_muestra):\n",
    "  array = ...\n",
    "  muestra = ...\n",
    "  return array, muestra\n",
    "\n",
    "# Establecemos el generador de números aleatorios\n",
    "np.random.seed(0)\n",
    "\n",
    "array, muestra = funcion(3, 2, [0, 20], 3)\n",
    "print(array)\n",
    "print(muestra)"
   ]
  },
  {
   "cell_type": "markdown",
   "id": "5dbbb09d-c1f7-430e-854a-da2d2c526dd0",
   "metadata": {},
   "source": [
    "_Salida esperada:_\n",
    "\n",
    "```\n",
    "[[10.97627008 14.30378733]\n",
    " [12.05526752 10.89766366]\n",
    " [ 8.47309599 12.91788226]]\n",
    "[ 8.47309599 10.97627008 10.97627008]\n",
    " ```"
   ]
  }
 ],
 "metadata": {
  "kernelspec": {
   "display_name": "Python 3 (ipykernel)",
   "language": "python",
   "name": "python3"
  },
  "language_info": {
   "codemirror_mode": {
    "name": "ipython",
    "version": 3
   },
   "file_extension": ".py",
   "mimetype": "text/x-python",
   "name": "python",
   "nbconvert_exporter": "python",
   "pygments_lexer": "ipython3",
   "version": "3.10.9"
  }
 },
 "nbformat": 4,
 "nbformat_minor": 5
}
