{
 "cells": [
  {
   "cell_type": "markdown",
   "metadata": {},
   "source": [
    "# Práctico 2: Leaky Integrate and Fire\n",
    "\n",
    "Este modelo sencillo de neurona captura varios comportamientos de las neuronas reales. Veremos su respuesta ante deferentes estímulos, en particular su patron de respuesta frente al ruido en la entrada."
   ]
  },
  {
   "cell_type": "markdown",
   "metadata": {},
   "source": [
    "\\begin{equation} I(t)={u(t)-v{\\rm rest}\\over R}+C\\,{{\\text{d}}v\\over{\\text{d}}t}\\,.\\end{equation}\n",
    "\\begin{equation} \\tau_{m}\\,{{\\text{d}}v\\over{\\text{d}}t}=-[v(t)-v_{\\rm rest}]+R\\,I(t)\\,.\\end{equation}"
   ]
  },
  {
   "cell_type": "markdown",
   "metadata": {},
   "source": [
    "## Configuración\n",
    "\n",
    "Ejecutá las siguientes celdas para configurar el entorno del notebook"
   ]
  },
  {
   "cell_type": "code",
   "execution_count": 1,
   "metadata": {},
   "outputs": [],
   "source": [
    "import numpy as np\n",
    "import matplotlib.pylab as plt\n",
    "import scipy as sp\n",
    "import ipywidgets as widgets\n",
    "from scipy.integrate import odeint\n",
    "from scipy import stats\n",
    "from matplotlib import gridspec"
   ]
  },
  {
   "cell_type": "markdown",
   "metadata": {},
   "source": [
    "### Funciones utilitarias"
   ]
  },
  {
   "cell_type": "code",
   "execution_count": 25,
   "metadata": {},
   "outputs": [],
   "source": [
    "def I_inj(t, amp1, dur1, amp2=0, dur2=0, sep=50):\n",
    "  \"\"\"Crea una función de corriente inyectada con dos pulsos cuadrados.\n",
    "\n",
    "  Args:\n",
    "    t (ndarray): vector 1D de tiempos (ms), estrictamente creciente.\n",
    "    amp1 (float): amplitud del primer pulso, en uA/cm^2.\n",
    "    dur1 (float): duración del primer pulso, en ms.\n",
    "    amp2 (float): amplitud del segundo pulso, en uA/cm^2.\n",
    "    dur2 (float): duración del segundo pulso, en ms.\n",
    "    sep (float): separación mínima entre los dos pulsos, en ms.\n",
    "\n",
    "  Returns:\n",
    "    function: una función I(t) que devuelve la corriente inyectada I(t).\n",
    "  \"\"\"\n",
    "  tmax = np.max(t)\n",
    "  inicios = np.linspace(0, tmax, 8)\n",
    "  inicio1 = inicios[1]\n",
    "  inicio2 = inicio1 + dur1 + sep\n",
    "  \n",
    "  def I(t):\n",
    "    return (amp1 * (t > inicio1) - amp1 * (t > inicio1 + dur1) +\n",
    "            amp2 * (t > inicio2) - amp2 * (t > inicio2 + dur2))\n",
    "\n",
    "  return I\n",
    "\n",
    "def I_train(t, n, amp, dur, interval, start=50):\n",
    "  \"\"\"Crea una función de corriente inyectada con n pulsos cuadrados.\n",
    "\n",
    "  Args:\n",
    "    t (ndarray): vector 1D de tiempos (ms), estrictamente creciente.\n",
    "    n (int): número de pulsos.\n",
    "    amp (float): amplitud de cada pulso, en uA/cm^2.\n",
    "    dur (float): duración de cada pulso, en ms.\n",
    "    interval (float): intervalo entre el inicio de un pulso y el siguiente, en ms.\n",
    "    start (float): tiempo inicial del primer pulso, en ms.\n",
    "\n",
    "  Returns:\n",
    "    function: una función I(t) que devuelve la corriente inyectada I(t).\n",
    "  \"\"\"\n",
    "  # Tiempos de inicio de cada pulso\n",
    "  inicios = start + np.arange(n) * interval\n",
    "\n",
    "  def I(t):\n",
    "    corriente = np.zeros_like(t, dtype=float)\n",
    "    for inicio in inicios:\n",
    "      corriente += amp * ((t > inicio) & (t <= inicio + dur))\n",
    "    return corriente\n",
    "\n",
    "  return I\n",
    "\n",
    "def contar_potenciales_de_accion(mascara):\n",
    "  \"\"\"Cuenta los potenciales de acción a partir de una máscara booleana.\n",
    "\n",
    "  Args:\n",
    "    mascara (ndarray): máscara booleana con True en cada cruce ascendente.\n",
    "\n",
    "  Returns:\n",
    "    int: número de potenciales de acción detectados.\n",
    "  \"\"\"\n",
    "  return np.sum(mascara)\n",
    "\n",
    "def medir_isis(mascara):\n",
    "  ix, = np.nonzero(mascara)\n",
    "  return np.array([(ix[i+1]-ix[i])/10 for i in range(len(ix)-1)])"
   ]
  },
  {
   "cell_type": "markdown",
   "metadata": {},
   "source": [
    "### Funciones de graficado"
   ]
  },
  {
   "cell_type": "code",
   "execution_count": 3,
   "metadata": {},
   "outputs": [],
   "source": [
    "def plotLIF(voltajes, espigas, t, corriente):\n",
    "    plt.figure(figsize=(10,5))\n",
    "    gs = gridspec.GridSpec(3, 1,height_ratios=[1,4,1])\n",
    "    \n",
    "    plt.subplot(gs[0])\n",
    "    plt.ylim(0.2,0.3)\n",
    "    plt.ylabel(u'Espigas')\n",
    "    plt.plot(t,0.25*espigas,'*')\n",
    "    plt.subplot(gs[1])\n",
    "    plt.ylabel(u'Voltaje (sub-umbral)')\n",
    "    plt.xlabel(u'tiempo')\n",
    "    plt.ylim(-80,theta+20)\n",
    "    plt.plot(t,[theta]*len(t),'k-')\n",
    "    plt.plot(t,voltajes)\n",
    "    plt.subplot(gs[2])\n",
    "    plt.ylim(-55,55)\n",
    "    plt.ylabel(u'Corriente inyectada')\n",
    "    plt.plot(t,corriente,'r-')"
   ]
  },
  {
   "cell_type": "markdown",
   "metadata": {},
   "source": [
    "## Definición del modelo"
   ]
  },
  {
   "cell_type": "code",
   "execution_count": 4,
   "metadata": {},
   "outputs": [],
   "source": [
    "#Constantes del modelo\n",
    "E_L=-65.0 #potencial de reposo\n",
    "tau=5  #constante de tiempo\n",
    "theta=-55.0  #umbral de disparo\n",
    "dt=0.1    #paso de la integración\n",
    "dt_1=int(1/dt)  # inverso del paso de integración, útil para algunas cuentas\n",
    "tiempoMax=300\n",
    "iteraciones=int(tiempoMax/dt)"
   ]
  },
  {
   "cell_type": "markdown",
   "metadata": {},
   "source": [
    "### Definimos las ecuaciones del modelo"
   ]
  },
  {
   "cell_type": "code",
   "execution_count": 43,
   "metadata": {},
   "outputs": [],
   "source": [
    "def correrLIF(t, pulsos):\n",
    "  voltajes = np.zeros(len(t))\n",
    "  espigas = np.zeros(len(t))\n",
    "  corriente = np.zeros(len(t))\n",
    "  V = E_L #comenzamos en el resting state\n",
    "  for i,t_step in enumerate(t):\n",
    "    s = V > theta  #cruzamos el umbral?\n",
    "    V = s*E_L + (1-s)*(V-dt/tau*((V-E_L)-pulsos[i]))\n",
    "    voltajes[i]=V\n",
    "    espigas[i]=s\n",
    "    corriente[i]=pulsos[i]\n",
    "  return voltajes, espigas, t, corriente "
   ]
  },
  {
   "cell_type": "markdown",
   "metadata": {},
   "source": [
    "## Simulación del modelo"
   ]
  },
  {
   "cell_type": "markdown",
   "metadata": {},
   "source": [
    "#### Corriente externa constante"
   ]
  },
  {
   "cell_type": "code",
   "execution_count": 6,
   "metadata": {},
   "outputs": [
    {
     "data": {
      "application/vnd.jupyter.widget-view+json": {
       "model_id": "5dfcc04df1ed403ab28d293c8767e622",
       "version_major": 2,
       "version_minor": 0
      },
      "text/plain": [
       "interactive(children=(FloatSlider(value=15.0, description='amp1', max=50.0, min=-50.0), IntSlider(value=2, des…"
      ]
     },
     "metadata": {},
     "output_type": "display_data"
    }
   ],
   "source": [
    "@widgets.interact(amp1=(-50, 50, 0.1), dur1=(0, 100, 1), amp2=(-50, 50, 0.1), dur2=(0, 100, 1), sep=(0, 200, 1))\n",
    "def plot_I_inj(amp1=15, dur1=2, amp2=15, dur2=0, sep=50):\n",
    "  t = np.arange(0, 300, 0.1)\n",
    "  I = I_inj(t, amp1, dur1, amp2, dur2, sep)\n",
    "  voltajes, espigas, t, corriente=correrLIF(I(t))\n",
    "  plotLIF(voltajes, espigas, t, corriente)"
   ]
  },
  {
   "cell_type": "markdown",
   "metadata": {},
   "source": [
    "#### Suma de pulsos de corriente"
   ]
  },
  {
   "cell_type": "code",
   "execution_count": 7,
   "metadata": {},
   "outputs": [
    {
     "data": {
      "application/vnd.jupyter.widget-view+json": {
       "model_id": "8f11ddb97fb34b69a8567496c9b4da00",
       "version_major": 2,
       "version_minor": 0
      },
      "text/plain": [
       "interactive(children=(IntSlider(value=5, description='n', max=10), IntSlider(value=2, description='dur', max=1…"
      ]
     },
     "metadata": {},
     "output_type": "display_data"
    }
   ],
   "source": [
    "@widgets.interact(n=(0, 10), dur=(0, 10), amp=(-15, 15, 0.1), dur2=(0, 100, 1), sep=(0, 100, 1))\n",
    "def plot_I_train(n=5, dur=2, amp=15, sep=3):\n",
    "  t = np.arange(0, 300, 0.1)\n",
    "  I = I_train(t, n, amp, dur, sep)\n",
    "  voltajes, espigas, t, corriente=correrLIF(I(t))\n",
    "  plotLIF(voltajes, espigas, t, corriente)"
   ]
  },
  {
   "cell_type": "markdown",
   "metadata": {},
   "source": [
    "## Modelando el ruido en la entrada"
   ]
  },
  {
   "cell_type": "markdown",
   "metadata": {},
   "source": [
    "### Ruido gaussiano en la corriente de entrada\n",
    "¿Cómo es el patrón de descarga si la corriente de entrada tiene ruido gaussiano?\n",
    "El parametro <b>media</b> controla la amplitud promedio del ruido, y el <b>desvio</b> controla la variabilidad. Al aumentar la varibilidad, ¿qué pasa con la respuesta de la neurona?\n",
    "\n",
    "Experimentar:\n",
    "<ol>\n",
    "<li> Aumentando la variabilidad.</li>\n",
    "<li> Aumentando la amplitud (dejando la variabilidad fija, y no muy alta).</li>\n",
    "<li> Aumentando la amplitud de la entrada de base (RI_ext).</li>\n",
    "\n",
    "</ol>\n"
   ]
  },
  {
   "cell_type": "code",
   "execution_count": 8,
   "metadata": {},
   "outputs": [
    {
     "data": {
      "application/vnd.jupyter.widget-view+json": {
       "model_id": "403b0bf01e444e70997b58b66b2ad90f",
       "version_major": 2,
       "version_minor": 0
      },
      "text/plain": [
       "interactive(children=(FloatSlider(value=8.0, description='amp', max=15.0, min=-15.0), FloatSlider(value=4.0, d…"
      ]
     },
     "metadata": {},
     "output_type": "display_data"
    }
   ],
   "source": [
    "def I_inj_ruido(t, amp=8, sigma=4):\n",
    "  tmax = np.max(t)\n",
    "\n",
    "  base = amp * (t > 0)\n",
    "  vals = base + np.random.normal(0.0, sigma, size=t.shape)\n",
    "\n",
    "  def I(tq):\n",
    "    return np.interp(tq, t, vals)\n",
    "\n",
    "  return I\n",
    "\n",
    "@widgets.interact(amp=(-15, 15, 0.1), sigma=(0, 10, 0.1))\n",
    "def plot_I_inj_ruido(amp=8, sigma=4):\n",
    "  t = np.arange(0, 300, 0.1)\n",
    "  I = I_inj_ruido(t, amp, sigma)\n",
    "  \n",
    "  plt.subplot(2,1,1)\n",
    "  plt.hist(I(t))\n",
    "  plt.xlabel(u'Amplitud de la señal de entrada')\n",
    "  plt.title(u'Histograma de la señal de entrada')\n",
    "  plt.subplot(2,1,2)\n",
    "  plt.plot(t, I(t))\n",
    "  plt.show()"
   ]
  },
  {
   "cell_type": "markdown",
   "metadata": {},
   "source": [
    "Corremos y ploteamos el resultado"
   ]
  },
  {
   "cell_type": "code",
   "execution_count": 12,
   "metadata": {},
   "outputs": [
    {
     "data": {
      "application/vnd.jupyter.widget-view+json": {
       "model_id": "e5ae12d73f5c483a9af100a237a04de9",
       "version_major": 2,
       "version_minor": 0
      },
      "text/plain": [
       "interactive(children=(FloatSlider(value=8.0, description='amp', max=15.0, min=-15.0), FloatSlider(value=4.0, d…"
      ]
     },
     "metadata": {},
     "output_type": "display_data"
    }
   ],
   "source": [
    "@widgets.interact(amp=(-15, 15, 0.1), sigma=(0, 10, 0.1))\n",
    "def plot_I_inj_ruido(amp=8, sigma=4):\n",
    "  t = np.arange(0, 300, 0.1)\n",
    "  I = I_inj_ruido(t, amp, sigma)\n",
    "  \n",
    "  voltajes, espigas, t, corriente=correrLIF(I(t))\n",
    "  plotLIF(voltajes, espigas, t, corriente)"
   ]
  },
  {
   "cell_type": "markdown",
   "metadata": {},
   "source": [
    "### Relación entrada vs. frecuencia de disparo (con ruido)\n",
    "\n",
    "En ausencia de ruido, la relación entre amplitud de la entrada y frecuencia de disparo es similar a la que vimos en el práctico pasado. ¿Se modifica esa relación ante el ruido?\n",
    "\n",
    "Probar:\n",
    "<ol>\n",
    "<li>La relación sin ruido (amplitud 0, variabilidad 0).</li>\n",
    "<li>Aumentar la variabilidad (correr varias veces).</li>\n",
    "<li>Aumentar la amplitud promedio del ruido (corre varias veces)</li>\n",
    "</ol>"
   ]
  },
  {
   "cell_type": "code",
   "execution_count": 21,
   "metadata": {},
   "outputs": [
    {
     "name": "stdout",
     "output_type": "stream",
     "text": [
      "Help on function contar_potenciales_de_accion in module __main__:\n",
      "\n",
      "contar_potenciales_de_accion(mascara)\n",
      "    Cuenta los potenciales de acción a partir de una máscara booleana.\n",
      "    \n",
      "    Args:\n",
      "      mascara (ndarray): máscara booleana con True en cada cruce ascendente.\n",
      "    \n",
      "    Returns:\n",
      "      int: número de potenciales de acción detectados.\n",
      "\n"
     ]
    }
   ],
   "source": [
    "help(contar_potenciales_de_accion)"
   ]
  },
  {
   "cell_type": "code",
   "execution_count": 50,
   "metadata": {},
   "outputs": [
    {
     "data": {
      "application/vnd.jupyter.widget-view+json": {
       "model_id": "b74e4f9384c44f97947016de2706fe05",
       "version_major": 2,
       "version_minor": 0
      },
      "text/plain": [
       "interactive(children=(FloatSlider(value=4.0, description='sigma', max=30.0), Output()), _dom_classes=('widget-…"
      ]
     },
     "metadata": {},
     "output_type": "display_data"
    }
   ],
   "source": [
    "t = np.arange(0.0, 200.0, 0.1)\n",
    "\n",
    "@widgets.interact(sigma=(0, 30, 0.1))\n",
    "def simulate(sigma = 4.0):\n",
    "  corrientes = np.arange(0, 12, 0.1)\n",
    "  frecuencias = np.zeros_like(corrientes)\n",
    "  for i, amp in enumerate(corrientes):\n",
    "    I = I_inj_ruido(t, amp, sigma)\n",
    "    voltajes, espigas, _, corriente = correrLIF(t, I(t))\n",
    "    frecuencias[i] = contar_potenciales_de_accion(espigas)\n",
    "    \n",
    "  plt.scatter(corrientes, frecuencias)\n",
    "  plt.show()"
   ]
  },
  {
   "cell_type": "code",
   "execution_count": null,
   "metadata": {},
   "outputs": [],
   "source": [
    "media=0 # amplitud del ruido\n",
    "desvio=0 #variabilidad del ruido\n",
    "\n",
    "def calcularFrec(espigas):\n",
    "    #en qué momento cruza el valor de 10 mV\n",
    "    indEspigas,=np.nonzero(espigas)\n",
    "    #en qué posición de tiempo pasa eso?\n",
    "    #frecuencia promedio de disparo, como inverso de el ISI\n",
    "    if len(indEspigas)>1:\n",
    "        return np.mean([10000.0/(indEspigas[i+1]-indEspigas[i]) for i in range(len(indEspigas)-1)])\n",
    "    else:\n",
    "        return 0\n",
    "\n",
    "    \n",
    "# Vamos a simular va\n",
    "#rango de amplitudes de corriente\n",
    "tiempoMax=2000\n",
    "rangoCorrientes=np.arange(0,12,.1)\n",
    "frecuencia=[]\n",
    "for amp in rangoCorrientes:\n",
    "    corrR=setRuido(amp,media,desvio)\n",
    "\n",
    "    voltajes, espigas, t, corriente=correrLIF2(tiempoMax)\n",
    "    frecuencia.append(sum(espigas))\n",
    "    \n",
    "plt.figure(figsize=(8, 6))\n",
    "plt.plot(rangoCorrientes,frecuencia)\n",
    "plt.xlabel(u'Amplitud de \"corriente\" inyectada (RI_ext)')\n",
    "plt.ylabel(u'Frecuencia promedio de disparo (Hz)')\n",
    "plt.title(u'Relación entrada - salida')\n",
    "plt.show()\n",
    "\n"
   ]
  },
  {
   "cell_type": "markdown",
   "metadata": {},
   "source": [
    "### Estadística de disparo en la entrada \n",
    "Ya vimos la frecuencia promedio en función de la entrada ruidosa. Pero se observa ruido en la salida. La frecuencia parece no ser constante para cada valor de entrada. ¿Qué pasa con los intervalos entre espigas? ¿Cómo se ve la distribución de intervalos entre espigas, y cómo la afecta la amplitud y la variabilidad del ruido en la entrada?\n",
    "¿Es una distribución realista? (ver figuras 3.5, 3.7 y 3.8 del Trappenberg).\n",
    "\n",
    "<ul>\n",
    "<li>Jugar con los parámetros de la entrada, RI_ext y amplitud y variabilidad del ruido</li>\n",
    "<li>¿Qué pasa si RI_ext es alto y la amplitud es 0 y la variabilidad baja?</li>\n",
    "<li>Observar la forma del histograma</li>\n",
    "<li>Mirar el coeficiente de variación (último número que sale debajo de la gráfica)</li>\n",
    "</ul>\n"
   ]
  },
  {
   "cell_type": "code",
   "execution_count": 53,
   "metadata": {},
   "outputs": [
    {
     "data": {
      "application/vnd.jupyter.widget-view+json": {
       "model_id": "effcc40c8a4b45afaff9d231a35e753b",
       "version_major": 2,
       "version_minor": 0
      },
      "text/plain": [
       "interactive(children=(FloatSlider(value=9.0, description='amp', max=12.0), FloatSlider(value=4.0, description=…"
      ]
     },
     "metadata": {},
     "output_type": "display_data"
    }
   ],
   "source": [
    "@widgets.interact(amp=(0,12,0.1), sigma=(0, 30, 0.1))\n",
    "def simulate(amp=9, sigma=4.0):\n",
    "  t = np.arange(0.0, 20_000.0, 0.1)\n",
    "  I = I_inj_ruido(t, amp, sigma)\n",
    "  voltajes, espigas, t, corriente = correrLIF(t, I(t))\n",
    "  \n",
    "  def medir_isis(mascara):\n",
    "    ix, = np.nonzero(mascara)\n",
    "    return np.array([(ix[i+1]-ix[i])/10 for i in range(len(ix)-1)])\n",
    "    \n",
    "  ISIs=medir_isis(espigas)\n",
    "  \n",
    "  plt.figure(figsize=(8, 6))\n",
    "  plt.hist(ISIs,20)\n",
    "  plt.xlabel('Intervalo entre espigas (ms)')\n",
    "  plt.ylabel('Frecuencia')\n",
    "  plt.title('Histograma del intervalo entre espigas')\n",
    "  plt.show()"
   ]
  },
  {
   "cell_type": "markdown",
   "metadata": {},
   "source": [
    "## Una población de neuronas LIF"
   ]
  },
  {
   "cell_type": "code",
   "execution_count": 38,
   "metadata": {},
   "outputs": [
    {
     "data": {
      "text/plain": [
       "[<matplotlib.lines.Line2D at 0x13f340e50>]"
      ]
     },
     "execution_count": 38,
     "metadata": {},
     "output_type": "execute_result"
    },
    {
     "data": {
      "image/png": "[encoded data removed]",
      "text/plain": [
       "<Figure size 640x480 with 1 Axes>"
      ]
     },
     "metadata": {},
     "output_type": "display_data"
    }
   ],
   "source": [
    "tiempoMax=400 #200 milisegundos. \n",
    "numNeuronas=500 # si se vuelve muy lento el cálculo, se puede bajar a 100 o 500\n",
    "\n",
    "media=6 #amplitud del ruido\n",
    "desvio=4#variabilidad del ruido\n",
    "RI_ext=8 # corriente de base\n",
    "\n",
    "\n",
    "RI_ext2=20 # salto en la amplitud de la corriente base\n",
    "\n",
    "neuronas=np.zeros([numNeuronas,int(tiempoMax/dt)])\n",
    "voltajes=np.zeros([numNeuronas,int(tiempoMax/dt)])\n",
    "\n",
    "\n",
    "t = np.arange(0.0, 400, 0.1)\n",
    "for i in range(len(neuronas)):\n",
    "    v, espigas, t, corriente = correrLIF(I(t))\n",
    "    voltajes[i]=v\n",
    "    neuronas[i]=espigas\n",
    "    ISIs=medir_isis(espigas)\n",
    "\n",
    "\n",
    "espigasPobl=sum(neuronas)\n",
    "frecPobl=[sum(espigasPobl[i*dt_1:(i+1)*dt_1]) for i in range(int(len( espigasPobl )/dt_1))]\n",
    "#frecPobl=[sum(espigasPobl[i*dt_1:(i+1)*dt_1])]\n",
    "plt.plot(np.sum(neuronas,axis=0))"
   ]
  },
  {
   "cell_type": "code",
   "execution_count": 39,
   "metadata": {},
   "outputs": [
    {
     "data": {
      "image/png": "[encoded data removed]",
      "text/plain": [
       "<Figure size 800x600 with 1 Axes>"
      ]
     },
     "metadata": {},
     "output_type": "display_data"
    }
   ],
   "source": [
    "#len(espigasPobl)\n",
    "plt.figure(figsize=(8, 6))\n",
    "plt.plot(frecPobl)\n",
    "plt.ylabel(u'Numero de neuronas disparando en 1 ms')\n",
    "plt.xlabel(u'tiempo (ms)')\n",
    "plt.show()"
   ]
  },
  {
   "cell_type": "markdown",
   "metadata": {},
   "source": [
    "# Modelo de respusta a espiga (LIF)\n",
    "Aquí veremos la respuesta de una neurona a muchas espigas presinápticas aleatorias. Vamos a seguir las ecuaciones del Trappenberg, capítulo 3.1.4\n"
   ]
  },
  {
   "cell_type": "code",
   "execution_count": null,
   "metadata": {},
   "outputs": [],
   "source": [
    "#Constantes del modelo\n",
    "E_L=-65.0 #potencial de reposo\n",
    "tau=10.0  #constante de tiempo\n",
    "theta=-55.0  #umbral de disparo"
   ]
  },
  {
   "cell_type": "code",
   "execution_count": null,
   "metadata": {},
   "outputs": [],
   "source": [
    "plt.plot(ISIs/dt_1)"
   ]
  },
  {
   "cell_type": "code",
   "execution_count": null,
   "metadata": {},
   "outputs": [],
   "source": [
    "tiempoMax/2"
   ]
  },
  {
   "cell_type": "code",
   "execution_count": null,
   "metadata": {},
   "outputs": [],
   "source": [
    "a,=np.nonzero(espigas)\n",
    "len(a)"
   ]
  }
 ],
 "metadata": {
  "kernelspec": {
   "display_name": "Python 3 (ipykernel)",
   "language": "python",
   "name": "python3"
  },
  "language_info": {
   "codemirror_mode": {
    "name": "ipython",
    "version": 3
   },
   "file_extension": ".py",
   "mimetype": "text/x-python",
   "name": "python",
   "nbconvert_exporter": "python",
   "pygments_lexer": "ipython3",
   "version": "3.10.18"
  }
 },
 "nbformat": 4,
 "nbformat_minor": 4
}
